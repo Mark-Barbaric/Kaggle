{
 "cells": [
  {
   "cell_type": "markdown",
   "metadata": {},
   "source": [
    "# Library Import"
   ]
  },
  {
   "cell_type": "code",
   "execution_count": 34,
   "metadata": {},
   "outputs": [],
   "source": [
    "import numpy as np\n",
    "import pandas as pd\n",
    "import seaborn as sb\n",
    "import matplotlib.pyplot as plt\n",
    "import matplotlib.ticker as tkr\n",
    "import statsmodels.api as sm"
   ]
  },
  {
   "cell_type": "markdown",
   "metadata": {},
   "source": [
    "# Dataset Import\n",
    "\n",
    "* Name: Song Popularity Dataset\n",
    "* Source: kaggle\n",
    "* Url: https://www.kaggle.com/datasets/yasserh/song-popularity-dataset\n",
    "\n",
    "Humans have greatly associated themselves with Songs & Music. It can improve mood, decrease pain and anxiety, and facilitate opportunities for emotional expression. Research suggests that music can benefit our physical and mental health in numerous ways.\n",
    "\n",
    "Lately, multiple studies have been carried out to understand songs & it's popularity based on certain factors. Such song samples are broken down & their parameters are recorded to tabulate. Predicting the Song Popularity is the main aim.\n",
    "\n",
    "The project is simple yet challenging, to predict the song popularity based on energy, acoustics, instumentalness, liveness, dancibility, etc. The dataset is large & it's complexity arises due to the fact that it has strong multicollinearity. Can you overcome these obstacles & build a decent predictive model?"
   ]
  },
  {
   "cell_type": "code",
   "execution_count": 35,
   "metadata": {},
   "outputs": [
    {
     "data": {
      "text/html": [
       "<div>\n",
       "<style scoped>\n",
       "    .dataframe tbody tr th:only-of-type {\n",
       "        vertical-align: middle;\n",
       "    }\n",
       "\n",
       "    .dataframe tbody tr th {\n",
       "        vertical-align: top;\n",
       "    }\n",
       "\n",
       "    .dataframe thead th {\n",
       "        text-align: right;\n",
       "    }\n",
       "</style>\n",
       "<table border=\"1\" class=\"dataframe\">\n",
       "  <thead>\n",
       "    <tr style=\"text-align: right;\">\n",
       "      <th></th>\n",
       "      <th>song_name</th>\n",
       "      <th>song_popularity</th>\n",
       "      <th>song_duration_ms</th>\n",
       "      <th>acousticness</th>\n",
       "      <th>danceability</th>\n",
       "      <th>energy</th>\n",
       "      <th>instrumentalness</th>\n",
       "      <th>key</th>\n",
       "      <th>liveness</th>\n",
       "      <th>loudness</th>\n",
       "      <th>audio_mode</th>\n",
       "      <th>speechiness</th>\n",
       "      <th>tempo</th>\n",
       "      <th>time_signature</th>\n",
       "      <th>audio_valence</th>\n",
       "    </tr>\n",
       "  </thead>\n",
       "  <tbody>\n",
       "    <tr>\n",
       "      <th>0</th>\n",
       "      <td>Boulevard of Broken Dreams</td>\n",
       "      <td>73</td>\n",
       "      <td>262333</td>\n",
       "      <td>0.005520</td>\n",
       "      <td>0.496</td>\n",
       "      <td>0.682</td>\n",
       "      <td>0.000029</td>\n",
       "      <td>8</td>\n",
       "      <td>0.0589</td>\n",
       "      <td>-4.095</td>\n",
       "      <td>1</td>\n",
       "      <td>0.0294</td>\n",
       "      <td>167.060</td>\n",
       "      <td>4</td>\n",
       "      <td>0.474</td>\n",
       "    </tr>\n",
       "    <tr>\n",
       "      <th>1</th>\n",
       "      <td>In The End</td>\n",
       "      <td>66</td>\n",
       "      <td>216933</td>\n",
       "      <td>0.010300</td>\n",
       "      <td>0.542</td>\n",
       "      <td>0.853</td>\n",
       "      <td>0.000000</td>\n",
       "      <td>3</td>\n",
       "      <td>0.1080</td>\n",
       "      <td>-6.407</td>\n",
       "      <td>0</td>\n",
       "      <td>0.0498</td>\n",
       "      <td>105.256</td>\n",
       "      <td>4</td>\n",
       "      <td>0.370</td>\n",
       "    </tr>\n",
       "    <tr>\n",
       "      <th>2</th>\n",
       "      <td>Seven Nation Army</td>\n",
       "      <td>76</td>\n",
       "      <td>231733</td>\n",
       "      <td>0.008170</td>\n",
       "      <td>0.737</td>\n",
       "      <td>0.463</td>\n",
       "      <td>0.447000</td>\n",
       "      <td>0</td>\n",
       "      <td>0.2550</td>\n",
       "      <td>-7.828</td>\n",
       "      <td>1</td>\n",
       "      <td>0.0792</td>\n",
       "      <td>123.881</td>\n",
       "      <td>4</td>\n",
       "      <td>0.324</td>\n",
       "    </tr>\n",
       "    <tr>\n",
       "      <th>3</th>\n",
       "      <td>By The Way</td>\n",
       "      <td>74</td>\n",
       "      <td>216933</td>\n",
       "      <td>0.026400</td>\n",
       "      <td>0.451</td>\n",
       "      <td>0.970</td>\n",
       "      <td>0.003550</td>\n",
       "      <td>0</td>\n",
       "      <td>0.1020</td>\n",
       "      <td>-4.938</td>\n",
       "      <td>1</td>\n",
       "      <td>0.1070</td>\n",
       "      <td>122.444</td>\n",
       "      <td>4</td>\n",
       "      <td>0.198</td>\n",
       "    </tr>\n",
       "    <tr>\n",
       "      <th>4</th>\n",
       "      <td>How You Remind Me</td>\n",
       "      <td>56</td>\n",
       "      <td>223826</td>\n",
       "      <td>0.000954</td>\n",
       "      <td>0.447</td>\n",
       "      <td>0.766</td>\n",
       "      <td>0.000000</td>\n",
       "      <td>10</td>\n",
       "      <td>0.1130</td>\n",
       "      <td>-5.065</td>\n",
       "      <td>1</td>\n",
       "      <td>0.0313</td>\n",
       "      <td>172.011</td>\n",
       "      <td>4</td>\n",
       "      <td>0.574</td>\n",
       "    </tr>\n",
       "  </tbody>\n",
       "</table>\n",
       "</div>"
      ],
      "text/plain": [
       "                    song_name  song_popularity  song_duration_ms  \\\n",
       "0  Boulevard of Broken Dreams               73            262333   \n",
       "1                  In The End               66            216933   \n",
       "2           Seven Nation Army               76            231733   \n",
       "3                  By The Way               74            216933   \n",
       "4           How You Remind Me               56            223826   \n",
       "\n",
       "   acousticness  danceability  energy  instrumentalness  key  liveness  \\\n",
       "0      0.005520         0.496   0.682          0.000029    8    0.0589   \n",
       "1      0.010300         0.542   0.853          0.000000    3    0.1080   \n",
       "2      0.008170         0.737   0.463          0.447000    0    0.2550   \n",
       "3      0.026400         0.451   0.970          0.003550    0    0.1020   \n",
       "4      0.000954         0.447   0.766          0.000000   10    0.1130   \n",
       "\n",
       "   loudness  audio_mode  speechiness    tempo  time_signature  audio_valence  \n",
       "0    -4.095           1       0.0294  167.060               4          0.474  \n",
       "1    -6.407           0       0.0498  105.256               4          0.370  \n",
       "2    -7.828           1       0.0792  123.881               4          0.324  \n",
       "3    -4.938           1       0.1070  122.444               4          0.198  \n",
       "4    -5.065           1       0.0313  172.011               4          0.574  "
      ]
     },
     "execution_count": 35,
     "metadata": {},
     "output_type": "execute_result"
    }
   ],
   "source": [
    "song_df = pd.read_csv('song_data.csv')\n",
    "song_df.head()"
   ]
  },
  {
   "cell_type": "markdown",
   "metadata": {},
   "source": [
    "# 1. About the data\n",
    "\n",
    "The goal of the dataset is to predict the popularity of a song based on qualitative and quantitative characteristics of the song, so song_popularity will be used as the y_column."
   ]
  },
  {
   "cell_type": "code",
   "execution_count": 36,
   "metadata": {},
   "outputs": [],
   "source": [
    "Y_COLUMN = 'song_popularity'"
   ]
  },
  {
   "cell_type": "markdown",
   "metadata": {},
   "source": [
    "There are a few columns whose definition weren't immediately obvious, so I referred to Spotify's API in order to get more clarification as to what the data and values. represent.\n",
    "\n",
    "https://developer.spotify.com/documentation/web-api/reference/get-audio-features"
   ]
  },
  {
   "cell_type": "markdown",
   "metadata": {},
   "source": [
    "* acousticness: A confidence measure from 0.0 to 1.0 of whether the track is acoustic. 1.0 represents high confidence the track is acoustic.\n",
    "* dancability: Danceability describes how suitable a track is for dancing based on a combination of musical elements including tempo, rhythm stability, beat strength, and overall regularity. A value of 0.0 is least danceable and 1.0 is most danceable.\n",
    "* energy: Energy is a measure from 0.0 to 1.0 and represents a perceptual measure of intensity and activity. Typically, energetic tracks feel fast, loud, and noisy. For example, death metal has high energy, while a Bach prelude scores low on the scale. Perceptual features contributing to this attribute include dynamic range, perceived loudness, timbre, onset rate, and general entropy.\n",
    "* instrumentalness: Predicts whether a track contains no vocals. \"Ooh\" and \"aah\" sounds are treated as instrumental in this context. Rap or spoken word tracks are clearly \"vocal\". The closer the instrumentalness value is to 1.0, the greater likelihood the track contains no vocal content. Values above 0.5 are intended to represent instrumental tracks, but confidence is higher as the value approaches 1.0.\n",
    "* liveness: Detects the presence of an audience in the recording. Higher liveness values represent an increased probability that the track was performed live. A value above 0.8 provides strong likelihood that the track is live.\n",
    "* audio_mode: Mode indicates the modality (major or minor) of a track, the type of scale from which its melodic content is derived. Major is represented by 1 and minor is 0.\n",
    "* audio_valence: A measure from 0.0 to 1.0 describing the musical positiveness conveyed by a track. Tracks with high valence sound more positive (e.g. happy, cheerful, euphoric), while tracks with low valence sound more negative (e.g. sad, depressed, angry).\n",
    "* speechiness: Speechiness detects the presence of spoken words in a track. The more exclusively speech-like the recording (e.g. talk show, audio book, poetry), the closer to 1.0 the attribute value. Values above 0.66 describe tracks that are probably made entirely of spoken words. Values between 0.33 and 0.66 describe tracks that may contain both music and speech, either in sections or layered, including such cases as rap music. Values below 0.33 most likely represent music and other non-speech-like tracks."
   ]
  },
  {
   "cell_type": "markdown",
   "metadata": {},
   "source": [
    "Given the above descriptions, and the hint given in the data descriptions, it is likely that a number of these variables will be correlated (audio_mode and audio_valence, as the Major scale is generally considered to be used to \"happy\" music and vice versa). I will conduct an analysis of this in order to attempt to identify any colinearity between variables prior to performing regression."
   ]
  },
  {
   "cell_type": "markdown",
   "metadata": {},
   "source": [
    "## 1.1 missing data and preprocessing\n",
    "\n",
    "Goal of this section is to perform a general analysis of the dataset, including checks for NA and / or valid data types."
   ]
  },
  {
   "cell_type": "code",
   "execution_count": 37,
   "metadata": {},
   "outputs": [
    {
     "data": {
      "text/plain": [
       "song_name           0\n",
       "song_popularity     0\n",
       "song_duration_ms    0\n",
       "acousticness        0\n",
       "danceability        0\n",
       "energy              0\n",
       "instrumentalness    0\n",
       "key                 0\n",
       "liveness            0\n",
       "loudness            0\n",
       "audio_mode          0\n",
       "speechiness         0\n",
       "tempo               0\n",
       "time_signature      0\n",
       "audio_valence       0\n",
       "dtype: int64"
      ]
     },
     "execution_count": 37,
     "metadata": {},
     "output_type": "execute_result"
    }
   ],
   "source": [
    "song_df.isna().sum()"
   ]
  },
  {
   "cell_type": "code",
   "execution_count": 38,
   "metadata": {},
   "outputs": [
    {
     "data": {
      "text/plain": [
       "song_name            object\n",
       "song_popularity       int64\n",
       "song_duration_ms      int64\n",
       "acousticness        float64\n",
       "danceability        float64\n",
       "energy              float64\n",
       "instrumentalness    float64\n",
       "key                   int64\n",
       "liveness            float64\n",
       "loudness            float64\n",
       "audio_mode            int64\n",
       "speechiness         float64\n",
       "tempo               float64\n",
       "time_signature        int64\n",
       "audio_valence       float64\n",
       "dtype: object"
      ]
     },
     "execution_count": 38,
     "metadata": {},
     "output_type": "execute_result"
    }
   ],
   "source": [
    "song_df.dtypes"
   ]
  },
  {
   "cell_type": "markdown",
   "metadata": {},
   "source": [
    "All of the dtypes are in line with what is expected, with song name being strings, and the rest being int64 or float64 values."
   ]
  },
  {
   "cell_type": "markdown",
   "metadata": {},
   "source": [
    "## 1.2 song_popularity data distribution\n",
    "\n",
    "Will do a quick analysis of the song_popularity column, which represents the y value of the regression."
   ]
  },
  {
   "cell_type": "code",
   "execution_count": 39,
   "metadata": {},
   "outputs": [],
   "source": [
    "song_popularity = song_df[Y_COLUMN]"
   ]
  },
  {
   "cell_type": "code",
   "execution_count": 40,
   "metadata": {},
   "outputs": [
    {
     "data": {
      "text/plain": [
       "count    18835.000000\n",
       "mean        52.991877\n",
       "std         21.905654\n",
       "min          0.000000\n",
       "25%         40.000000\n",
       "50%         56.000000\n",
       "75%         69.000000\n",
       "max        100.000000\n",
       "Name: song_popularity, dtype: float64"
      ]
     },
     "execution_count": 40,
     "metadata": {},
     "output_type": "execute_result"
    }
   ],
   "source": [
    "song_popularity.describe()"
   ]
  },
  {
   "cell_type": "code",
   "execution_count": 41,
   "metadata": {},
   "outputs": [
    {
     "data": {
      "text/plain": [
       "<Axes: xlabel='song_popularity', ylabel='Count'>"
      ]
     },
     "execution_count": 41,
     "metadata": {},
     "output_type": "execute_result"
    },
    {
     "data": {
      "image/png": "[encoded data removed]",
      "text/plain": [
       "<Figure size 800x600 with 1 Axes>"
      ]
     },
     "metadata": {},
     "output_type": "display_data"
    }
   ],
   "source": [
    "plt.figure(figsize=(8, 6))\n",
    "sb.histplot(song_popularity, color='b', kde=True)"
   ]
  },
  {
   "cell_type": "markdown",
   "metadata": {},
   "source": [
    "The above distribution indicates a slight negative skew to the song_popularity, which a larger proportion of datapoints being over the 50% threshold of song popularity."
   ]
  },
  {
   "cell_type": "markdown",
   "metadata": {},
   "source": [
    "## 1.3 Data analysis\n",
    "\n",
    "Now I am going to analysis the rest of the dataset excluding song_popularity (which is the y axis), as well as song_name, as this isn't relevant in the regression."
   ]
  },
  {
   "cell_type": "code",
   "execution_count": 42,
   "metadata": {},
   "outputs": [
    {
     "data": {
      "text/html": [
       "<div>\n",
       "<style scoped>\n",
       "    .dataframe tbody tr th:only-of-type {\n",
       "        vertical-align: middle;\n",
       "    }\n",
       "\n",
       "    .dataframe tbody tr th {\n",
       "        vertical-align: top;\n",
       "    }\n",
       "\n",
       "    .dataframe thead th {\n",
       "        text-align: right;\n",
       "    }\n",
       "</style>\n",
       "<table border=\"1\" class=\"dataframe\">\n",
       "  <thead>\n",
       "    <tr style=\"text-align: right;\">\n",
       "      <th></th>\n",
       "      <th>song_duration_ms</th>\n",
       "      <th>acousticness</th>\n",
       "      <th>danceability</th>\n",
       "      <th>energy</th>\n",
       "      <th>instrumentalness</th>\n",
       "      <th>key</th>\n",
       "      <th>liveness</th>\n",
       "      <th>loudness</th>\n",
       "      <th>audio_mode</th>\n",
       "      <th>speechiness</th>\n",
       "      <th>tempo</th>\n",
       "      <th>time_signature</th>\n",
       "      <th>audio_valence</th>\n",
       "    </tr>\n",
       "  </thead>\n",
       "  <tbody>\n",
       "    <tr>\n",
       "      <th>0</th>\n",
       "      <td>262333</td>\n",
       "      <td>0.005520</td>\n",
       "      <td>0.496</td>\n",
       "      <td>0.682</td>\n",
       "      <td>0.000029</td>\n",
       "      <td>8</td>\n",
       "      <td>0.0589</td>\n",
       "      <td>-4.095</td>\n",
       "      <td>1</td>\n",
       "      <td>0.0294</td>\n",
       "      <td>167.060</td>\n",
       "      <td>4</td>\n",
       "      <td>0.474</td>\n",
       "    </tr>\n",
       "    <tr>\n",
       "      <th>1</th>\n",
       "      <td>216933</td>\n",
       "      <td>0.010300</td>\n",
       "      <td>0.542</td>\n",
       "      <td>0.853</td>\n",
       "      <td>0.000000</td>\n",
       "      <td>3</td>\n",
       "      <td>0.1080</td>\n",
       "      <td>-6.407</td>\n",
       "      <td>0</td>\n",
       "      <td>0.0498</td>\n",
       "      <td>105.256</td>\n",
       "      <td>4</td>\n",
       "      <td>0.370</td>\n",
       "    </tr>\n",
       "    <tr>\n",
       "      <th>2</th>\n",
       "      <td>231733</td>\n",
       "      <td>0.008170</td>\n",
       "      <td>0.737</td>\n",
       "      <td>0.463</td>\n",
       "      <td>0.447000</td>\n",
       "      <td>0</td>\n",
       "      <td>0.2550</td>\n",
       "      <td>-7.828</td>\n",
       "      <td>1</td>\n",
       "      <td>0.0792</td>\n",
       "      <td>123.881</td>\n",
       "      <td>4</td>\n",
       "      <td>0.324</td>\n",
       "    </tr>\n",
       "    <tr>\n",
       "      <th>3</th>\n",
       "      <td>216933</td>\n",
       "      <td>0.026400</td>\n",
       "      <td>0.451</td>\n",
       "      <td>0.970</td>\n",
       "      <td>0.003550</td>\n",
       "      <td>0</td>\n",
       "      <td>0.1020</td>\n",
       "      <td>-4.938</td>\n",
       "      <td>1</td>\n",
       "      <td>0.1070</td>\n",
       "      <td>122.444</td>\n",
       "      <td>4</td>\n",
       "      <td>0.198</td>\n",
       "    </tr>\n",
       "    <tr>\n",
       "      <th>4</th>\n",
       "      <td>223826</td>\n",
       "      <td>0.000954</td>\n",
       "      <td>0.447</td>\n",
       "      <td>0.766</td>\n",
       "      <td>0.000000</td>\n",
       "      <td>10</td>\n",
       "      <td>0.1130</td>\n",
       "      <td>-5.065</td>\n",
       "      <td>1</td>\n",
       "      <td>0.0313</td>\n",
       "      <td>172.011</td>\n",
       "      <td>4</td>\n",
       "      <td>0.574</td>\n",
       "    </tr>\n",
       "    <tr>\n",
       "      <th>...</th>\n",
       "      <td>...</td>\n",
       "      <td>...</td>\n",
       "      <td>...</td>\n",
       "      <td>...</td>\n",
       "      <td>...</td>\n",
       "      <td>...</td>\n",
       "      <td>...</td>\n",
       "      <td>...</td>\n",
       "      <td>...</td>\n",
       "      <td>...</td>\n",
       "      <td>...</td>\n",
       "      <td>...</td>\n",
       "      <td>...</td>\n",
       "    </tr>\n",
       "    <tr>\n",
       "      <th>18830</th>\n",
       "      <td>159645</td>\n",
       "      <td>0.893000</td>\n",
       "      <td>0.500</td>\n",
       "      <td>0.151</td>\n",
       "      <td>0.000065</td>\n",
       "      <td>11</td>\n",
       "      <td>0.1110</td>\n",
       "      <td>-16.107</td>\n",
       "      <td>1</td>\n",
       "      <td>0.0348</td>\n",
       "      <td>113.969</td>\n",
       "      <td>4</td>\n",
       "      <td>0.300</td>\n",
       "    </tr>\n",
       "    <tr>\n",
       "      <th>18831</th>\n",
       "      <td>205666</td>\n",
       "      <td>0.765000</td>\n",
       "      <td>0.495</td>\n",
       "      <td>0.161</td>\n",
       "      <td>0.000001</td>\n",
       "      <td>11</td>\n",
       "      <td>0.1050</td>\n",
       "      <td>-14.078</td>\n",
       "      <td>0</td>\n",
       "      <td>0.0301</td>\n",
       "      <td>94.286</td>\n",
       "      <td>4</td>\n",
       "      <td>0.265</td>\n",
       "    </tr>\n",
       "    <tr>\n",
       "      <th>18832</th>\n",
       "      <td>182211</td>\n",
       "      <td>0.847000</td>\n",
       "      <td>0.719</td>\n",
       "      <td>0.325</td>\n",
       "      <td>0.000000</td>\n",
       "      <td>0</td>\n",
       "      <td>0.1250</td>\n",
       "      <td>-12.222</td>\n",
       "      <td>1</td>\n",
       "      <td>0.0355</td>\n",
       "      <td>130.534</td>\n",
       "      <td>4</td>\n",
       "      <td>0.286</td>\n",
       "    </tr>\n",
       "    <tr>\n",
       "      <th>18833</th>\n",
       "      <td>352280</td>\n",
       "      <td>0.945000</td>\n",
       "      <td>0.488</td>\n",
       "      <td>0.326</td>\n",
       "      <td>0.015700</td>\n",
       "      <td>3</td>\n",
       "      <td>0.1190</td>\n",
       "      <td>-12.020</td>\n",
       "      <td>1</td>\n",
       "      <td>0.0328</td>\n",
       "      <td>106.063</td>\n",
       "      <td>4</td>\n",
       "      <td>0.323</td>\n",
       "    </tr>\n",
       "    <tr>\n",
       "      <th>18834</th>\n",
       "      <td>193533</td>\n",
       "      <td>0.911000</td>\n",
       "      <td>0.640</td>\n",
       "      <td>0.381</td>\n",
       "      <td>0.000254</td>\n",
       "      <td>4</td>\n",
       "      <td>0.1040</td>\n",
       "      <td>-11.790</td>\n",
       "      <td>1</td>\n",
       "      <td>0.0302</td>\n",
       "      <td>91.490</td>\n",
       "      <td>4</td>\n",
       "      <td>0.581</td>\n",
       "    </tr>\n",
       "  </tbody>\n",
       "</table>\n",
       "<p>18835 rows × 13 columns</p>\n",
       "</div>"
      ],
      "text/plain": [
       "       song_duration_ms  acousticness  danceability  energy  instrumentalness  \\\n",
       "0                262333      0.005520         0.496   0.682          0.000029   \n",
       "1                216933      0.010300         0.542   0.853          0.000000   \n",
       "2                231733      0.008170         0.737   0.463          0.447000   \n",
       "3                216933      0.026400         0.451   0.970          0.003550   \n",
       "4                223826      0.000954         0.447   0.766          0.000000   \n",
       "...                 ...           ...           ...     ...               ...   \n",
       "18830            159645      0.893000         0.500   0.151          0.000065   \n",
       "18831            205666      0.765000         0.495   0.161          0.000001   \n",
       "18832            182211      0.847000         0.719   0.325          0.000000   \n",
       "18833            352280      0.945000         0.488   0.326          0.015700   \n",
       "18834            193533      0.911000         0.640   0.381          0.000254   \n",
       "\n",
       "       key  liveness  loudness  audio_mode  speechiness    tempo  \\\n",
       "0        8    0.0589    -4.095           1       0.0294  167.060   \n",
       "1        3    0.1080    -6.407           0       0.0498  105.256   \n",
       "2        0    0.2550    -7.828           1       0.0792  123.881   \n",
       "3        0    0.1020    -4.938           1       0.1070  122.444   \n",
       "4       10    0.1130    -5.065           1       0.0313  172.011   \n",
       "...    ...       ...       ...         ...          ...      ...   \n",
       "18830   11    0.1110   -16.107           1       0.0348  113.969   \n",
       "18831   11    0.1050   -14.078           0       0.0301   94.286   \n",
       "18832    0    0.1250   -12.222           1       0.0355  130.534   \n",
       "18833    3    0.1190   -12.020           1       0.0328  106.063   \n",
       "18834    4    0.1040   -11.790           1       0.0302   91.490   \n",
       "\n",
       "       time_signature  audio_valence  \n",
       "0                   4          0.474  \n",
       "1                   4          0.370  \n",
       "2                   4          0.324  \n",
       "3                   4          0.198  \n",
       "4                   4          0.574  \n",
       "...               ...            ...  \n",
       "18830               4          0.300  \n",
       "18831               4          0.265  \n",
       "18832               4          0.286  \n",
       "18833               4          0.323  \n",
       "18834               4          0.581  \n",
       "\n",
       "[18835 rows x 13 columns]"
      ]
     },
     "execution_count": 42,
     "metadata": {},
     "output_type": "execute_result"
    }
   ],
   "source": [
    "cur_X = song_df.drop([Y_COLUMN, 'song_name'], axis=1)\n",
    "cur_X"
   ]
  },
  {
   "cell_type": "code",
   "execution_count": 43,
   "metadata": {},
   "outputs": [
    {
     "data": {
      "text/plain": [
       "array([[<Axes: title={'center': 'song_duration_ms'}>,\n",
       "        <Axes: title={'center': 'acousticness'}>,\n",
       "        <Axes: title={'center': 'danceability'}>,\n",
       "        <Axes: title={'center': 'energy'}>],\n",
       "       [<Axes: title={'center': 'instrumentalness'}>,\n",
       "        <Axes: title={'center': 'key'}>,\n",
       "        <Axes: title={'center': 'liveness'}>,\n",
       "        <Axes: title={'center': 'loudness'}>],\n",
       "       [<Axes: title={'center': 'audio_mode'}>,\n",
       "        <Axes: title={'center': 'speechiness'}>,\n",
       "        <Axes: title={'center': 'tempo'}>,\n",
       "        <Axes: title={'center': 'time_signature'}>],\n",
       "       [<Axes: title={'center': 'audio_valence'}>, <Axes: >, <Axes: >,\n",
       "        <Axes: >]], dtype=object)"
      ]
     },
     "execution_count": 43,
     "metadata": {},
     "output_type": "execute_result"
    },
    {
     "data": {
      "image/png": "[encoded data removed]",
      "text/plain": [
       "<Figure size 1600x2000 with 16 Axes>"
      ]
     },
     "metadata": {},
     "output_type": "display_data"
    }
   ],
   "source": [
    "cur_X.hist(figsize=(16, 20), bins=50, xlabelsize=8, ylabelsize=8)"
   ]
  },
  {
   "cell_type": "markdown",
   "metadata": {},
   "source": [
    "## 1.3 Conversion from Numerical to Categorical\n",
    "\n",
    "There are some variables which are currently presented as numerical, but could potentially be converted to be one hot encoded based on the description. Speechiness is a prime candidate. The data definition has essentially split the variable into three categories based on the score; spoken-word, rap, and music. It is worth exploring whether more of these variables can be converted to be one-hot encoded."
   ]
  },
  {
   "cell_type": "code",
   "execution_count": 44,
   "metadata": {},
   "outputs": [
    {
     "data": {
      "text/html": [
       "<div>\n",
       "<style scoped>\n",
       "    .dataframe tbody tr th:only-of-type {\n",
       "        vertical-align: middle;\n",
       "    }\n",
       "\n",
       "    .dataframe tbody tr th {\n",
       "        vertical-align: top;\n",
       "    }\n",
       "\n",
       "    .dataframe thead th {\n",
       "        text-align: right;\n",
       "    }\n",
       "</style>\n",
       "<table border=\"1\" class=\"dataframe\">\n",
       "  <thead>\n",
       "    <tr style=\"text-align: right;\">\n",
       "      <th></th>\n",
       "      <th>speechiness</th>\n",
       "    </tr>\n",
       "  </thead>\n",
       "  <tbody>\n",
       "    <tr>\n",
       "      <th>0</th>\n",
       "      <td>0.0294</td>\n",
       "    </tr>\n",
       "    <tr>\n",
       "      <th>1</th>\n",
       "      <td>0.0498</td>\n",
       "    </tr>\n",
       "    <tr>\n",
       "      <th>2</th>\n",
       "      <td>0.0792</td>\n",
       "    </tr>\n",
       "    <tr>\n",
       "      <th>3</th>\n",
       "      <td>0.1070</td>\n",
       "    </tr>\n",
       "    <tr>\n",
       "      <th>4</th>\n",
       "      <td>0.0313</td>\n",
       "    </tr>\n",
       "    <tr>\n",
       "      <th>...</th>\n",
       "      <td>...</td>\n",
       "    </tr>\n",
       "    <tr>\n",
       "      <th>18830</th>\n",
       "      <td>0.0348</td>\n",
       "    </tr>\n",
       "    <tr>\n",
       "      <th>18831</th>\n",
       "      <td>0.0301</td>\n",
       "    </tr>\n",
       "    <tr>\n",
       "      <th>18832</th>\n",
       "      <td>0.0355</td>\n",
       "    </tr>\n",
       "    <tr>\n",
       "      <th>18833</th>\n",
       "      <td>0.0328</td>\n",
       "    </tr>\n",
       "    <tr>\n",
       "      <th>18834</th>\n",
       "      <td>0.0302</td>\n",
       "    </tr>\n",
       "  </tbody>\n",
       "</table>\n",
       "<p>18835 rows × 1 columns</p>\n",
       "</div>"
      ],
      "text/plain": [
       "       speechiness\n",
       "0           0.0294\n",
       "1           0.0498\n",
       "2           0.0792\n",
       "3           0.1070\n",
       "4           0.0313\n",
       "...            ...\n",
       "18830       0.0348\n",
       "18831       0.0301\n",
       "18832       0.0355\n",
       "18833       0.0328\n",
       "18834       0.0302\n",
       "\n",
       "[18835 rows x 1 columns]"
      ]
     },
     "execution_count": 44,
     "metadata": {},
     "output_type": "execute_result"
    }
   ],
   "source": [
    "speechiness_df = cur_X[['speechiness']]\n",
    "speechiness_df"
   ]
  },
  {
   "cell_type": "code",
   "execution_count": 45,
   "metadata": {},
   "outputs": [],
   "source": [
    "def liveness_to_rank(col):\n",
    "    if col > 0.8:\n",
    "        return 1\n",
    "    else:\n",
    "        return 0\n",
    "\n",
    "def speechiness_to_rank(col):\n",
    "    if col < 0.33:\n",
    "        return 1\n",
    "    elif col >= 0.33 and col < 0.66:\n",
    "        return 2\n",
    "    else:\n",
    "        return 3"
   ]
  },
  {
   "cell_type": "code",
   "execution_count": 46,
   "metadata": {},
   "outputs": [],
   "source": [
    "song_df['speechiness_category'] = song_df['speechiness'].apply(speechiness_to_rank)\n",
    "song_df['liveness_category'] = song_df['liveness'].apply(liveness_to_rank)"
   ]
  },
  {
   "cell_type": "code",
   "execution_count": 47,
   "metadata": {},
   "outputs": [
    {
     "data": {
      "text/plain": [
       "speechiness_category\n",
       "1    17829\n",
       "2      967\n",
       "3       39\n",
       "Name: count, dtype: int64"
      ]
     },
     "execution_count": 47,
     "metadata": {},
     "output_type": "execute_result"
    }
   ],
   "source": [
    "song_df['speechiness_category'].value_counts()"
   ]
  },
  {
   "cell_type": "code",
   "execution_count": 48,
   "metadata": {},
   "outputs": [
    {
     "data": {
      "text/plain": [
       "liveness_category\n",
       "0    18711\n",
       "1      124\n",
       "Name: count, dtype: int64"
      ]
     },
     "execution_count": 48,
     "metadata": {},
     "output_type": "execute_result"
    }
   ],
   "source": [
    "song_df['liveness_category'].value_counts()"
   ]
  },
  {
   "cell_type": "code",
   "execution_count": 49,
   "metadata": {},
   "outputs": [
    {
     "data": {
      "text/html": [
       "<div>\n",
       "<style scoped>\n",
       "    .dataframe tbody tr th:only-of-type {\n",
       "        vertical-align: middle;\n",
       "    }\n",
       "\n",
       "    .dataframe tbody tr th {\n",
       "        vertical-align: top;\n",
       "    }\n",
       "\n",
       "    .dataframe thead th {\n",
       "        text-align: right;\n",
       "    }\n",
       "</style>\n",
       "<table border=\"1\" class=\"dataframe\">\n",
       "  <thead>\n",
       "    <tr style=\"text-align: right;\">\n",
       "      <th></th>\n",
       "      <th>song_name</th>\n",
       "      <th>song_popularity</th>\n",
       "      <th>song_duration_ms</th>\n",
       "      <th>acousticness</th>\n",
       "      <th>danceability</th>\n",
       "      <th>energy</th>\n",
       "      <th>instrumentalness</th>\n",
       "      <th>key</th>\n",
       "      <th>liveness</th>\n",
       "      <th>loudness</th>\n",
       "      <th>audio_mode</th>\n",
       "      <th>speechiness</th>\n",
       "      <th>tempo</th>\n",
       "      <th>time_signature</th>\n",
       "      <th>audio_valence</th>\n",
       "      <th>speechiness_category</th>\n",
       "      <th>liveness_category</th>\n",
       "    </tr>\n",
       "  </thead>\n",
       "  <tbody>\n",
       "    <tr>\n",
       "      <th>0</th>\n",
       "      <td>Boulevard of Broken Dreams</td>\n",
       "      <td>73</td>\n",
       "      <td>262333</td>\n",
       "      <td>0.005520</td>\n",
       "      <td>0.496</td>\n",
       "      <td>0.682</td>\n",
       "      <td>0.000029</td>\n",
       "      <td>8</td>\n",
       "      <td>0.0589</td>\n",
       "      <td>-4.095</td>\n",
       "      <td>1</td>\n",
       "      <td>0.0294</td>\n",
       "      <td>167.060</td>\n",
       "      <td>4</td>\n",
       "      <td>0.474</td>\n",
       "      <td>1</td>\n",
       "      <td>0</td>\n",
       "    </tr>\n",
       "    <tr>\n",
       "      <th>1</th>\n",
       "      <td>In The End</td>\n",
       "      <td>66</td>\n",
       "      <td>216933</td>\n",
       "      <td>0.010300</td>\n",
       "      <td>0.542</td>\n",
       "      <td>0.853</td>\n",
       "      <td>0.000000</td>\n",
       "      <td>3</td>\n",
       "      <td>0.1080</td>\n",
       "      <td>-6.407</td>\n",
       "      <td>0</td>\n",
       "      <td>0.0498</td>\n",
       "      <td>105.256</td>\n",
       "      <td>4</td>\n",
       "      <td>0.370</td>\n",
       "      <td>1</td>\n",
       "      <td>0</td>\n",
       "    </tr>\n",
       "    <tr>\n",
       "      <th>2</th>\n",
       "      <td>Seven Nation Army</td>\n",
       "      <td>76</td>\n",
       "      <td>231733</td>\n",
       "      <td>0.008170</td>\n",
       "      <td>0.737</td>\n",
       "      <td>0.463</td>\n",
       "      <td>0.447000</td>\n",
       "      <td>0</td>\n",
       "      <td>0.2550</td>\n",
       "      <td>-7.828</td>\n",
       "      <td>1</td>\n",
       "      <td>0.0792</td>\n",
       "      <td>123.881</td>\n",
       "      <td>4</td>\n",
       "      <td>0.324</td>\n",
       "      <td>1</td>\n",
       "      <td>0</td>\n",
       "    </tr>\n",
       "    <tr>\n",
       "      <th>3</th>\n",
       "      <td>By The Way</td>\n",
       "      <td>74</td>\n",
       "      <td>216933</td>\n",
       "      <td>0.026400</td>\n",
       "      <td>0.451</td>\n",
       "      <td>0.970</td>\n",
       "      <td>0.003550</td>\n",
       "      <td>0</td>\n",
       "      <td>0.1020</td>\n",
       "      <td>-4.938</td>\n",
       "      <td>1</td>\n",
       "      <td>0.1070</td>\n",
       "      <td>122.444</td>\n",
       "      <td>4</td>\n",
       "      <td>0.198</td>\n",
       "      <td>1</td>\n",
       "      <td>0</td>\n",
       "    </tr>\n",
       "    <tr>\n",
       "      <th>4</th>\n",
       "      <td>How You Remind Me</td>\n",
       "      <td>56</td>\n",
       "      <td>223826</td>\n",
       "      <td>0.000954</td>\n",
       "      <td>0.447</td>\n",
       "      <td>0.766</td>\n",
       "      <td>0.000000</td>\n",
       "      <td>10</td>\n",
       "      <td>0.1130</td>\n",
       "      <td>-5.065</td>\n",
       "      <td>1</td>\n",
       "      <td>0.0313</td>\n",
       "      <td>172.011</td>\n",
       "      <td>4</td>\n",
       "      <td>0.574</td>\n",
       "      <td>1</td>\n",
       "      <td>0</td>\n",
       "    </tr>\n",
       "  </tbody>\n",
       "</table>\n",
       "</div>"
      ],
      "text/plain": [
       "                    song_name  song_popularity  song_duration_ms  \\\n",
       "0  Boulevard of Broken Dreams               73            262333   \n",
       "1                  In The End               66            216933   \n",
       "2           Seven Nation Army               76            231733   \n",
       "3                  By The Way               74            216933   \n",
       "4           How You Remind Me               56            223826   \n",
       "\n",
       "   acousticness  danceability  energy  instrumentalness  key  liveness  \\\n",
       "0      0.005520         0.496   0.682          0.000029    8    0.0589   \n",
       "1      0.010300         0.542   0.853          0.000000    3    0.1080   \n",
       "2      0.008170         0.737   0.463          0.447000    0    0.2550   \n",
       "3      0.026400         0.451   0.970          0.003550    0    0.1020   \n",
       "4      0.000954         0.447   0.766          0.000000   10    0.1130   \n",
       "\n",
       "   loudness  audio_mode  speechiness    tempo  time_signature  audio_valence  \\\n",
       "0    -4.095           1       0.0294  167.060               4          0.474   \n",
       "1    -6.407           0       0.0498  105.256               4          0.370   \n",
       "2    -7.828           1       0.0792  123.881               4          0.324   \n",
       "3    -4.938           1       0.1070  122.444               4          0.198   \n",
       "4    -5.065           1       0.0313  172.011               4          0.574   \n",
       "\n",
       "   speechiness_category  liveness_category  \n",
       "0                     1                  0  \n",
       "1                     1                  0  \n",
       "2                     1                  0  \n",
       "3                     1                  0  \n",
       "4                     1                  0  "
      ]
     },
     "execution_count": 49,
     "metadata": {},
     "output_type": "execute_result"
    }
   ],
   "source": [
    "song_df.head()"
   ]
  },
  {
   "cell_type": "markdown",
   "metadata": {},
   "source": [
    "## 1.4 Variable Correlation analysis"
   ]
  },
  {
   "cell_type": "code",
   "execution_count": 50,
   "metadata": {},
   "outputs": [],
   "source": [
    "def plot_correlation_matrix(df: pd.DataFrame):\n",
    "    \"\"\"_summary_\n",
    "\n",
    "    Args:\n",
    "        df (pd.DataFrame): _description_\n",
    "    \"\"\"\n",
    "    fig = plt.figure()\n",
    "    n_ticks = np.arange(len(df.columns))\n",
    "    ax = fig.add_subplot(111)\n",
    "    cax = ax.matshow(df.corr(), cmap=plt.cm.Blues)\n",
    "    fig.colorbar(cax)\n",
    "    ax.set_xticks(n_ticks)\n",
    "    ax.set_yticks(n_ticks)\n",
    "    ax.set_xticklabels(df.columns, rotation=270)\n",
    "    ax.set_yticklabels(df.columns)\n",
    "    ax.xaxis.set_major_locator(tkr.MultipleLocator(1))\n",
    "    ax.yaxis.set_major_locator(tkr.MultipleLocator(1))\n",
    "    plt.show()"
   ]
  },
  {
   "cell_type": "code",
   "execution_count": 51,
   "metadata": {},
   "outputs": [
    {
     "data": {
      "image/png": "[encoded data removed]",
      "text/plain": [
       "<Figure size 640x480 with 2 Axes>"
      ]
     },
     "metadata": {},
     "output_type": "display_data"
    }
   ],
   "source": [
    "plot_correlation_matrix(cur_X)"
   ]
  },
  {
   "cell_type": "markdown",
   "metadata": {},
   "source": [
    "According to the above, the most highly correlated variables are energy/loudness, and audio_valence/energy and audio_valence/danceability. audio_mode has shown little to now correlation with the rest of the variables, but I will confirm that by splitting the dataset based on whether it is Major or Minor."
   ]
  },
  {
   "cell_type": "code",
   "execution_count": 52,
   "metadata": {},
   "outputs": [],
   "source": [
    "audio_mode_col = 'audio_mode'"
   ]
  },
  {
   "cell_type": "code",
   "execution_count": 53,
   "metadata": {},
   "outputs": [],
   "source": [
    "major_mask = (cur_X[audio_mode_col] == 1)"
   ]
  },
  {
   "cell_type": "code",
   "execution_count": 54,
   "metadata": {},
   "outputs": [],
   "source": [
    "major_songs = cur_X[major_mask].drop(audio_mode_col, axis=1)\n",
    "minor_songs = cur_X[~major_mask].drop(audio_mode_col, axis=1)"
   ]
  },
  {
   "cell_type": "code",
   "execution_count": 55,
   "metadata": {},
   "outputs": [
    {
     "data": {
      "text/html": [
       "<div>\n",
       "<style scoped>\n",
       "    .dataframe tbody tr th:only-of-type {\n",
       "        vertical-align: middle;\n",
       "    }\n",
       "\n",
       "    .dataframe tbody tr th {\n",
       "        vertical-align: top;\n",
       "    }\n",
       "\n",
       "    .dataframe thead th {\n",
       "        text-align: right;\n",
       "    }\n",
       "</style>\n",
       "<table border=\"1\" class=\"dataframe\">\n",
       "  <thead>\n",
       "    <tr style=\"text-align: right;\">\n",
       "      <th></th>\n",
       "      <th>song_duration_ms</th>\n",
       "      <th>acousticness</th>\n",
       "      <th>danceability</th>\n",
       "      <th>energy</th>\n",
       "      <th>instrumentalness</th>\n",
       "      <th>key</th>\n",
       "      <th>liveness</th>\n",
       "      <th>loudness</th>\n",
       "      <th>speechiness</th>\n",
       "      <th>tempo</th>\n",
       "      <th>time_signature</th>\n",
       "      <th>audio_valence</th>\n",
       "    </tr>\n",
       "  </thead>\n",
       "  <tbody>\n",
       "    <tr>\n",
       "      <th>count</th>\n",
       "      <td>1.183100e+04</td>\n",
       "      <td>11831.000000</td>\n",
       "      <td>11831.000000</td>\n",
       "      <td>11831.000000</td>\n",
       "      <td>11831.000000</td>\n",
       "      <td>11831.000000</td>\n",
       "      <td>11831.000000</td>\n",
       "      <td>11831.000000</td>\n",
       "      <td>11831.000000</td>\n",
       "      <td>11831.000000</td>\n",
       "      <td>11831.000000</td>\n",
       "      <td>11831.000000</td>\n",
       "    </tr>\n",
       "    <tr>\n",
       "      <th>mean</th>\n",
       "      <td>2.169985e+05</td>\n",
       "      <td>0.272778</td>\n",
       "      <td>0.620501</td>\n",
       "      <td>0.636494</td>\n",
       "      <td>0.075454</td>\n",
       "      <td>4.816837</td>\n",
       "      <td>0.179536</td>\n",
       "      <td>-7.619743</td>\n",
       "      <td>0.093134</td>\n",
       "      <td>121.524910</td>\n",
       "      <td>3.953596</td>\n",
       "      <td>0.527109</td>\n",
       "    </tr>\n",
       "    <tr>\n",
       "      <th>std</th>\n",
       "      <td>5.943878e+04</td>\n",
       "      <td>0.298629</td>\n",
       "      <td>0.157728</td>\n",
       "      <td>0.220320</td>\n",
       "      <td>0.217691</td>\n",
       "      <td>3.591481</td>\n",
       "      <td>0.145678</td>\n",
       "      <td>3.921460</td>\n",
       "      <td>0.097006</td>\n",
       "      <td>28.995752</td>\n",
       "      <td>0.312804</td>\n",
       "      <td>0.247239</td>\n",
       "    </tr>\n",
       "    <tr>\n",
       "      <th>min</th>\n",
       "      <td>1.200000e+04</td>\n",
       "      <td>0.000001</td>\n",
       "      <td>0.000000</td>\n",
       "      <td>0.001070</td>\n",
       "      <td>0.000000</td>\n",
       "      <td>0.000000</td>\n",
       "      <td>0.014800</td>\n",
       "      <td>-38.768000</td>\n",
       "      <td>0.000000</td>\n",
       "      <td>0.000000</td>\n",
       "      <td>0.000000</td>\n",
       "      <td>0.000000</td>\n",
       "    </tr>\n",
       "    <tr>\n",
       "      <th>25%</th>\n",
       "      <td>1.819130e+05</td>\n",
       "      <td>0.023800</td>\n",
       "      <td>0.520000</td>\n",
       "      <td>0.495000</td>\n",
       "      <td>0.000000</td>\n",
       "      <td>1.000000</td>\n",
       "      <td>0.092800</td>\n",
       "      <td>-9.343000</td>\n",
       "      <td>0.035900</td>\n",
       "      <td>99.242500</td>\n",
       "      <td>4.000000</td>\n",
       "      <td>0.329000</td>\n",
       "    </tr>\n",
       "    <tr>\n",
       "      <th>50%</th>\n",
       "      <td>2.101320e+05</td>\n",
       "      <td>0.145000</td>\n",
       "      <td>0.630000</td>\n",
       "      <td>0.666000</td>\n",
       "      <td>0.000010</td>\n",
       "      <td>5.000000</td>\n",
       "      <td>0.121000</td>\n",
       "      <td>-6.682000</td>\n",
       "      <td>0.050900</td>\n",
       "      <td>120.022000</td>\n",
       "      <td>4.000000</td>\n",
       "      <td>0.524000</td>\n",
       "    </tr>\n",
       "    <tr>\n",
       "      <th>75%</th>\n",
       "      <td>2.418400e+05</td>\n",
       "      <td>0.462500</td>\n",
       "      <td>0.735000</td>\n",
       "      <td>0.812500</td>\n",
       "      <td>0.002470</td>\n",
       "      <td>8.000000</td>\n",
       "      <td>0.219000</td>\n",
       "      <td>-4.995000</td>\n",
       "      <td>0.103000</td>\n",
       "      <td>139.981000</td>\n",
       "      <td>4.000000</td>\n",
       "      <td>0.728000</td>\n",
       "    </tr>\n",
       "    <tr>\n",
       "      <th>max</th>\n",
       "      <td>1.355938e+06</td>\n",
       "      <td>0.996000</td>\n",
       "      <td>0.981000</td>\n",
       "      <td>0.999000</td>\n",
       "      <td>0.982000</td>\n",
       "      <td>11.000000</td>\n",
       "      <td>0.986000</td>\n",
       "      <td>0.878000</td>\n",
       "      <td>0.936000</td>\n",
       "      <td>213.990000</td>\n",
       "      <td>5.000000</td>\n",
       "      <td>0.984000</td>\n",
       "    </tr>\n",
       "  </tbody>\n",
       "</table>\n",
       "</div>"
      ],
      "text/plain": [
       "       song_duration_ms  acousticness  danceability        energy  \\\n",
       "count      1.183100e+04  11831.000000  11831.000000  11831.000000   \n",
       "mean       2.169985e+05      0.272778      0.620501      0.636494   \n",
       "std        5.943878e+04      0.298629      0.157728      0.220320   \n",
       "min        1.200000e+04      0.000001      0.000000      0.001070   \n",
       "25%        1.819130e+05      0.023800      0.520000      0.495000   \n",
       "50%        2.101320e+05      0.145000      0.630000      0.666000   \n",
       "75%        2.418400e+05      0.462500      0.735000      0.812500   \n",
       "max        1.355938e+06      0.996000      0.981000      0.999000   \n",
       "\n",
       "       instrumentalness           key      liveness      loudness  \\\n",
       "count      11831.000000  11831.000000  11831.000000  11831.000000   \n",
       "mean           0.075454      4.816837      0.179536     -7.619743   \n",
       "std            0.217691      3.591481      0.145678      3.921460   \n",
       "min            0.000000      0.000000      0.014800    -38.768000   \n",
       "25%            0.000000      1.000000      0.092800     -9.343000   \n",
       "50%            0.000010      5.000000      0.121000     -6.682000   \n",
       "75%            0.002470      8.000000      0.219000     -4.995000   \n",
       "max            0.982000     11.000000      0.986000      0.878000   \n",
       "\n",
       "        speechiness         tempo  time_signature  audio_valence  \n",
       "count  11831.000000  11831.000000    11831.000000   11831.000000  \n",
       "mean       0.093134    121.524910        3.953596       0.527109  \n",
       "std        0.097006     28.995752        0.312804       0.247239  \n",
       "min        0.000000      0.000000        0.000000       0.000000  \n",
       "25%        0.035900     99.242500        4.000000       0.329000  \n",
       "50%        0.050900    120.022000        4.000000       0.524000  \n",
       "75%        0.103000    139.981000        4.000000       0.728000  \n",
       "max        0.936000    213.990000        5.000000       0.984000  "
      ]
     },
     "execution_count": 55,
     "metadata": {},
     "output_type": "execute_result"
    }
   ],
   "source": [
    "major_songs.describe()"
   ]
  },
  {
   "cell_type": "code",
   "execution_count": 56,
   "metadata": {},
   "outputs": [
    {
     "data": {
      "text/plain": [
       "array([[<Axes: title={'center': 'song_duration_ms'}>,\n",
       "        <Axes: title={'center': 'acousticness'}>,\n",
       "        <Axes: title={'center': 'danceability'}>],\n",
       "       [<Axes: title={'center': 'energy'}>,\n",
       "        <Axes: title={'center': 'instrumentalness'}>,\n",
       "        <Axes: title={'center': 'key'}>],\n",
       "       [<Axes: title={'center': 'liveness'}>,\n",
       "        <Axes: title={'center': 'loudness'}>,\n",
       "        <Axes: title={'center': 'speechiness'}>],\n",
       "       [<Axes: title={'center': 'tempo'}>,\n",
       "        <Axes: title={'center': 'time_signature'}>,\n",
       "        <Axes: title={'center': 'audio_valence'}>]], dtype=object)"
      ]
     },
     "execution_count": 56,
     "metadata": {},
     "output_type": "execute_result"
    },
    {
     "data": {
      "image/png": "[encoded data removed]",
      "text/plain": [
       "<Figure size 800x1000 with 12 Axes>"
      ]
     },
     "metadata": {},
     "output_type": "display_data"
    }
   ],
   "source": [
    "major_songs.hist(figsize=(8, 10), bins=50, xlabelsize=8, ylabelsize=8)"
   ]
  },
  {
   "cell_type": "code",
   "execution_count": 57,
   "metadata": {},
   "outputs": [
    {
     "data": {
      "text/html": [
       "<div>\n",
       "<style scoped>\n",
       "    .dataframe tbody tr th:only-of-type {\n",
       "        vertical-align: middle;\n",
       "    }\n",
       "\n",
       "    .dataframe tbody tr th {\n",
       "        vertical-align: top;\n",
       "    }\n",
       "\n",
       "    .dataframe thead th {\n",
       "        text-align: right;\n",
       "    }\n",
       "</style>\n",
       "<table border=\"1\" class=\"dataframe\">\n",
       "  <thead>\n",
       "    <tr style=\"text-align: right;\">\n",
       "      <th></th>\n",
       "      <th>song_duration_ms</th>\n",
       "      <th>acousticness</th>\n",
       "      <th>danceability</th>\n",
       "      <th>energy</th>\n",
       "      <th>instrumentalness</th>\n",
       "      <th>key</th>\n",
       "      <th>liveness</th>\n",
       "      <th>loudness</th>\n",
       "      <th>speechiness</th>\n",
       "      <th>tempo</th>\n",
       "      <th>time_signature</th>\n",
       "      <th>audio_valence</th>\n",
       "    </tr>\n",
       "  </thead>\n",
       "  <tbody>\n",
       "    <tr>\n",
       "      <th>count</th>\n",
       "      <td>7.004000e+03</td>\n",
       "      <td>7004.000000</td>\n",
       "      <td>7004.000000</td>\n",
       "      <td>7004.000000</td>\n",
       "      <td>7004.000000</td>\n",
       "      <td>7004.000000</td>\n",
       "      <td>7004.000000</td>\n",
       "      <td>7004.000000</td>\n",
       "      <td>7004.000000</td>\n",
       "      <td>7004.000000</td>\n",
       "      <td>7004.000000</td>\n",
       "      <td>7004.000000</td>\n",
       "    </tr>\n",
       "    <tr>\n",
       "      <th>mean</th>\n",
       "      <td>2.202608e+05</td>\n",
       "      <td>0.234486</td>\n",
       "      <td>0.655048</td>\n",
       "      <td>0.659354</td>\n",
       "      <td>0.082323</td>\n",
       "      <td>6.087093</td>\n",
       "      <td>0.179844</td>\n",
       "      <td>-7.156375</td>\n",
       "      <td>0.117242</td>\n",
       "      <td>120.310059</td>\n",
       "      <td>3.968447</td>\n",
       "      <td>0.529416</td>\n",
       "    </tr>\n",
       "    <tr>\n",
       "      <th>std</th>\n",
       "      <td>6.058714e+04</td>\n",
       "      <td>0.269475</td>\n",
       "      <td>0.152583</td>\n",
       "      <td>0.202369</td>\n",
       "      <td>0.227976</td>\n",
       "      <td>3.512099</td>\n",
       "      <td>0.141087</td>\n",
       "      <td>3.646071</td>\n",
       "      <td>0.114190</td>\n",
       "      <td>28.218565</td>\n",
       "      <td>0.272503</td>\n",
       "      <td>0.240174</td>\n",
       "    </tr>\n",
       "    <tr>\n",
       "      <th>min</th>\n",
       "      <td>5.057300e+04</td>\n",
       "      <td>0.000003</td>\n",
       "      <td>0.066000</td>\n",
       "      <td>0.004580</td>\n",
       "      <td>0.000000</td>\n",
       "      <td>0.000000</td>\n",
       "      <td>0.010900</td>\n",
       "      <td>-36.729000</td>\n",
       "      <td>0.022800</td>\n",
       "      <td>47.953000</td>\n",
       "      <td>1.000000</td>\n",
       "      <td>0.029200</td>\n",
       "    </tr>\n",
       "    <tr>\n",
       "      <th>25%</th>\n",
       "      <td>1.886660e+05</td>\n",
       "      <td>0.024575</td>\n",
       "      <td>0.560000</td>\n",
       "      <td>0.537000</td>\n",
       "      <td>0.000000</td>\n",
       "      <td>4.000000</td>\n",
       "      <td>0.093100</td>\n",
       "      <td>-8.506500</td>\n",
       "      <td>0.041900</td>\n",
       "      <td>97.976500</td>\n",
       "      <td>4.000000</td>\n",
       "      <td>0.343000</td>\n",
       "    </tr>\n",
       "    <tr>\n",
       "      <th>50%</th>\n",
       "      <td>2.129730e+05</td>\n",
       "      <td>0.118000</td>\n",
       "      <td>0.668000</td>\n",
       "      <td>0.688000</td>\n",
       "      <td>0.000013</td>\n",
       "      <td>6.000000</td>\n",
       "      <td>0.123000</td>\n",
       "      <td>-6.354500</td>\n",
       "      <td>0.066400</td>\n",
       "      <td>120.012000</td>\n",
       "      <td>4.000000</td>\n",
       "      <td>0.532000</td>\n",
       "    </tr>\n",
       "    <tr>\n",
       "      <th>75%</th>\n",
       "      <td>2.440260e+05</td>\n",
       "      <td>0.360250</td>\n",
       "      <td>0.768000</td>\n",
       "      <td>0.818000</td>\n",
       "      <td>0.002810</td>\n",
       "      <td>9.000000</td>\n",
       "      <td>0.226000</td>\n",
       "      <td>-4.808000</td>\n",
       "      <td>0.147000</td>\n",
       "      <td>138.216000</td>\n",
       "      <td>4.000000</td>\n",
       "      <td>0.720000</td>\n",
       "    </tr>\n",
       "    <tr>\n",
       "      <th>max</th>\n",
       "      <td>1.799346e+06</td>\n",
       "      <td>0.996000</td>\n",
       "      <td>0.987000</td>\n",
       "      <td>0.997000</td>\n",
       "      <td>0.997000</td>\n",
       "      <td>11.000000</td>\n",
       "      <td>0.983000</td>\n",
       "      <td>1.585000</td>\n",
       "      <td>0.941000</td>\n",
       "      <td>242.318000</td>\n",
       "      <td>5.000000</td>\n",
       "      <td>0.982000</td>\n",
       "    </tr>\n",
       "  </tbody>\n",
       "</table>\n",
       "</div>"
      ],
      "text/plain": [
       "       song_duration_ms  acousticness  danceability       energy  \\\n",
       "count      7.004000e+03   7004.000000   7004.000000  7004.000000   \n",
       "mean       2.202608e+05      0.234486      0.655048     0.659354   \n",
       "std        6.058714e+04      0.269475      0.152583     0.202369   \n",
       "min        5.057300e+04      0.000003      0.066000     0.004580   \n",
       "25%        1.886660e+05      0.024575      0.560000     0.537000   \n",
       "50%        2.129730e+05      0.118000      0.668000     0.688000   \n",
       "75%        2.440260e+05      0.360250      0.768000     0.818000   \n",
       "max        1.799346e+06      0.996000      0.987000     0.997000   \n",
       "\n",
       "       instrumentalness          key     liveness     loudness  speechiness  \\\n",
       "count       7004.000000  7004.000000  7004.000000  7004.000000  7004.000000   \n",
       "mean           0.082323     6.087093     0.179844    -7.156375     0.117242   \n",
       "std            0.227976     3.512099     0.141087     3.646071     0.114190   \n",
       "min            0.000000     0.000000     0.010900   -36.729000     0.022800   \n",
       "25%            0.000000     4.000000     0.093100    -8.506500     0.041900   \n",
       "50%            0.000013     6.000000     0.123000    -6.354500     0.066400   \n",
       "75%            0.002810     9.000000     0.226000    -4.808000     0.147000   \n",
       "max            0.997000    11.000000     0.983000     1.585000     0.941000   \n",
       "\n",
       "             tempo  time_signature  audio_valence  \n",
       "count  7004.000000     7004.000000    7004.000000  \n",
       "mean    120.310059        3.968447       0.529416  \n",
       "std      28.218565        0.272503       0.240174  \n",
       "min      47.953000        1.000000       0.029200  \n",
       "25%      97.976500        4.000000       0.343000  \n",
       "50%     120.012000        4.000000       0.532000  \n",
       "75%     138.216000        4.000000       0.720000  \n",
       "max     242.318000        5.000000       0.982000  "
      ]
     },
     "execution_count": 57,
     "metadata": {},
     "output_type": "execute_result"
    }
   ],
   "source": [
    "minor_songs.describe()"
   ]
  },
  {
   "cell_type": "code",
   "execution_count": 58,
   "metadata": {},
   "outputs": [
    {
     "data": {
      "text/plain": [
       "array([[<Axes: title={'center': 'song_duration_ms'}>,\n",
       "        <Axes: title={'center': 'acousticness'}>,\n",
       "        <Axes: title={'center': 'danceability'}>],\n",
       "       [<Axes: title={'center': 'energy'}>,\n",
       "        <Axes: title={'center': 'instrumentalness'}>,\n",
       "        <Axes: title={'center': 'key'}>],\n",
       "       [<Axes: title={'center': 'liveness'}>,\n",
       "        <Axes: title={'center': 'loudness'}>,\n",
       "        <Axes: title={'center': 'speechiness'}>],\n",
       "       [<Axes: title={'center': 'tempo'}>,\n",
       "        <Axes: title={'center': 'time_signature'}>,\n",
       "        <Axes: title={'center': 'audio_valence'}>]], dtype=object)"
      ]
     },
     "execution_count": 58,
     "metadata": {},
     "output_type": "execute_result"
    },
    {
     "data": {
      "image/png": "[encoded data removed]",
      "text/plain": [
       "<Figure size 800x1000 with 12 Axes>"
      ]
     },
     "metadata": {},
     "output_type": "display_data"
    }
   ],
   "source": [
    "minor_songs.hist(figsize=(8, 10), bins=50, xlabelsize=8, ylabelsize=8)"
   ]
  },
  {
   "cell_type": "markdown",
   "metadata": {},
   "source": [
    "## 1.7 Data Analysis Conclusion"
   ]
  },
  {
   "cell_type": "markdown",
   "metadata": {},
   "source": [
    "There are a number of conclusions which can be drawn based on the above distributions:\n",
    "\n",
    "* 1. Categorical Data: key, audio_mode and time_signature appear to be categorical values, and so will be encoded accordingly.\n",
    "* 2. Varied shewness: the rest of the columns vary between being normally distributed, to exhibiting positive and negative skewness, so normalization will be needed to perform regression.\n",
    "* 3. Correlation in variables: danceability and energy have very similar distributions, so i will be interesting to determine if there are any correlation between these variables after regression."
   ]
  },
  {
   "cell_type": "markdown",
   "metadata": {},
   "source": [
    "# 2. Objective\n",
    "\n",
    "The objective of this workbook is to determine the most significant qualitative and quantitative features required to predict the popularity of a song."
   ]
  },
  {
   "cell_type": "markdown",
   "metadata": {},
   "source": [
    "# 3. Data Preprocessing\n",
    "The ultimate aim of this section is to create the sklearn Pipeline objects which will be used to train the various models which will be used to predict song popularity."
   ]
  },
  {
   "cell_type": "code",
   "execution_count": 59,
   "metadata": {},
   "outputs": [],
   "source": [
    "columns_to_drop = [Y_COLUMN, 'song_name']\n",
    "X = song_df.drop(columns_to_drop, axis=1)\n",
    "y = song_df[Y_COLUMN]"
   ]
  },
  {
   "cell_type": "code",
   "execution_count": 60,
   "metadata": {},
   "outputs": [],
   "source": [
    "from sklearn.model_selection import train_test_split\n",
    "\n",
    "X_train, X_test, y_train, y_test = train_test_split(X, y, test_size=0.3, random_state=0)"
   ]
  },
  {
   "cell_type": "markdown",
   "metadata": {},
   "source": [
    "## 3.1 Converting Numerical Columns to Categorical"
   ]
  },
  {
   "cell_type": "markdown",
   "metadata": {},
   "source": [
    "## 3.2  Preprocessor Definitions\n",
    "\n",
    "I am going to first define the preprocessing pipeline which will used for the standard Linear Regression model."
   ]
  },
  {
   "cell_type": "code",
   "execution_count": 61,
   "metadata": {},
   "outputs": [],
   "source": [
    "from sklearn.compose import ColumnTransformer\n",
    "from sklearn.preprocessing import StandardScaler, OneHotEncoder, PolynomialFeatures\n",
    "from sklearn.pipeline import Pipeline\n",
    "from sklearn.linear_model import LinearRegression, Ridge, Lasso, ElasticNet"
   ]
  },
  {
   "cell_type": "code",
   "execution_count": 81,
   "metadata": {},
   "outputs": [
    {
     "data": {
      "text/plain": [
       "['song_duration_ms',\n",
       " 'acousticness',\n",
       " 'danceability',\n",
       " 'energy',\n",
       " 'instrumentalness',\n",
       " 'liveness',\n",
       " 'loudness',\n",
       " 'audio_mode',\n",
       " 'speechiness',\n",
       " 'tempo',\n",
       " 'audio_valence']"
      ]
     },
     "execution_count": 81,
     "metadata": {},
     "output_type": "execute_result"
    }
   ],
   "source": [
    "#binary_cols = ['time_signature']\n",
    "categorical_cols = ['key', 'speechiness_category', 'liveness_category']\n",
    "numerical_cols = [col for col in X.columns if col not in categorical_cols and col not in binary_cols]\n",
    "numerical_cols"
   ]
  },
  {
   "cell_type": "code",
   "execution_count": 82,
   "metadata": {},
   "outputs": [],
   "source": [
    "numerical_transformer = Pipeline(\n",
    "    steps=[\n",
    "        ('poly', PolynomialFeatures(degree=2, include_bias=False)),\n",
    "        ('ss', StandardScaler())\n",
    "    ]\n",
    ")"
   ]
  },
  {
   "cell_type": "code",
   "execution_count": 83,
   "metadata": {},
   "outputs": [],
   "source": [
    "categorical_transformer = Pipeline(\n",
    "    steps=[\n",
    "        ('one_hot', OneHotEncoder())\n",
    "    ]\n",
    ")"
   ]
  },
  {
   "cell_type": "code",
   "execution_count": 84,
   "metadata": {},
   "outputs": [],
   "source": [
    "column_transformer = ColumnTransformer(\n",
    "    transformers=[\n",
    "        ('categorical_transformer', categorical_transformer, categorical_cols),\n",
    "        ('numerical_transformer', numerical_transformer, numerical_cols),\n",
    "    ]\n",
    ")"
   ]
  },
  {
   "cell_type": "markdown",
   "metadata": {},
   "source": [
    "# 4. Feature Selection\n",
    "\n",
    "As mentioned in the earlier analysis, some of the features exhibit high correlation, so we will need to look at ways of resolving this."
   ]
  },
  {
   "cell_type": "code",
   "execution_count": 85,
   "metadata": {},
   "outputs": [],
   "source": [
    "transformed_cols = column_transformer.fit_transform(X)\n",
    "column_names = column_transformer.get_feature_names_out()"
   ]
  },
  {
   "cell_type": "code",
   "execution_count": 86,
   "metadata": {},
   "outputs": [
    {
     "data": {
      "text/plain": [
       "array(['categorical_transformer__key_0', 'categorical_transformer__key_1',\n",
       "       'categorical_transformer__key_2', 'categorical_transformer__key_3',\n",
       "       'categorical_transformer__key_4', 'categorical_transformer__key_5',\n",
       "       'categorical_transformer__key_6', 'categorical_transformer__key_7',\n",
       "       'categorical_transformer__key_8', 'categorical_transformer__key_9',\n",
       "       'categorical_transformer__key_10',\n",
       "       'categorical_transformer__key_11',\n",
       "       'categorical_transformer__speechiness_category_1',\n",
       "       'categorical_transformer__speechiness_category_2',\n",
       "       'categorical_transformer__speechiness_category_3',\n",
       "       'categorical_transformer__liveness_category_0',\n",
       "       'categorical_transformer__liveness_category_1',\n",
       "       'numerical_transformer__song_duration_ms',\n",
       "       'numerical_transformer__acousticness',\n",
       "       'numerical_transformer__danceability',\n",
       "       'numerical_transformer__energy',\n",
       "       'numerical_transformer__instrumentalness',\n",
       "       'numerical_transformer__liveness',\n",
       "       'numerical_transformer__loudness',\n",
       "       'numerical_transformer__audio_mode',\n",
       "       'numerical_transformer__speechiness',\n",
       "       'numerical_transformer__tempo',\n",
       "       'numerical_transformer__audio_valence',\n",
       "       'numerical_transformer__song_duration_ms^2',\n",
       "       'numerical_transformer__song_duration_ms acousticness',\n",
       "       'numerical_transformer__song_duration_ms danceability',\n",
       "       'numerical_transformer__song_duration_ms energy',\n",
       "       'numerical_transformer__song_duration_ms instrumentalness',\n",
       "       'numerical_transformer__song_duration_ms liveness',\n",
       "       'numerical_transformer__song_duration_ms loudness',\n",
       "       'numerical_transformer__song_duration_ms audio_mode',\n",
       "       'numerical_transformer__song_duration_ms speechiness',\n",
       "       'numerical_transformer__song_duration_ms tempo',\n",
       "       'numerical_transformer__song_duration_ms audio_valence',\n",
       "       'numerical_transformer__acousticness^2',\n",
       "       'numerical_transformer__acousticness danceability',\n",
       "       'numerical_transformer__acousticness energy',\n",
       "       'numerical_transformer__acousticness instrumentalness',\n",
       "       'numerical_transformer__acousticness liveness',\n",
       "       'numerical_transformer__acousticness loudness',\n",
       "       'numerical_transformer__acousticness audio_mode',\n",
       "       'numerical_transformer__acousticness speechiness',\n",
       "       'numerical_transformer__acousticness tempo',\n",
       "       'numerical_transformer__acousticness audio_valence',\n",
       "       'numerical_transformer__danceability^2',\n",
       "       'numerical_transformer__danceability energy',\n",
       "       'numerical_transformer__danceability instrumentalness',\n",
       "       'numerical_transformer__danceability liveness',\n",
       "       'numerical_transformer__danceability loudness',\n",
       "       'numerical_transformer__danceability audio_mode',\n",
       "       'numerical_transformer__danceability speechiness',\n",
       "       'numerical_transformer__danceability tempo',\n",
       "       'numerical_transformer__danceability audio_valence',\n",
       "       'numerical_transformer__energy^2',\n",
       "       'numerical_transformer__energy instrumentalness',\n",
       "       'numerical_transformer__energy liveness',\n",
       "       'numerical_transformer__energy loudness',\n",
       "       'numerical_transformer__energy audio_mode',\n",
       "       'numerical_transformer__energy speechiness',\n",
       "       'numerical_transformer__energy tempo',\n",
       "       'numerical_transformer__energy audio_valence',\n",
       "       'numerical_transformer__instrumentalness^2',\n",
       "       'numerical_transformer__instrumentalness liveness',\n",
       "       'numerical_transformer__instrumentalness loudness',\n",
       "       'numerical_transformer__instrumentalness audio_mode',\n",
       "       'numerical_transformer__instrumentalness speechiness',\n",
       "       'numerical_transformer__instrumentalness tempo',\n",
       "       'numerical_transformer__instrumentalness audio_valence',\n",
       "       'numerical_transformer__liveness^2',\n",
       "       'numerical_transformer__liveness loudness',\n",
       "       'numerical_transformer__liveness audio_mode',\n",
       "       'numerical_transformer__liveness speechiness',\n",
       "       'numerical_transformer__liveness tempo',\n",
       "       'numerical_transformer__liveness audio_valence',\n",
       "       'numerical_transformer__loudness^2',\n",
       "       'numerical_transformer__loudness audio_mode',\n",
       "       'numerical_transformer__loudness speechiness',\n",
       "       'numerical_transformer__loudness tempo',\n",
       "       'numerical_transformer__loudness audio_valence',\n",
       "       'numerical_transformer__audio_mode^2',\n",
       "       'numerical_transformer__audio_mode speechiness',\n",
       "       'numerical_transformer__audio_mode tempo',\n",
       "       'numerical_transformer__audio_mode audio_valence',\n",
       "       'numerical_transformer__speechiness^2',\n",
       "       'numerical_transformer__speechiness tempo',\n",
       "       'numerical_transformer__speechiness audio_valence',\n",
       "       'numerical_transformer__tempo^2',\n",
       "       'numerical_transformer__tempo audio_valence',\n",
       "       'numerical_transformer__audio_valence^2'], dtype=object)"
      ]
     },
     "execution_count": 86,
     "metadata": {},
     "output_type": "execute_result"
    }
   ],
   "source": [
    "column_names"
   ]
  },
  {
   "cell_type": "markdown",
   "metadata": {},
   "source": [
    "## 4.1 Feature Selection using p-value\n",
    "\n",
    "In feature selection, you typically start with the null hypothesis (H0) that there is no significant relationship between the feature and the target variable.\n",
    "The alternative hypothesis (Ha) is that there is a significant relationship between the feature and the target variable.\n",
    "\n",
    "https://tracyrenee61.medium.com/how-i-used-feature-selection-and-statsmodels-to-solve-kaggles-house-price-competition-df6907202521"
   ]
  },
  {
   "cell_type": "code",
   "execution_count": 87,
   "metadata": {},
   "outputs": [
    {
     "name": "stdout",
     "output_type": "stream",
     "text": [
      "                            OLS Regression Results                            \n",
      "==============================================================================\n",
      "Dep. Variable:        song_popularity   R-squared:                       0.090\n",
      "Model:                            OLS   Adj. R-squared:                  0.086\n",
      "Method:                 Least Squares   F-statistic:                     20.62\n",
      "Date:                Tue, 07 May 2024   Prob (F-statistic):          1.38e-310\n",
      "Time:                        20:43:52   Log-Likelihood:                -83975.\n",
      "No. Observations:               18835   AIC:                         1.681e+05\n",
      "Df Residuals:                   18744   BIC:                         1.688e+05\n",
      "Df Model:                          90                                         \n",
      "Covariance Type:            nonrobust                                         \n",
      "==============================================================================\n",
      "                 coef    std err          t      P>|t|      [0.025      0.975]\n",
      "------------------------------------------------------------------------------\n",
      "x1             4.6897      0.520      9.021      0.000       3.671       5.709\n",
      "x2             6.4913      0.522     12.425      0.000       5.467       7.515\n",
      "x3             3.9145      0.561      6.979      0.000       2.815       5.014\n",
      "x4             3.7867      0.912      4.152      0.000       1.999       5.575\n",
      "x5             4.5445      0.618      7.357      0.000       3.334       5.755\n",
      "x6             4.8178      0.578      8.339      0.000       3.685       5.950\n",
      "x7             6.4682      0.607     10.651      0.000       5.278       7.658\n",
      "x8             3.1553      0.530      5.950      0.000       2.116       4.195\n",
      "x9             3.5124      0.603      5.820      0.000       2.330       4.695\n",
      "x10            3.4741      0.560      6.206      0.000       2.377       4.571\n",
      "x11            5.2721      0.613      8.594      0.000       4.070       6.475\n",
      "x12            5.4242      0.575      9.437      0.000       4.298       6.551\n",
      "x13           16.8782      1.785      9.456      0.000      13.380      20.377\n",
      "x14           18.3174      1.270     14.428      0.000      15.829      20.806\n",
      "x15           20.3552      5.413      3.761      0.000       9.746      30.965\n",
      "x16           31.4067      1.557     20.170      0.000      28.355      34.459\n",
      "x17           24.1442      2.504      9.642      0.000      19.236      29.053\n",
      "x18           -1.4470      1.668     -0.867      0.386      -4.717       1.823\n",
      "x19            6.9530      2.777      2.504      0.012       1.510      12.396\n",
      "x20           12.6919      2.495      5.087      0.000       7.801      17.583\n",
      "x21           14.2484      4.280      3.329      0.001       5.860      22.637\n",
      "x22           -8.1783      2.000     -4.090      0.000     -12.098      -4.259\n",
      "x23           -2.5491      2.022     -1.261      0.207      -6.512       1.414\n",
      "x24           -5.3347      3.405     -1.567      0.117     -12.009       1.340\n",
      "x25            1.1765      0.953      1.234      0.217      -0.692       3.045\n",
      "x26            3.7514      2.000      1.876      0.061      -0.168       7.671\n",
      "x27           -0.7721      2.178     -0.354      0.723      -5.042       3.498\n",
      "x28           -2.2297      2.350     -0.949      0.343      -6.835       2.376\n",
      "x29           -0.7023      0.344     -2.044      0.041      -1.376      -0.029\n",
      "x30            0.1239      0.759      0.163      0.870      -1.363       1.611\n",
      "x31           -1.6913      0.887     -1.908      0.056      -3.429       0.047\n",
      "x32            2.8285      1.466      1.929      0.054      -0.045       5.702\n",
      "x33           -1.1649      0.517     -2.255      0.024      -2.177      -0.152\n",
      "x34           -0.7015      0.571     -1.228      0.220      -1.822       0.419\n",
      "x35           -1.0442      1.011     -1.032      0.302      -3.027       0.938\n",
      "x36            1.7408      0.648      2.686      0.007       0.470       3.011\n",
      "x37            0.4094      0.551      0.743      0.458      -0.671       1.490\n",
      "x38            1.4397      0.945      1.524      0.128      -0.412       3.291\n",
      "x39           -0.7173      0.790     -0.908      0.364      -2.267       0.832\n",
      "x40           -3.9300      0.837     -4.695      0.000      -5.571      -2.289\n",
      "x41            0.1490      0.985      0.151      0.880      -1.781       2.079\n",
      "x42           -1.9917      0.940     -2.118      0.034      -3.835      -0.148\n",
      "x43            1.9915      0.464      4.291      0.000       1.082       2.901\n",
      "x44           -0.7846      0.362     -2.167      0.030      -1.494      -0.075\n",
      "x45            0.7355      1.330      0.553      0.580      -1.872       3.343\n",
      "x46            0.3431      0.429      0.799      0.424      -0.499       1.185\n",
      "x47           -0.1993      0.330     -0.604      0.546      -0.846       0.447\n",
      "x48            1.0597      0.903      1.173      0.241      -0.711       2.831\n",
      "x49           -3.0880      0.587     -5.262      0.000      -4.238      -1.938\n",
      "x50           -2.6074      1.277     -2.042      0.041      -5.110      -0.104\n",
      "x51           -3.9964      1.743     -2.292      0.022      -7.414      -0.579\n",
      "x52           -1.3601      0.724     -1.877      0.060      -2.780       0.060\n",
      "x53            2.4295      0.771      3.149      0.002       0.917       3.942\n",
      "x54            6.7035      1.218      5.504      0.000       4.316       9.091\n",
      "x55           -1.5748      0.801     -1.967      0.049      -3.144      -0.005\n",
      "x56           -1.2456      0.925     -1.347      0.178      -3.059       0.568\n",
      "x57           -0.2232      0.999     -0.223      0.823      -2.181       1.735\n",
      "x58           -1.5804      1.210     -1.306      0.192      -3.953       0.792\n",
      "x59           -9.9782      2.324     -4.294      0.000     -14.533      -5.424\n",
      "x60            2.0136      0.782      2.575      0.010       0.481       3.546\n",
      "x61           -2.2154      1.175     -1.886      0.059      -4.518       0.087\n",
      "x62            2.2278      0.990      2.251      0.024       0.288       4.168\n",
      "x63           -1.1095      1.032     -1.075      0.282      -3.133       0.914\n",
      "x64           -2.7175      0.981     -2.771      0.006      -4.640      -0.795\n",
      "x65           -3.5263      1.666     -2.116      0.034      -6.793      -0.260\n",
      "x66            5.0962      1.496      3.406      0.001       2.163       8.029\n",
      "x67            3.5537      0.790      4.497      0.000       2.005       5.102\n",
      "x68            0.4332      0.280      1.548      0.122      -0.115       0.982\n",
      "x69           -3.4764      1.002     -3.469      0.001      -5.441      -1.512\n",
      "x70           -0.2504      0.283     -0.884      0.377      -0.806       0.305\n",
      "x71           -0.3291      0.234     -1.407      0.159      -0.787       0.129\n",
      "x72           -1.6775      0.754     -2.224      0.026      -3.156      -0.199\n",
      "x73            1.1096      0.357      3.105      0.002       0.409       1.810\n",
      "x74            1.9750      0.611      3.232      0.001       0.777       3.173\n",
      "x75            1.0098      0.620      1.629      0.103      -0.205       2.225\n",
      "x76            0.5112      0.334      1.530      0.126      -0.144       1.166\n",
      "x77           -0.6425      0.328     -1.956      0.050      -1.286       0.001\n",
      "x78            1.8559      0.759      2.446      0.014       0.368       3.343\n",
      "x79            0.1672      0.513      0.326      0.745      -0.838       1.173\n",
      "x80           -0.3993      1.543     -0.259      0.796      -3.423       2.625\n",
      "x81            0.5900      0.710      0.831      0.406      -0.802       1.982\n",
      "x82            1.4213      0.652      2.179      0.029       0.143       2.700\n",
      "x83            1.1141      1.115      0.999      0.318      -1.072       3.301\n",
      "x84           -3.1786      0.850     -3.741      0.000      -4.844      -1.513\n",
      "x85            1.1765      0.953      1.234      0.217      -0.692       3.045\n",
      "x86           -1.1343      0.281     -4.032      0.000      -1.686      -0.583\n",
      "x87           -0.5163      0.731     -0.707      0.480      -1.949       0.916\n",
      "x88            0.1245      0.500      0.249      0.803      -0.855       1.104\n",
      "x89           -1.2181      0.799     -1.525      0.127      -2.784       0.347\n",
      "x90            2.4200      0.683      3.544      0.000       1.082       3.758\n",
      "x91            0.2616      0.478      0.547      0.584      -0.676       1.199\n",
      "x92            1.6976      1.303      1.303      0.193      -0.857       4.252\n",
      "x93           -0.9535      0.934     -1.020      0.308      -2.785       0.878\n",
      "x94           -2.5400      0.832     -3.052      0.002      -4.171      -0.909\n",
      "==============================================================================\n",
      "Omnibus:                     1154.061   Durbin-Watson:                   1.433\n",
      "Prob(Omnibus):                  0.000   Jarque-Bera (JB):             1380.110\n",
      "Skew:                          -0.663   Prob(JB):                    2.06e-300\n",
      "Kurtosis:                       3.048   Cond. No.                     1.97e+16\n",
      "==============================================================================\n",
      "\n",
      "Notes:\n",
      "[1] Standard Errors assume that the covariance matrix of the errors is correctly specified.\n",
      "[2] The smallest eigenvalue is 7.52e-28. This might indicate that there are\n",
      "strong multicollinearity problems or that the design matrix is singular.\n"
     ]
    }
   ],
   "source": [
    "model_ols = sm.OLS(y, transformed_cols, formula=f\"{Y_COLUMN} ~ {' + '.join(col for col in column_names)}\")\n",
    "results = model_ols.fit()\n",
    "print(results.summary())"
   ]
  },
  {
   "cell_type": "markdown",
   "metadata": {},
   "source": [
    "## 4.2 Feature Selection using VIF\n",
    "\n",
    "I will use statsmodels variance_inflation_factor to determine the level of colinearity \n",
    "\n",
    "A large VIF on an independent variable indicates a highly collinear relationship to the other variables that should be considered or adjusted for in the structure of the model and selection of independent variables.\n",
    "\n",
    "VIF > 10, then we should definitely eliminate the variable.\n",
    "VIF > 5, We need to inspect the variable before eliminating it.\n",
    "VIF < 5, is definitely a good variable and we should not eliminate it.\n",
    "\n",
    "https://medium.com/@rasdhar.panchal/feature-selection-using-p-values-and-vif-in-linear-regression-6bf25b652d99"
   ]
  },
  {
   "cell_type": "code",
   "execution_count": 88,
   "metadata": {},
   "outputs": [
    {
     "name": "stderr",
     "output_type": "stream",
     "text": [
      "/home/mbarbaric/dev/python/kaggle/venv_kaggle/lib/python3.10/site-packages/statsmodels/regression/linear_model.py:1782: RuntimeWarning: divide by zero encountered in scalar divide\n",
      "  return 1 - self.ssr/self.centered_tss\n"
     ]
    },
    {
     "ename": "KeyboardInterrupt",
     "evalue": "",
     "output_type": "error",
     "traceback": [
      "\u001b[0;31m---------------------------------------------------------------------------\u001b[0m",
      "\u001b[0;31mKeyboardInterrupt\u001b[0m                         Traceback (most recent call last)",
      "Cell \u001b[0;32mIn[88], line 5\u001b[0m\n\u001b[1;32m      3\u001b[0m vif_data \u001b[38;5;241m=\u001b[39m pd\u001b[38;5;241m.\u001b[39mDataFrame()\n\u001b[1;32m      4\u001b[0m vif_data[\u001b[38;5;124m'\u001b[39m\u001b[38;5;124mcolumns\u001b[39m\u001b[38;5;124m'\u001b[39m] \u001b[38;5;241m=\u001b[39m column_names\n\u001b[0;32m----> 5\u001b[0m vif_data[\u001b[38;5;124m'\u001b[39m\u001b[38;5;124mvif\u001b[39m\u001b[38;5;124m'\u001b[39m] \u001b[38;5;241m=\u001b[39m [variance_inflation_factor(transformed_cols_ols, i) \u001b[38;5;28;01mfor\u001b[39;00m i \u001b[38;5;129;01min\u001b[39;00m \u001b[38;5;28mrange\u001b[39m(transformed_cols_ols\u001b[38;5;241m.\u001b[39mshape[\u001b[38;5;241m1\u001b[39m])]\n\u001b[1;32m      6\u001b[0m vif_data\n",
      "Cell \u001b[0;32mIn[88], line 5\u001b[0m, in \u001b[0;36m<listcomp>\u001b[0;34m(.0)\u001b[0m\n\u001b[1;32m      3\u001b[0m vif_data \u001b[38;5;241m=\u001b[39m pd\u001b[38;5;241m.\u001b[39mDataFrame()\n\u001b[1;32m      4\u001b[0m vif_data[\u001b[38;5;124m'\u001b[39m\u001b[38;5;124mcolumns\u001b[39m\u001b[38;5;124m'\u001b[39m] \u001b[38;5;241m=\u001b[39m column_names\n\u001b[0;32m----> 5\u001b[0m vif_data[\u001b[38;5;124m'\u001b[39m\u001b[38;5;124mvif\u001b[39m\u001b[38;5;124m'\u001b[39m] \u001b[38;5;241m=\u001b[39m [\u001b[43mvariance_inflation_factor\u001b[49m\u001b[43m(\u001b[49m\u001b[43mtransformed_cols_ols\u001b[49m\u001b[43m,\u001b[49m\u001b[43m \u001b[49m\u001b[43mi\u001b[49m\u001b[43m)\u001b[49m \u001b[38;5;28;01mfor\u001b[39;00m i \u001b[38;5;129;01min\u001b[39;00m \u001b[38;5;28mrange\u001b[39m(transformed_cols_ols\u001b[38;5;241m.\u001b[39mshape[\u001b[38;5;241m1\u001b[39m])]\n\u001b[1;32m      6\u001b[0m vif_data\n",
      "File \u001b[0;32m~/dev/python/kaggle/venv_kaggle/lib/python3.10/site-packages/statsmodels/stats/outliers_influence.py:197\u001b[0m, in \u001b[0;36mvariance_inflation_factor\u001b[0;34m(exog, exog_idx)\u001b[0m\n\u001b[1;32m    195\u001b[0m mask \u001b[38;5;241m=\u001b[39m np\u001b[38;5;241m.\u001b[39marange(k_vars) \u001b[38;5;241m!=\u001b[39m exog_idx\n\u001b[1;32m    196\u001b[0m x_noti \u001b[38;5;241m=\u001b[39m exog[:, mask]\n\u001b[0;32m--> 197\u001b[0m r_squared_i \u001b[38;5;241m=\u001b[39m \u001b[43mOLS\u001b[49m\u001b[43m(\u001b[49m\u001b[43mx_i\u001b[49m\u001b[43m,\u001b[49m\u001b[43m \u001b[49m\u001b[43mx_noti\u001b[49m\u001b[43m)\u001b[49m\u001b[38;5;241;43m.\u001b[39;49m\u001b[43mfit\u001b[49m\u001b[43m(\u001b[49m\u001b[43m)\u001b[49m\u001b[38;5;241m.\u001b[39mrsquared\n\u001b[1;32m    198\u001b[0m vif \u001b[38;5;241m=\u001b[39m \u001b[38;5;241m1.\u001b[39m \u001b[38;5;241m/\u001b[39m (\u001b[38;5;241m1.\u001b[39m \u001b[38;5;241m-\u001b[39m r_squared_i)\n\u001b[1;32m    199\u001b[0m \u001b[38;5;28;01mreturn\u001b[39;00m vif\n",
      "File \u001b[0;32m~/dev/python/kaggle/venv_kaggle/lib/python3.10/site-packages/statsmodels/regression/linear_model.py:335\u001b[0m, in \u001b[0;36mRegressionModel.fit\u001b[0;34m(self, method, cov_type, cov_kwds, use_t, **kwargs)\u001b[0m\n\u001b[1;32m    330\u001b[0m \u001b[38;5;28;01mif\u001b[39;00m method \u001b[38;5;241m==\u001b[39m \u001b[38;5;124m\"\u001b[39m\u001b[38;5;124mpinv\u001b[39m\u001b[38;5;124m\"\u001b[39m:\n\u001b[1;32m    331\u001b[0m     \u001b[38;5;28;01mif\u001b[39;00m \u001b[38;5;129;01mnot\u001b[39;00m (\u001b[38;5;28mhasattr\u001b[39m(\u001b[38;5;28mself\u001b[39m, \u001b[38;5;124m'\u001b[39m\u001b[38;5;124mpinv_wexog\u001b[39m\u001b[38;5;124m'\u001b[39m) \u001b[38;5;129;01mand\u001b[39;00m\n\u001b[1;32m    332\u001b[0m             \u001b[38;5;28mhasattr\u001b[39m(\u001b[38;5;28mself\u001b[39m, \u001b[38;5;124m'\u001b[39m\u001b[38;5;124mnormalized_cov_params\u001b[39m\u001b[38;5;124m'\u001b[39m) \u001b[38;5;129;01mand\u001b[39;00m\n\u001b[1;32m    333\u001b[0m             \u001b[38;5;28mhasattr\u001b[39m(\u001b[38;5;28mself\u001b[39m, \u001b[38;5;124m'\u001b[39m\u001b[38;5;124mrank\u001b[39m\u001b[38;5;124m'\u001b[39m)):\n\u001b[0;32m--> 335\u001b[0m         \u001b[38;5;28mself\u001b[39m\u001b[38;5;241m.\u001b[39mpinv_wexog, singular_values \u001b[38;5;241m=\u001b[39m \u001b[43mpinv_extended\u001b[49m\u001b[43m(\u001b[49m\u001b[38;5;28;43mself\u001b[39;49m\u001b[38;5;241;43m.\u001b[39;49m\u001b[43mwexog\u001b[49m\u001b[43m)\u001b[49m\n\u001b[1;32m    336\u001b[0m         \u001b[38;5;28mself\u001b[39m\u001b[38;5;241m.\u001b[39mnormalized_cov_params \u001b[38;5;241m=\u001b[39m np\u001b[38;5;241m.\u001b[39mdot(\n\u001b[1;32m    337\u001b[0m             \u001b[38;5;28mself\u001b[39m\u001b[38;5;241m.\u001b[39mpinv_wexog, np\u001b[38;5;241m.\u001b[39mtranspose(\u001b[38;5;28mself\u001b[39m\u001b[38;5;241m.\u001b[39mpinv_wexog))\n\u001b[1;32m    339\u001b[0m         \u001b[38;5;66;03m# Cache these singular values for use later.\u001b[39;00m\n",
      "File \u001b[0;32m~/dev/python/kaggle/venv_kaggle/lib/python3.10/site-packages/statsmodels/tools/tools.py:264\u001b[0m, in \u001b[0;36mpinv_extended\u001b[0;34m(x, rcond)\u001b[0m\n\u001b[1;32m    262\u001b[0m x \u001b[38;5;241m=\u001b[39m np\u001b[38;5;241m.\u001b[39masarray(x)\n\u001b[1;32m    263\u001b[0m x \u001b[38;5;241m=\u001b[39m x\u001b[38;5;241m.\u001b[39mconjugate()\n\u001b[0;32m--> 264\u001b[0m u, s, vt \u001b[38;5;241m=\u001b[39m \u001b[43mnp\u001b[49m\u001b[38;5;241;43m.\u001b[39;49m\u001b[43mlinalg\u001b[49m\u001b[38;5;241;43m.\u001b[39;49m\u001b[43msvd\u001b[49m\u001b[43m(\u001b[49m\u001b[43mx\u001b[49m\u001b[43m,\u001b[49m\u001b[43m \u001b[49m\u001b[38;5;28;43;01mFalse\u001b[39;49;00m\u001b[43m)\u001b[49m\n\u001b[1;32m    265\u001b[0m s_orig \u001b[38;5;241m=\u001b[39m np\u001b[38;5;241m.\u001b[39mcopy(s)\n\u001b[1;32m    266\u001b[0m m \u001b[38;5;241m=\u001b[39m u\u001b[38;5;241m.\u001b[39mshape[\u001b[38;5;241m0\u001b[39m]\n",
      "File \u001b[0;32m~/dev/python/kaggle/venv_kaggle/lib/python3.10/site-packages/numpy/linalg/linalg.py:1681\u001b[0m, in \u001b[0;36msvd\u001b[0;34m(a, full_matrices, compute_uv, hermitian)\u001b[0m\n\u001b[1;32m   1678\u001b[0m         gufunc \u001b[38;5;241m=\u001b[39m _umath_linalg\u001b[38;5;241m.\u001b[39msvd_n_s\n\u001b[1;32m   1680\u001b[0m signature \u001b[38;5;241m=\u001b[39m \u001b[38;5;124m'\u001b[39m\u001b[38;5;124mD->DdD\u001b[39m\u001b[38;5;124m'\u001b[39m \u001b[38;5;28;01mif\u001b[39;00m isComplexType(t) \u001b[38;5;28;01melse\u001b[39;00m \u001b[38;5;124m'\u001b[39m\u001b[38;5;124md->ddd\u001b[39m\u001b[38;5;124m'\u001b[39m\n\u001b[0;32m-> 1681\u001b[0m u, s, vh \u001b[38;5;241m=\u001b[39m \u001b[43mgufunc\u001b[49m\u001b[43m(\u001b[49m\u001b[43ma\u001b[49m\u001b[43m,\u001b[49m\u001b[43m \u001b[49m\u001b[43msignature\u001b[49m\u001b[38;5;241;43m=\u001b[39;49m\u001b[43msignature\u001b[49m\u001b[43m,\u001b[49m\u001b[43m \u001b[49m\u001b[43mextobj\u001b[49m\u001b[38;5;241;43m=\u001b[39;49m\u001b[43mextobj\u001b[49m\u001b[43m)\u001b[49m\n\u001b[1;32m   1682\u001b[0m u \u001b[38;5;241m=\u001b[39m u\u001b[38;5;241m.\u001b[39mastype(result_t, copy\u001b[38;5;241m=\u001b[39m\u001b[38;5;28;01mFalse\u001b[39;00m)\n\u001b[1;32m   1683\u001b[0m s \u001b[38;5;241m=\u001b[39m s\u001b[38;5;241m.\u001b[39mastype(_realType(result_t), copy\u001b[38;5;241m=\u001b[39m\u001b[38;5;28;01mFalse\u001b[39;00m)\n",
      "\u001b[0;31mKeyboardInterrupt\u001b[0m: "
     ]
    }
   ],
   "source": [
    "from statsmodels.stats.outliers_influence import variance_inflation_factor\n",
    "\n",
    "vif_data = pd.DataFrame()\n",
    "vif_data['columns'] = column_names\n",
    "vif_data['vif'] = [variance_inflation_factor(transformed_cols, i) for i in range(transformed_cols.shape[1])]\n",
    "vif_data"
   ]
  },
  {
   "cell_type": "code",
   "execution_count": 142,
   "metadata": {},
   "outputs": [],
   "source": [
    "from sklearn.feature_selection import VarianceThreshold, SelectPercentile, chi2"
   ]
  },
  {
   "cell_type": "code",
   "execution_count": 143,
   "metadata": {},
   "outputs": [],
   "source": [
    "feature_selection = Pipeline(\n",
    "    steps=[\n",
    "        ('variance_threshold', VarianceThreshold(threshold=0.25)),\n",
    "        ('select_percentile', SelectPercentile(chi2, percentile=99)),\n",
    "    ]\n",
    ")"
   ]
  },
  {
   "cell_type": "markdown",
   "metadata": {},
   "source": [
    "## 4.2 Colinearity\n",
    "\n",
    "This section relates to handling colinearity within the features"
   ]
  },
  {
   "cell_type": "markdown",
   "metadata": {},
   "source": [
    "# 5. Model Selection and Training"
   ]
  },
  {
   "cell_type": "markdown",
   "metadata": {},
   "source": [
    "## 5.1 Polynomial Features Hyperparamter Tuning\n",
    "\n",
    "I have defined the below method which will be used to determine the optimal degree parameter for the above dataset. It essentially trains and evaluates a vanilla Polynomial Regression for a range of degrees, and plots the calculated rmse score for each value."
   ]
  },
  {
   "cell_type": "code",
   "execution_count": 144,
   "metadata": {},
   "outputs": [],
   "source": [
    "from sklearn.metrics import mean_squared_error\n",
    "from sklearn.metrics import r2_score\n",
    "\n",
    "\n",
    "def plot_rmse(x_values: np.array, x_label: str, rmse_scores: np.array):\n",
    "    \"\"\"Plots rmse scores against user defined x parameters\n",
    "\n",
    "    Args:\n",
    "        x_value (np.array): _description_\n",
    "        x_label (str): _description_\n",
    "        rmse_scores (np.array): _description_\n",
    "    \"\"\"\n",
    "    fig = plt.figure()\n",
    "    ax = fig.add_subplot(111)\n",
    "    ax.plot(x_values, rmse_scores)\n",
    "    ax.set_yscale('log')\n",
    "    ax.set_xlabel(x_label)\n",
    "    ax.set_ylabel('rmse')\n",
    "\n",
    "\n",
    "def fit_and_plot_optimal_polynomial_degrees(X_train: np.array,\n",
    "                                            X_test: np.array,\n",
    "                                            y_train: np.array,\n",
    "                                            y_test: np.array,\n",
    "                                            min_degree=1,\n",
    "                                            max_degree=10):\n",
    "    \"\"\"_summary_\n",
    "\n",
    "    Args:\n",
    "        X_train (np.array): _description_\n",
    "        X_test (np.array): _description_\n",
    "        y_train (np.array): _description_\n",
    "        y_test (np.array): _description_\n",
    "        min_degree (int, optional): _description_. Defaults to 1.\n",
    "        max_degree (int, optional): _description_. Defaults to 10.\n",
    "    \"\"\"\n",
    "    degrees = np.arange(1, 10)\n",
    "    rmses = []\n",
    "    min_rmse, min_degree = 1e10, 0\n",
    "    \n",
    "    for degree in degrees:\n",
    "        pipeline = Pipeline(\n",
    "            steps=[\n",
    "                ('poly', PolynomialFeatures(degree=degree, include_bias=False)),\n",
    "                ('lr', LinearRegression())\n",
    "            ]\n",
    "        )\n",
    "        pipeline.fit(X_train, y_train)\n",
    "        y_pred = pipeline.predict(X_test)\n",
    "        rmse = root_mean_squared_error(y_test, y_pred)\n",
    "        \n",
    "        if rmse < min_rmse:\n",
    "            rmses.append(rmse)\n",
    "            min_rmse = rmse\n",
    "            min_degree = degree\n",
    "    print(f\"optimal_degree: {min_degree}\")\n",
    "    plot_rmse(degrees, 'degree', rmses)\n",
    "\n",
    "\n",
    "def rss(y_true, y_pred):\n",
    "    \"\"\"_summary_\n",
    "\n",
    "    Args:\n",
    "        y_true (_type_): _description_\n",
    "        y_pred (_type_): _description_\n",
    "\n",
    "    Returns:\n",
    "        _type_: _description_\n",
    "    \"\"\"\n",
    "    return np.sum(np.square(y_true, y_pred))\n",
    "\n",
    "\n",
    "def root_mean_squared_error(y_true, y_pred):\n",
    "    \"\"\"_summary_\n",
    "\n",
    "    Args:\n",
    "        y_true (_type_): _description_\n",
    "        y_pred (_type_): _description_\n",
    "\n",
    "    Returns:\n",
    "        _type_: _description_\n",
    "    \"\"\"\n",
    "    return np.sqrt(mean_squared_error(y_true, y_pred))"
   ]
  },
  {
   "cell_type": "markdown",
   "metadata": {},
   "source": [
    "Uncommenting the method below will run the hyperparameter tuning for PolynomialFeatures."
   ]
  },
  {
   "cell_type": "code",
   "execution_count": 145,
   "metadata": {},
   "outputs": [],
   "source": [
    "#fit_and_plot_optimal_polynomial_degrees(X_train, X_test, y_train, y_test, min_degree=2, max_degree=4)"
   ]
  },
  {
   "cell_type": "markdown",
   "metadata": {},
   "source": [
    "## 5.2 Model Definition and Training"
   ]
  },
  {
   "cell_type": "code",
   "execution_count": 146,
   "metadata": {},
   "outputs": [],
   "source": [
    "lr = Pipeline(\n",
    "    steps=[\n",
    "        ('column_transformer', column_transformer),\n",
    "        ('model', LinearRegression())\n",
    "    ]\n",
    ")"
   ]
  },
  {
   "cell_type": "code",
   "execution_count": 147,
   "metadata": {},
   "outputs": [],
   "source": [
    "lasso = Pipeline(\n",
    "    steps=[\n",
    "        ('column_transformer', column_transformer),\n",
    "        ('model', Lasso(alpha=0.01, max_iter=100000))\n",
    "    ]\n",
    ")"
   ]
  },
  {
   "cell_type": "code",
   "execution_count": 148,
   "metadata": {},
   "outputs": [],
   "source": [
    "ridge = Pipeline(\n",
    "    steps=[\n",
    "        ('column_transformer', column_transformer),\n",
    "        ('model', Ridge(alpha=0.01, max_iter=100000))\n",
    "    ]\n",
    ")"
   ]
  },
  {
   "cell_type": "code",
   "execution_count": null,
   "metadata": {},
   "outputs": [],
   "source": [
    "polynomial = Pipeline(\n",
    "    steps=[\n",
    "        ('column_transformer', column_transformer),\n",
    "        ('model', ElasticNet())\n",
    "    ]\n",
    ")"
   ]
  },
  {
   "cell_type": "code",
   "execution_count": 149,
   "metadata": {},
   "outputs": [],
   "source": [
    "pipelines = [lr, lasso, ridge]"
   ]
  },
  {
   "cell_type": "markdown",
   "metadata": {},
   "source": [
    "## 3.4 Model Training and Evaluation"
   ]
  },
  {
   "cell_type": "code",
   "execution_count": 150,
   "metadata": {},
   "outputs": [],
   "source": [
    "model_rss = []\n",
    "model_rmses = []\n",
    "model_mses = []\n",
    "model_r2_scores = []\n",
    "\n",
    "for pipeline in pipelines:\n",
    "    pipeline.fit(X_train, y_train)\n",
    "    y_pred = pipeline.predict(X_test)\n",
    "    model_rss.append(rss(y_test, y_pred))\n",
    "    model_rmses.append(root_mean_squared_error(y_test, y_pred))\n",
    "    model_mses.append(mean_squared_error(y_test, y_pred))\n",
    "    model_r2_scores.append(r2_score(y_test, y_pred))"
   ]
  },
  {
   "cell_type": "code",
   "execution_count": 151,
   "metadata": {},
   "outputs": [
    {
     "data": {
      "text/plain": [
       "99"
      ]
     },
     "execution_count": 151,
     "metadata": {},
     "output_type": "execute_result"
    }
   ],
   "source": [
    "(pipelines[0][-1].coef_ != 0).sum()"
   ]
  },
  {
   "cell_type": "code",
   "execution_count": 152,
   "metadata": {},
   "outputs": [
    {
     "data": {
      "text/plain": [
       "83"
      ]
     },
     "execution_count": 152,
     "metadata": {},
     "output_type": "execute_result"
    }
   ],
   "source": [
    "(pipelines[1][-1].coef_ != 0).sum()"
   ]
  },
  {
   "cell_type": "code",
   "execution_count": 153,
   "metadata": {},
   "outputs": [
    {
     "data": {
      "text/plain": [
       "99"
      ]
     },
     "execution_count": 153,
     "metadata": {},
     "output_type": "execute_result"
    }
   ],
   "source": [
    "(pipelines[2][-1].coef_ != 0).sum()"
   ]
  },
  {
   "cell_type": "code",
   "execution_count": 154,
   "metadata": {},
   "outputs": [
    {
     "data": {
      "text/plain": [
       "[0.08753084998158644, 0.08802736809782852, 0.08753249662840046]"
      ]
     },
     "execution_count": 154,
     "metadata": {},
     "output_type": "execute_result"
    }
   ],
   "source": [
    "model_r2_scores"
   ]
  },
  {
   "cell_type": "code",
   "execution_count": 155,
   "metadata": {},
   "outputs": [
    {
     "data": {
      "text/plain": [
       "[443.0279943347816, 442.78692160899664, 443.02719484404224]"
      ]
     },
     "execution_count": 155,
     "metadata": {},
     "output_type": "execute_result"
    }
   ],
   "source": [
    "model_mses"
   ]
  },
  {
   "cell_type": "code",
   "execution_count": 156,
   "metadata": {},
   "outputs": [
    {
     "data": {
      "text/plain": [
       "[21.048230194835423, 21.042502741095145, 21.048211202951244]"
      ]
     },
     "execution_count": 156,
     "metadata": {},
     "output_type": "execute_result"
    }
   ],
   "source": [
    "model_rmses"
   ]
  }
 ],
 "metadata": {
  "kernelspec": {
   "display_name": "venv_ibm_machine_learning",
   "language": "python",
   "name": "python3"
  },
  "language_info": {
   "codemirror_mode": {
    "name": "ipython",
    "version": 3
   },
   "file_extension": ".py",
   "mimetype": "text/x-python",
   "name": "python",
   "nbconvert_exporter": "python",
   "pygments_lexer": "ipython3",
   "version": "3.10.10"
  }
 },
 "nbformat": 4,
 "nbformat_minor": 2
}
