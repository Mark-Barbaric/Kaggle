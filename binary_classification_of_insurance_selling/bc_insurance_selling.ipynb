{
 "cells": [
  {
   "cell_type": "markdown",
   "id": "159bc131",
   "metadata": {
    "papermill": {
     "duration": 0.027315,
     "end_time": "2024-07-25T14:53:36.660814",
     "exception": false,
     "start_time": "2024-07-25T14:53:36.633499",
     "status": "completed"
    },
    "tags": []
   },
   "source": [
    "# Binary Classification of Insurance Selling\n",
    "\n",
    "The aim of this workbook is train a model to predict whether customers respond positively to an automobile insurance offer.\n",
    "\n",
    "url: https://www.kaggle.com/competitions/playground-series-s4e7/overview"
   ]
  },
  {
   "cell_type": "markdown",
   "id": "47de09b0",
   "metadata": {
    "papermill": {
     "duration": 0.026496,
     "end_time": "2024-07-25T14:53:36.713308",
     "exception": false,
     "start_time": "2024-07-25T14:53:36.686812",
     "status": "completed"
    },
    "tags": []
   },
   "source": [
    "# Lib Imports"
   ]
  },
  {
   "cell_type": "code",
   "execution_count": 1,
   "id": "9d4701b0",
   "metadata": {
    "execution": {
     "iopub.execute_input": "2024-07-25T14:53:36.768066Z",
     "iopub.status.busy": "2024-07-25T14:53:36.767108Z",
     "iopub.status.idle": "2024-07-25T14:53:40.306905Z",
     "shell.execute_reply": "2024-07-25T14:53:40.305802Z"
    },
    "papermill": {
     "duration": 3.570167,
     "end_time": "2024-07-25T14:53:40.309955",
     "exception": false,
     "start_time": "2024-07-25T14:53:36.739788",
     "status": "completed"
    },
    "tags": []
   },
   "outputs": [],
   "source": [
    "import numpy as np\n",
    "import pandas as pd\n",
    "import matplotlib.pyplot as plt\n",
    "import seaborn as sns\n",
    "import dask.dataframe as dd"
   ]
  },
  {
   "cell_type": "code",
   "execution_count": 2,
   "id": "e345ae81",
   "metadata": {
    "execution": {
     "iopub.execute_input": "2024-07-25T14:53:40.363945Z",
     "iopub.status.busy": "2024-07-25T14:53:40.363321Z",
     "iopub.status.idle": "2024-07-25T14:53:41.098381Z",
     "shell.execute_reply": "2024-07-25T14:53:41.097349Z"
    },
    "papermill": {
     "duration": 0.765677,
     "end_time": "2024-07-25T14:53:41.101665",
     "exception": false,
     "start_time": "2024-07-25T14:53:40.335988",
     "status": "completed"
    },
    "tags": []
   },
   "outputs": [],
   "source": [
    "from sklearn.metrics import classification_report, confusion_matrix, roc_auc_score\n",
    "from sklearn.linear_model import LogisticRegressionCV, LogisticRegression\n",
    "from sklearn.model_selection import train_test_split, StratifiedShuffleSplit\n",
    "from sklearn.preprocessing import OneHotEncoder, LabelBinarizer, StandardScaler\n",
    "from sklearn.pipeline import Pipeline\n",
    "from sklearn.compose import ColumnTransformer\n",
    "from imblearn.under_sampling import RandomUnderSampler\n",
    "from imblearn.over_sampling import SMOTE"
   ]
  },
  {
   "cell_type": "code",
   "execution_count": 3,
   "id": "0cde4ed2",
   "metadata": {
    "execution": {
     "iopub.execute_input": "2024-07-25T14:53:41.156742Z",
     "iopub.status.busy": "2024-07-25T14:53:41.156147Z",
     "iopub.status.idle": "2024-07-25T14:53:41.161932Z",
     "shell.execute_reply": "2024-07-25T14:53:41.160587Z"
    },
    "papermill": {
     "duration": 0.036155,
     "end_time": "2024-07-25T14:53:41.164530",
     "exception": false,
     "start_time": "2024-07-25T14:53:41.128375",
     "status": "completed"
    },
    "tags": []
   },
   "outputs": [],
   "source": [
    "RANDOM_STATE = 32\n",
    "Y_COLUMN = 'Response'\n",
    "TEST_SIZE = 0.25"
   ]
  },
  {
   "cell_type": "code",
   "execution_count": 4,
   "id": "3a54c613",
   "metadata": {
    "execution": {
     "iopub.execute_input": "2024-07-25T14:53:41.218697Z",
     "iopub.status.busy": "2024-07-25T14:53:41.217865Z",
     "iopub.status.idle": "2024-07-25T14:53:41.225810Z",
     "shell.execute_reply": "2024-07-25T14:53:41.224568Z"
    },
    "papermill": {
     "duration": 0.037477,
     "end_time": "2024-07-25T14:53:41.228294",
     "exception": false,
     "start_time": "2024-07-25T14:53:41.190817",
     "status": "completed"
    },
    "tags": []
   },
   "outputs": [
    {
     "name": "stdout",
     "output_type": "stream",
     "text": [
      "train dataset dir: /kaggle/input/playground-series-s4e7/train.csv\n",
      "test dataset dir: /kaggle/input/playground-series-s4e7/test.csv\n"
     ]
    }
   ],
   "source": [
    "import os\n",
    "\n",
    "TRAIN_DATASET_DIR = '/kaggle/input/playground-series-s4e7/train.csv' if os.path.exists('/kaggle/input/') else 'train.csv'\n",
    "TEST_DATASET_DIR = '/kaggle/input/playground-series-s4e7/test.csv' if os.path.exists('/kaggle/input/') else 'test.csv'\n",
    "\n",
    "print(f\"train dataset dir: {TRAIN_DATASET_DIR}\")\n",
    "print(f\"test dataset dir: {TEST_DATASET_DIR}\")"
   ]
  },
  {
   "cell_type": "markdown",
   "id": "419909d6",
   "metadata": {
    "papermill": {
     "duration": 0.025454,
     "end_time": "2024-07-25T14:53:41.279411",
     "exception": false,
     "start_time": "2024-07-25T14:53:41.253957",
     "status": "completed"
    },
    "tags": []
   },
   "source": [
    "## 1. EDA"
   ]
  },
  {
   "cell_type": "markdown",
   "id": "665836fc",
   "metadata": {
    "papermill": {
     "duration": 0.025255,
     "end_time": "2024-07-25T14:53:41.330372",
     "exception": false,
     "start_time": "2024-07-25T14:53:41.305117",
     "status": "completed"
    },
    "tags": []
   },
   "source": [
    "### 1.1 Train and Test Dataset Loading\n",
    "\n",
    "The aim of this section is to load the train and test datasets, in order to investigate missing data and general trends."
   ]
  },
  {
   "cell_type": "code",
   "execution_count": 5,
   "id": "1aff49eb",
   "metadata": {
    "execution": {
     "iopub.execute_input": "2024-07-25T14:53:41.384153Z",
     "iopub.status.busy": "2024-07-25T14:53:41.383261Z",
     "iopub.status.idle": "2024-07-25T14:53:41.456515Z",
     "shell.execute_reply": "2024-07-25T14:53:41.455222Z"
    },
    "papermill": {
     "duration": 0.103182,
     "end_time": "2024-07-25T14:53:41.459431",
     "exception": false,
     "start_time": "2024-07-25T14:53:41.356249",
     "status": "completed"
    },
    "tags": []
   },
   "outputs": [],
   "source": [
    "train_df = dd.read_csv(TRAIN_DATASET_DIR)"
   ]
  },
  {
   "cell_type": "code",
   "execution_count": 6,
   "id": "96447308",
   "metadata": {
    "execution": {
     "iopub.execute_input": "2024-07-25T14:53:41.513435Z",
     "iopub.status.busy": "2024-07-25T14:53:41.513000Z",
     "iopub.status.idle": "2024-07-25T14:53:53.226941Z",
     "shell.execute_reply": "2024-07-25T14:53:53.225838Z"
    },
    "papermill": {
     "duration": 11.744381,
     "end_time": "2024-07-25T14:53:53.230009",
     "exception": false,
     "start_time": "2024-07-25T14:53:41.485628",
     "status": "completed"
    },
    "tags": []
   },
   "outputs": [],
   "source": [
    "train_df = train_df.compute()"
   ]
  },
  {
   "cell_type": "code",
   "execution_count": 7,
   "id": "ea2e5b2d",
   "metadata": {
    "execution": {
     "iopub.execute_input": "2024-07-25T14:53:53.346773Z",
     "iopub.status.busy": "2024-07-25T14:53:53.346353Z",
     "iopub.status.idle": "2024-07-25T14:53:53.371312Z",
     "shell.execute_reply": "2024-07-25T14:53:53.370157Z"
    },
    "papermill": {
     "duration": 0.118001,
     "end_time": "2024-07-25T14:53:53.374162",
     "exception": false,
     "start_time": "2024-07-25T14:53:53.256161",
     "status": "completed"
    },
    "tags": []
   },
   "outputs": [
    {
     "data": {
      "text/html": [
       "<div>\n",
       "<style scoped>\n",
       "    .dataframe tbody tr th:only-of-type {\n",
       "        vertical-align: middle;\n",
       "    }\n",
       "\n",
       "    .dataframe tbody tr th {\n",
       "        vertical-align: top;\n",
       "    }\n",
       "\n",
       "    .dataframe thead th {\n",
       "        text-align: right;\n",
       "    }\n",
       "</style>\n",
       "<table border=\"1\" class=\"dataframe\">\n",
       "  <thead>\n",
       "    <tr style=\"text-align: right;\">\n",
       "      <th></th>\n",
       "      <th>id</th>\n",
       "      <th>Gender</th>\n",
       "      <th>Age</th>\n",
       "      <th>Driving_License</th>\n",
       "      <th>Region_Code</th>\n",
       "      <th>Previously_Insured</th>\n",
       "      <th>Vehicle_Age</th>\n",
       "      <th>Vehicle_Damage</th>\n",
       "      <th>Annual_Premium</th>\n",
       "      <th>Policy_Sales_Channel</th>\n",
       "      <th>Vintage</th>\n",
       "      <th>Response</th>\n",
       "    </tr>\n",
       "  </thead>\n",
       "  <tbody>\n",
       "    <tr>\n",
       "      <th>0</th>\n",
       "      <td>0</td>\n",
       "      <td>Male</td>\n",
       "      <td>21</td>\n",
       "      <td>1</td>\n",
       "      <td>35.0</td>\n",
       "      <td>0</td>\n",
       "      <td>1-2 Year</td>\n",
       "      <td>Yes</td>\n",
       "      <td>65101.0</td>\n",
       "      <td>124.0</td>\n",
       "      <td>187</td>\n",
       "      <td>0</td>\n",
       "    </tr>\n",
       "    <tr>\n",
       "      <th>1</th>\n",
       "      <td>1</td>\n",
       "      <td>Male</td>\n",
       "      <td>43</td>\n",
       "      <td>1</td>\n",
       "      <td>28.0</td>\n",
       "      <td>0</td>\n",
       "      <td>&gt; 2 Years</td>\n",
       "      <td>Yes</td>\n",
       "      <td>58911.0</td>\n",
       "      <td>26.0</td>\n",
       "      <td>288</td>\n",
       "      <td>1</td>\n",
       "    </tr>\n",
       "    <tr>\n",
       "      <th>2</th>\n",
       "      <td>2</td>\n",
       "      <td>Female</td>\n",
       "      <td>25</td>\n",
       "      <td>1</td>\n",
       "      <td>14.0</td>\n",
       "      <td>1</td>\n",
       "      <td>&lt; 1 Year</td>\n",
       "      <td>No</td>\n",
       "      <td>38043.0</td>\n",
       "      <td>152.0</td>\n",
       "      <td>254</td>\n",
       "      <td>0</td>\n",
       "    </tr>\n",
       "    <tr>\n",
       "      <th>3</th>\n",
       "      <td>3</td>\n",
       "      <td>Female</td>\n",
       "      <td>35</td>\n",
       "      <td>1</td>\n",
       "      <td>1.0</td>\n",
       "      <td>0</td>\n",
       "      <td>1-2 Year</td>\n",
       "      <td>Yes</td>\n",
       "      <td>2630.0</td>\n",
       "      <td>156.0</td>\n",
       "      <td>76</td>\n",
       "      <td>0</td>\n",
       "    </tr>\n",
       "    <tr>\n",
       "      <th>4</th>\n",
       "      <td>4</td>\n",
       "      <td>Female</td>\n",
       "      <td>36</td>\n",
       "      <td>1</td>\n",
       "      <td>15.0</td>\n",
       "      <td>1</td>\n",
       "      <td>1-2 Year</td>\n",
       "      <td>No</td>\n",
       "      <td>31951.0</td>\n",
       "      <td>152.0</td>\n",
       "      <td>294</td>\n",
       "      <td>0</td>\n",
       "    </tr>\n",
       "  </tbody>\n",
       "</table>\n",
       "</div>"
      ],
      "text/plain": [
       "   id  Gender  Age  Driving_License  Region_Code  Previously_Insured  \\\n",
       "0   0    Male   21                1         35.0                   0   \n",
       "1   1    Male   43                1         28.0                   0   \n",
       "2   2  Female   25                1         14.0                   1   \n",
       "3   3  Female   35                1          1.0                   0   \n",
       "4   4  Female   36                1         15.0                   1   \n",
       "\n",
       "  Vehicle_Age Vehicle_Damage  Annual_Premium  Policy_Sales_Channel  Vintage  \\\n",
       "0    1-2 Year            Yes         65101.0                 124.0      187   \n",
       "1   > 2 Years            Yes         58911.0                  26.0      288   \n",
       "2    < 1 Year             No         38043.0                 152.0      254   \n",
       "3    1-2 Year            Yes          2630.0                 156.0       76   \n",
       "4    1-2 Year             No         31951.0                 152.0      294   \n",
       "\n",
       "   Response  \n",
       "0         0  \n",
       "1         1  \n",
       "2         0  \n",
       "3         0  \n",
       "4         0  "
      ]
     },
     "execution_count": 7,
     "metadata": {},
     "output_type": "execute_result"
    }
   ],
   "source": [
    "train_df.head()"
   ]
  },
  {
   "cell_type": "code",
   "execution_count": 8,
   "id": "18919232",
   "metadata": {
    "execution": {
     "iopub.execute_input": "2024-07-25T14:53:53.429612Z",
     "iopub.status.busy": "2024-07-25T14:53:53.429202Z",
     "iopub.status.idle": "2024-07-25T14:53:55.805698Z",
     "shell.execute_reply": "2024-07-25T14:53:55.804404Z"
    },
    "papermill": {
     "duration": 2.407357,
     "end_time": "2024-07-25T14:53:55.808359",
     "exception": false,
     "start_time": "2024-07-25T14:53:53.401002",
     "status": "completed"
    },
    "tags": []
   },
   "outputs": [
    {
     "data": {
      "text/html": [
       "<div>\n",
       "<style scoped>\n",
       "    .dataframe tbody tr th:only-of-type {\n",
       "        vertical-align: middle;\n",
       "    }\n",
       "\n",
       "    .dataframe tbody tr th {\n",
       "        vertical-align: top;\n",
       "    }\n",
       "\n",
       "    .dataframe thead th {\n",
       "        text-align: right;\n",
       "    }\n",
       "</style>\n",
       "<table border=\"1\" class=\"dataframe\">\n",
       "  <thead>\n",
       "    <tr style=\"text-align: right;\">\n",
       "      <th></th>\n",
       "      <th>id</th>\n",
       "      <th>Gender</th>\n",
       "      <th>Age</th>\n",
       "      <th>Driving_License</th>\n",
       "      <th>Region_Code</th>\n",
       "      <th>Previously_Insured</th>\n",
       "      <th>Vehicle_Age</th>\n",
       "      <th>Vehicle_Damage</th>\n",
       "      <th>Annual_Premium</th>\n",
       "      <th>Policy_Sales_Channel</th>\n",
       "      <th>Vintage</th>\n",
       "    </tr>\n",
       "  </thead>\n",
       "  <tbody>\n",
       "    <tr>\n",
       "      <th>0</th>\n",
       "      <td>11504798</td>\n",
       "      <td>Female</td>\n",
       "      <td>20</td>\n",
       "      <td>1</td>\n",
       "      <td>47.0</td>\n",
       "      <td>0</td>\n",
       "      <td>&lt; 1 Year</td>\n",
       "      <td>No</td>\n",
       "      <td>2630.0</td>\n",
       "      <td>160.0</td>\n",
       "      <td>228</td>\n",
       "    </tr>\n",
       "    <tr>\n",
       "      <th>1</th>\n",
       "      <td>11504799</td>\n",
       "      <td>Male</td>\n",
       "      <td>47</td>\n",
       "      <td>1</td>\n",
       "      <td>28.0</td>\n",
       "      <td>0</td>\n",
       "      <td>1-2 Year</td>\n",
       "      <td>Yes</td>\n",
       "      <td>37483.0</td>\n",
       "      <td>124.0</td>\n",
       "      <td>123</td>\n",
       "    </tr>\n",
       "    <tr>\n",
       "      <th>2</th>\n",
       "      <td>11504800</td>\n",
       "      <td>Male</td>\n",
       "      <td>47</td>\n",
       "      <td>1</td>\n",
       "      <td>43.0</td>\n",
       "      <td>0</td>\n",
       "      <td>1-2 Year</td>\n",
       "      <td>Yes</td>\n",
       "      <td>2630.0</td>\n",
       "      <td>26.0</td>\n",
       "      <td>271</td>\n",
       "    </tr>\n",
       "    <tr>\n",
       "      <th>3</th>\n",
       "      <td>11504801</td>\n",
       "      <td>Female</td>\n",
       "      <td>22</td>\n",
       "      <td>1</td>\n",
       "      <td>47.0</td>\n",
       "      <td>1</td>\n",
       "      <td>&lt; 1 Year</td>\n",
       "      <td>No</td>\n",
       "      <td>24502.0</td>\n",
       "      <td>152.0</td>\n",
       "      <td>115</td>\n",
       "    </tr>\n",
       "    <tr>\n",
       "      <th>4</th>\n",
       "      <td>11504802</td>\n",
       "      <td>Male</td>\n",
       "      <td>51</td>\n",
       "      <td>1</td>\n",
       "      <td>19.0</td>\n",
       "      <td>0</td>\n",
       "      <td>1-2 Year</td>\n",
       "      <td>No</td>\n",
       "      <td>34115.0</td>\n",
       "      <td>124.0</td>\n",
       "      <td>148</td>\n",
       "    </tr>\n",
       "  </tbody>\n",
       "</table>\n",
       "</div>"
      ],
      "text/plain": [
       "         id  Gender  Age  Driving_License  Region_Code  Previously_Insured  \\\n",
       "0  11504798  Female   20                1         47.0                   0   \n",
       "1  11504799    Male   47                1         28.0                   0   \n",
       "2  11504800    Male   47                1         43.0                   0   \n",
       "3  11504801  Female   22                1         47.0                   1   \n",
       "4  11504802    Male   51                1         19.0                   0   \n",
       "\n",
       "  Vehicle_Age Vehicle_Damage  Annual_Premium  Policy_Sales_Channel  Vintage  \n",
       "0    < 1 Year             No          2630.0                 160.0      228  \n",
       "1    1-2 Year            Yes         37483.0                 124.0      123  \n",
       "2    1-2 Year            Yes          2630.0                  26.0      271  \n",
       "3    < 1 Year             No         24502.0                 152.0      115  \n",
       "4    1-2 Year             No         34115.0                 124.0      148  "
      ]
     },
     "execution_count": 8,
     "metadata": {},
     "output_type": "execute_result"
    }
   ],
   "source": [
    "test_df = dd.read_csv(TEST_DATASET_DIR)\n",
    "test_df.head()"
   ]
  },
  {
   "cell_type": "markdown",
   "id": "a460d486",
   "metadata": {
    "papermill": {
     "duration": 0.02705,
     "end_time": "2024-07-25T14:53:55.862384",
     "exception": false,
     "start_time": "2024-07-25T14:53:55.835334",
     "status": "completed"
    },
    "tags": []
   },
   "source": [
    "Train Data Null and Dtype checks"
   ]
  },
  {
   "cell_type": "code",
   "execution_count": 9,
   "id": "29b5d309",
   "metadata": {
    "execution": {
     "iopub.execute_input": "2024-07-25T14:53:55.918715Z",
     "iopub.status.busy": "2024-07-25T14:53:55.918312Z",
     "iopub.status.idle": "2024-07-25T14:53:59.675233Z",
     "shell.execute_reply": "2024-07-25T14:53:59.674153Z"
    },
    "papermill": {
     "duration": 3.787407,
     "end_time": "2024-07-25T14:53:59.677752",
     "exception": false,
     "start_time": "2024-07-25T14:53:55.890345",
     "status": "completed"
    },
    "tags": []
   },
   "outputs": [
    {
     "data": {
      "text/plain": [
       "id                      0\n",
       "Gender                  0\n",
       "Age                     0\n",
       "Driving_License         0\n",
       "Region_Code             0\n",
       "Previously_Insured      0\n",
       "Vehicle_Age             0\n",
       "Vehicle_Damage          0\n",
       "Annual_Premium          0\n",
       "Policy_Sales_Channel    0\n",
       "Vintage                 0\n",
       "Response                0\n",
       "dtype: int64"
      ]
     },
     "execution_count": 9,
     "metadata": {},
     "output_type": "execute_result"
    }
   ],
   "source": [
    "train_df.isna().sum()"
   ]
  },
  {
   "cell_type": "code",
   "execution_count": 10,
   "id": "0feb9aca",
   "metadata": {
    "execution": {
     "iopub.execute_input": "2024-07-25T14:53:59.733198Z",
     "iopub.status.busy": "2024-07-25T14:53:59.732759Z",
     "iopub.status.idle": "2024-07-25T14:53:59.859366Z",
     "shell.execute_reply": "2024-07-25T14:53:59.858346Z"
    },
    "papermill": {
     "duration": 0.157288,
     "end_time": "2024-07-25T14:53:59.861924",
     "exception": false,
     "start_time": "2024-07-25T14:53:59.704636",
     "status": "completed"
    },
    "tags": []
   },
   "outputs": [
    {
     "data": {
      "text/plain": [
       "Response\n",
       "0    0.877003\n",
       "1    0.122997\n",
       "Name: proportion, dtype: float64"
      ]
     },
     "execution_count": 10,
     "metadata": {},
     "output_type": "execute_result"
    }
   ],
   "source": [
    "train_df[Y_COLUMN].value_counts(normalize=True)"
   ]
  },
  {
   "cell_type": "markdown",
   "id": "886a96b8",
   "metadata": {
    "papermill": {
     "duration": 0.028701,
     "end_time": "2024-07-25T14:53:59.917703",
     "exception": false,
     "start_time": "2024-07-25T14:53:59.889002",
     "status": "completed"
    },
    "tags": []
   },
   "source": [
    "There is a clear bias in this dataset which will need to be address with under / over sampling."
   ]
  },
  {
   "cell_type": "code",
   "execution_count": 11,
   "id": "00fceff6",
   "metadata": {
    "execution": {
     "iopub.execute_input": "2024-07-25T14:53:59.973941Z",
     "iopub.status.busy": "2024-07-25T14:53:59.973529Z",
     "iopub.status.idle": "2024-07-25T14:53:59.982896Z",
     "shell.execute_reply": "2024-07-25T14:53:59.981658Z"
    },
    "papermill": {
     "duration": 0.040859,
     "end_time": "2024-07-25T14:53:59.985629",
     "exception": false,
     "start_time": "2024-07-25T14:53:59.944770",
     "status": "completed"
    },
    "tags": []
   },
   "outputs": [
    {
     "data": {
      "text/plain": [
       "id                        int64\n",
       "Gender                   object\n",
       "Age                       int64\n",
       "Driving_License           int64\n",
       "Region_Code             float64\n",
       "Previously_Insured        int64\n",
       "Vehicle_Age              object\n",
       "Vehicle_Damage           object\n",
       "Annual_Premium          float64\n",
       "Policy_Sales_Channel    float64\n",
       "Vintage                   int64\n",
       "Response                  int64\n",
       "dtype: object"
      ]
     },
     "execution_count": 11,
     "metadata": {},
     "output_type": "execute_result"
    }
   ],
   "source": [
    "train_df.dtypes"
   ]
  },
  {
   "cell_type": "markdown",
   "id": "e11d5911",
   "metadata": {
    "papermill": {
     "duration": 0.027049,
     "end_time": "2024-07-25T14:54:00.039688",
     "exception": false,
     "start_time": "2024-07-25T14:54:00.012639",
     "status": "completed"
    },
    "tags": []
   },
   "source": [
    "Test Data Null and Dtype checks"
   ]
  },
  {
   "cell_type": "code",
   "execution_count": 12,
   "id": "e6693222",
   "metadata": {
    "execution": {
     "iopub.execute_input": "2024-07-25T14:54:00.096113Z",
     "iopub.status.busy": "2024-07-25T14:54:00.095141Z",
     "iopub.status.idle": "2024-07-25T14:54:08.799560Z",
     "shell.execute_reply": "2024-07-25T14:54:08.798385Z"
    },
    "papermill": {
     "duration": 8.735429,
     "end_time": "2024-07-25T14:54:08.802225",
     "exception": false,
     "start_time": "2024-07-25T14:54:00.066796",
     "status": "completed"
    },
    "tags": []
   },
   "outputs": [
    {
     "data": {
      "text/plain": [
       "id                      0\n",
       "Gender                  0\n",
       "Age                     0\n",
       "Driving_License         0\n",
       "Region_Code             0\n",
       "Previously_Insured      0\n",
       "Vehicle_Age             0\n",
       "Vehicle_Damage          0\n",
       "Annual_Premium          0\n",
       "Policy_Sales_Channel    0\n",
       "Vintage                 0\n",
       "dtype: int64"
      ]
     },
     "execution_count": 12,
     "metadata": {},
     "output_type": "execute_result"
    }
   ],
   "source": [
    "test_df.isna().sum().compute()"
   ]
  },
  {
   "cell_type": "markdown",
   "id": "d4677961",
   "metadata": {
    "papermill": {
     "duration": 0.027811,
     "end_time": "2024-07-25T14:54:08.858109",
     "exception": false,
     "start_time": "2024-07-25T14:54:08.830298",
     "status": "completed"
    },
    "tags": []
   },
   "source": [
    "There doesn't seem to be any missing or unusual data so we can proceed with the EDA of the training Dataset."
   ]
  },
  {
   "cell_type": "markdown",
   "id": "04b9a461",
   "metadata": {
    "papermill": {
     "duration": 0.02732,
     "end_time": "2024-07-25T14:54:08.913250",
     "exception": false,
     "start_time": "2024-07-25T14:54:08.885930",
     "status": "completed"
    },
    "tags": []
   },
   "source": [
    "### 1.2 EDA"
   ]
  },
  {
   "cell_type": "code",
   "execution_count": 13,
   "id": "731cb124",
   "metadata": {
    "execution": {
     "iopub.execute_input": "2024-07-25T14:54:08.971309Z",
     "iopub.status.busy": "2024-07-25T14:54:08.970880Z",
     "iopub.status.idle": "2024-07-25T14:54:08.993725Z",
     "shell.execute_reply": "2024-07-25T14:54:08.992341Z"
    },
    "papermill": {
     "duration": 0.054582,
     "end_time": "2024-07-25T14:54:08.996524",
     "exception": false,
     "start_time": "2024-07-25T14:54:08.941942",
     "status": "completed"
    },
    "tags": []
   },
   "outputs": [
    {
     "data": {
      "text/html": [
       "<div>\n",
       "<style scoped>\n",
       "    .dataframe tbody tr th:only-of-type {\n",
       "        vertical-align: middle;\n",
       "    }\n",
       "\n",
       "    .dataframe tbody tr th {\n",
       "        vertical-align: top;\n",
       "    }\n",
       "\n",
       "    .dataframe thead th {\n",
       "        text-align: right;\n",
       "    }\n",
       "</style>\n",
       "<table border=\"1\" class=\"dataframe\">\n",
       "  <thead>\n",
       "    <tr style=\"text-align: right;\">\n",
       "      <th></th>\n",
       "      <th>id</th>\n",
       "      <th>Gender</th>\n",
       "      <th>Age</th>\n",
       "      <th>Driving_License</th>\n",
       "      <th>Region_Code</th>\n",
       "      <th>Previously_Insured</th>\n",
       "      <th>Vehicle_Age</th>\n",
       "      <th>Vehicle_Damage</th>\n",
       "      <th>Annual_Premium</th>\n",
       "      <th>Policy_Sales_Channel</th>\n",
       "      <th>Vintage</th>\n",
       "      <th>Response</th>\n",
       "    </tr>\n",
       "  </thead>\n",
       "  <tbody>\n",
       "    <tr>\n",
       "      <th>0</th>\n",
       "      <td>0</td>\n",
       "      <td>Male</td>\n",
       "      <td>21</td>\n",
       "      <td>1</td>\n",
       "      <td>35.0</td>\n",
       "      <td>0</td>\n",
       "      <td>1-2 Year</td>\n",
       "      <td>Yes</td>\n",
       "      <td>65101.0</td>\n",
       "      <td>124.0</td>\n",
       "      <td>187</td>\n",
       "      <td>0</td>\n",
       "    </tr>\n",
       "    <tr>\n",
       "      <th>1</th>\n",
       "      <td>1</td>\n",
       "      <td>Male</td>\n",
       "      <td>43</td>\n",
       "      <td>1</td>\n",
       "      <td>28.0</td>\n",
       "      <td>0</td>\n",
       "      <td>&gt; 2 Years</td>\n",
       "      <td>Yes</td>\n",
       "      <td>58911.0</td>\n",
       "      <td>26.0</td>\n",
       "      <td>288</td>\n",
       "      <td>1</td>\n",
       "    </tr>\n",
       "    <tr>\n",
       "      <th>2</th>\n",
       "      <td>2</td>\n",
       "      <td>Female</td>\n",
       "      <td>25</td>\n",
       "      <td>1</td>\n",
       "      <td>14.0</td>\n",
       "      <td>1</td>\n",
       "      <td>&lt; 1 Year</td>\n",
       "      <td>No</td>\n",
       "      <td>38043.0</td>\n",
       "      <td>152.0</td>\n",
       "      <td>254</td>\n",
       "      <td>0</td>\n",
       "    </tr>\n",
       "    <tr>\n",
       "      <th>3</th>\n",
       "      <td>3</td>\n",
       "      <td>Female</td>\n",
       "      <td>35</td>\n",
       "      <td>1</td>\n",
       "      <td>1.0</td>\n",
       "      <td>0</td>\n",
       "      <td>1-2 Year</td>\n",
       "      <td>Yes</td>\n",
       "      <td>2630.0</td>\n",
       "      <td>156.0</td>\n",
       "      <td>76</td>\n",
       "      <td>0</td>\n",
       "    </tr>\n",
       "    <tr>\n",
       "      <th>4</th>\n",
       "      <td>4</td>\n",
       "      <td>Female</td>\n",
       "      <td>36</td>\n",
       "      <td>1</td>\n",
       "      <td>15.0</td>\n",
       "      <td>1</td>\n",
       "      <td>1-2 Year</td>\n",
       "      <td>No</td>\n",
       "      <td>31951.0</td>\n",
       "      <td>152.0</td>\n",
       "      <td>294</td>\n",
       "      <td>0</td>\n",
       "    </tr>\n",
       "  </tbody>\n",
       "</table>\n",
       "</div>"
      ],
      "text/plain": [
       "   id  Gender  Age  Driving_License  Region_Code  Previously_Insured  \\\n",
       "0   0    Male   21                1         35.0                   0   \n",
       "1   1    Male   43                1         28.0                   0   \n",
       "2   2  Female   25                1         14.0                   1   \n",
       "3   3  Female   35                1          1.0                   0   \n",
       "4   4  Female   36                1         15.0                   1   \n",
       "\n",
       "  Vehicle_Age Vehicle_Damage  Annual_Premium  Policy_Sales_Channel  Vintage  \\\n",
       "0    1-2 Year            Yes         65101.0                 124.0      187   \n",
       "1   > 2 Years            Yes         58911.0                  26.0      288   \n",
       "2    < 1 Year             No         38043.0                 152.0      254   \n",
       "3    1-2 Year            Yes          2630.0                 156.0       76   \n",
       "4    1-2 Year             No         31951.0                 152.0      294   \n",
       "\n",
       "   Response  \n",
       "0         0  \n",
       "1         1  \n",
       "2         0  \n",
       "3         0  \n",
       "4         0  "
      ]
     },
     "execution_count": 13,
     "metadata": {},
     "output_type": "execute_result"
    }
   ],
   "source": [
    "train_df.head()"
   ]
  },
  {
   "cell_type": "markdown",
   "id": "d65e8b7c",
   "metadata": {
    "papermill": {
     "duration": 0.027506,
     "end_time": "2024-07-25T14:54:09.052042",
     "exception": false,
     "start_time": "2024-07-25T14:54:09.024536",
     "status": "completed"
    },
    "tags": []
   },
   "source": [
    "I'm going to start by reviewing the distribution of Driving License values."
   ]
  },
  {
   "cell_type": "code",
   "execution_count": 14,
   "id": "f17afada",
   "metadata": {
    "execution": {
     "iopub.execute_input": "2024-07-25T14:54:09.109767Z",
     "iopub.status.busy": "2024-07-25T14:54:09.109351Z",
     "iopub.status.idle": "2024-07-25T14:54:09.228838Z",
     "shell.execute_reply": "2024-07-25T14:54:09.227541Z"
    },
    "papermill": {
     "duration": 0.151875,
     "end_time": "2024-07-25T14:54:09.231533",
     "exception": false,
     "start_time": "2024-07-25T14:54:09.079658",
     "status": "completed"
    },
    "tags": []
   },
   "outputs": [
    {
     "data": {
      "text/plain": [
       "Driving_License\n",
       "1    0.998022\n",
       "0    0.001978\n",
       "Name: proportion, dtype: float64"
      ]
     },
     "execution_count": 14,
     "metadata": {},
     "output_type": "execute_result"
    }
   ],
   "source": [
    "train_df['Driving_License'].value_counts(normalize=True)"
   ]
  },
  {
   "cell_type": "markdown",
   "id": "5e412f66",
   "metadata": {
    "papermill": {
     "duration": 0.027814,
     "end_time": "2024-07-25T14:54:09.288120",
     "exception": false,
     "start_time": "2024-07-25T14:54:09.260306",
     "status": "completed"
    },
    "tags": []
   },
   "source": [
    "Over 99% of the dataset has a driving license. which makes sense as companies wouldn't be targeting non-drivers for insurance. Leads me to conclude that this can potentially be removed from the dataset."
   ]
  },
  {
   "cell_type": "code",
   "execution_count": 15,
   "id": "9e428970",
   "metadata": {
    "execution": {
     "iopub.execute_input": "2024-07-25T14:54:09.346701Z",
     "iopub.status.busy": "2024-07-25T14:54:09.346273Z",
     "iopub.status.idle": "2024-07-25T14:54:11.434921Z",
     "shell.execute_reply": "2024-07-25T14:54:11.433934Z"
    },
    "papermill": {
     "duration": 2.121461,
     "end_time": "2024-07-25T14:54:11.437481",
     "exception": false,
     "start_time": "2024-07-25T14:54:09.316020",
     "status": "completed"
    },
    "tags": []
   },
   "outputs": [
    {
     "data": {
      "text/plain": [
       "Gender\n",
       "Male      0.541351\n",
       "Female    0.458649\n",
       "Name: proportion, dtype: float64"
      ]
     },
     "execution_count": 15,
     "metadata": {},
     "output_type": "execute_result"
    }
   ],
   "source": [
    "train_df['Gender'].value_counts(normalize=True)"
   ]
  },
  {
   "cell_type": "markdown",
   "id": "08ea80f5",
   "metadata": {
    "papermill": {
     "duration": 0.027699,
     "end_time": "2024-07-25T14:54:11.493513",
     "exception": false,
     "start_time": "2024-07-25T14:54:11.465814",
     "status": "completed"
    },
    "tags": []
   },
   "source": [
    "Fairly even split between Male and Female."
   ]
  },
  {
   "cell_type": "code",
   "execution_count": 16,
   "id": "64f427da",
   "metadata": {
    "execution": {
     "iopub.execute_input": "2024-07-25T14:54:11.551220Z",
     "iopub.status.busy": "2024-07-25T14:54:11.550775Z",
     "iopub.status.idle": "2024-07-25T14:54:11.699994Z",
     "shell.execute_reply": "2024-07-25T14:54:11.698877Z"
    },
    "papermill": {
     "duration": 0.181349,
     "end_time": "2024-07-25T14:54:11.702704",
     "exception": false,
     "start_time": "2024-07-25T14:54:11.521355",
     "status": "completed"
    },
    "tags": []
   },
   "outputs": [
    {
     "data": {
      "text/plain": [
       "array([124.,  26., 152., 156., 160.,   8.,  31., 157.,  60., 122.,  15.,\n",
       "        30., 147.,   1.,  63., 136., 154.,  18., 135., 151.,   3.,  10.,\n",
       "        55., 108.,   7.,  29., 163.,  13., 133., 145.,  25.,  12., 109.,\n",
       "        23.,  78.,   4., 153., 150., 146., 120., 107., 155.,  61.,  14.,\n",
       "        45.,  11.,  19.,  24.,  52., 132., 125.,  59.,  16.,  22.,  56.,\n",
       "        20., 148., 158., 159., 139.,   9., 113., 121.,  21., 111.,  64.,\n",
       "       116., 103., 128.,  65.,  37.,  91., 129., 127., 106., 140.,  35.,\n",
       "       131.,  17.,  93.,  90.,  36., 118.,  54.,  62., 138.,  42.,  46.,\n",
       "        86.,  80.,  68., 119.,  94.,  48.,  47.,  83.,  97.,  70.,  53.,\n",
       "        44., 114.,  98.,  88., 110.,  32., 126.,  96.,  99., 130.,  66.,\n",
       "       105.,  51.,  38., 137.,  89.,  81.,  92., 117.,  73.,  69.,  49.,\n",
       "        87.,  33.,  39.,  50., 123.,  75., 101., 115., 100.,  95.,  57.,\n",
       "        71., 134.,  82.,   6.,  58., 104.,  41.,  40.,   2.,  79.,  34.,\n",
       "        76.,  28.,  74.,  43.,  67.,  27., 112., 102.,   5.])"
      ]
     },
     "execution_count": 16,
     "metadata": {},
     "output_type": "execute_result"
    }
   ],
   "source": [
    "train_df['Policy_Sales_Channel'].unique()"
   ]
  },
  {
   "cell_type": "markdown",
   "id": "80641476",
   "metadata": {
    "papermill": {
     "duration": 0.028966,
     "end_time": "2024-07-25T14:54:11.760829",
     "exception": false,
     "start_time": "2024-07-25T14:54:11.731863",
     "status": "completed"
    },
    "tags": []
   },
   "source": [
    "### 1.3 Train Dataset Feature Engineering\n",
    "\n",
    "The first step is to analyse the current dataset to determine if features can be engineered. For starters, I'm going to investigate the object columns to determine whether they can be encoded."
   ]
  },
  {
   "cell_type": "code",
   "execution_count": 17,
   "id": "1a3e2734",
   "metadata": {
    "execution": {
     "iopub.execute_input": "2024-07-25T14:54:11.819379Z",
     "iopub.status.busy": "2024-07-25T14:54:11.818444Z",
     "iopub.status.idle": "2024-07-25T14:54:11.836518Z",
     "shell.execute_reply": "2024-07-25T14:54:11.835443Z"
    },
    "papermill": {
     "duration": 0.050171,
     "end_time": "2024-07-25T14:54:11.839091",
     "exception": false,
     "start_time": "2024-07-25T14:54:11.788920",
     "status": "completed"
    },
    "tags": []
   },
   "outputs": [
    {
     "data": {
      "text/html": [
       "<div>\n",
       "<style scoped>\n",
       "    .dataframe tbody tr th:only-of-type {\n",
       "        vertical-align: middle;\n",
       "    }\n",
       "\n",
       "    .dataframe tbody tr th {\n",
       "        vertical-align: top;\n",
       "    }\n",
       "\n",
       "    .dataframe thead th {\n",
       "        text-align: right;\n",
       "    }\n",
       "</style>\n",
       "<table border=\"1\" class=\"dataframe\">\n",
       "  <thead>\n",
       "    <tr style=\"text-align: right;\">\n",
       "      <th></th>\n",
       "      <th>id</th>\n",
       "      <th>Gender</th>\n",
       "      <th>Age</th>\n",
       "      <th>Driving_License</th>\n",
       "      <th>Region_Code</th>\n",
       "      <th>Previously_Insured</th>\n",
       "      <th>Vehicle_Age</th>\n",
       "      <th>Vehicle_Damage</th>\n",
       "      <th>Annual_Premium</th>\n",
       "      <th>Policy_Sales_Channel</th>\n",
       "      <th>Vintage</th>\n",
       "      <th>Response</th>\n",
       "    </tr>\n",
       "  </thead>\n",
       "  <tbody>\n",
       "    <tr>\n",
       "      <th>0</th>\n",
       "      <td>0</td>\n",
       "      <td>Male</td>\n",
       "      <td>21</td>\n",
       "      <td>1</td>\n",
       "      <td>35.0</td>\n",
       "      <td>0</td>\n",
       "      <td>1-2 Year</td>\n",
       "      <td>Yes</td>\n",
       "      <td>65101.0</td>\n",
       "      <td>124.0</td>\n",
       "      <td>187</td>\n",
       "      <td>0</td>\n",
       "    </tr>\n",
       "    <tr>\n",
       "      <th>1</th>\n",
       "      <td>1</td>\n",
       "      <td>Male</td>\n",
       "      <td>43</td>\n",
       "      <td>1</td>\n",
       "      <td>28.0</td>\n",
       "      <td>0</td>\n",
       "      <td>&gt; 2 Years</td>\n",
       "      <td>Yes</td>\n",
       "      <td>58911.0</td>\n",
       "      <td>26.0</td>\n",
       "      <td>288</td>\n",
       "      <td>1</td>\n",
       "    </tr>\n",
       "    <tr>\n",
       "      <th>2</th>\n",
       "      <td>2</td>\n",
       "      <td>Female</td>\n",
       "      <td>25</td>\n",
       "      <td>1</td>\n",
       "      <td>14.0</td>\n",
       "      <td>1</td>\n",
       "      <td>&lt; 1 Year</td>\n",
       "      <td>No</td>\n",
       "      <td>38043.0</td>\n",
       "      <td>152.0</td>\n",
       "      <td>254</td>\n",
       "      <td>0</td>\n",
       "    </tr>\n",
       "    <tr>\n",
       "      <th>3</th>\n",
       "      <td>3</td>\n",
       "      <td>Female</td>\n",
       "      <td>35</td>\n",
       "      <td>1</td>\n",
       "      <td>1.0</td>\n",
       "      <td>0</td>\n",
       "      <td>1-2 Year</td>\n",
       "      <td>Yes</td>\n",
       "      <td>2630.0</td>\n",
       "      <td>156.0</td>\n",
       "      <td>76</td>\n",
       "      <td>0</td>\n",
       "    </tr>\n",
       "    <tr>\n",
       "      <th>4</th>\n",
       "      <td>4</td>\n",
       "      <td>Female</td>\n",
       "      <td>36</td>\n",
       "      <td>1</td>\n",
       "      <td>15.0</td>\n",
       "      <td>1</td>\n",
       "      <td>1-2 Year</td>\n",
       "      <td>No</td>\n",
       "      <td>31951.0</td>\n",
       "      <td>152.0</td>\n",
       "      <td>294</td>\n",
       "      <td>0</td>\n",
       "    </tr>\n",
       "  </tbody>\n",
       "</table>\n",
       "</div>"
      ],
      "text/plain": [
       "   id  Gender  Age  Driving_License  Region_Code  Previously_Insured  \\\n",
       "0   0    Male   21                1         35.0                   0   \n",
       "1   1    Male   43                1         28.0                   0   \n",
       "2   2  Female   25                1         14.0                   1   \n",
       "3   3  Female   35                1          1.0                   0   \n",
       "4   4  Female   36                1         15.0                   1   \n",
       "\n",
       "  Vehicle_Age Vehicle_Damage  Annual_Premium  Policy_Sales_Channel  Vintage  \\\n",
       "0    1-2 Year            Yes         65101.0                 124.0      187   \n",
       "1   > 2 Years            Yes         58911.0                  26.0      288   \n",
       "2    < 1 Year             No         38043.0                 152.0      254   \n",
       "3    1-2 Year            Yes          2630.0                 156.0       76   \n",
       "4    1-2 Year             No         31951.0                 152.0      294   \n",
       "\n",
       "   Response  \n",
       "0         0  \n",
       "1         1  \n",
       "2         0  \n",
       "3         0  \n",
       "4         0  "
      ]
     },
     "execution_count": 17,
     "metadata": {},
     "output_type": "execute_result"
    }
   ],
   "source": [
    "train_df.head()"
   ]
  },
  {
   "cell_type": "code",
   "execution_count": 18,
   "id": "2668d41a",
   "metadata": {
    "execution": {
     "iopub.execute_input": "2024-07-25T14:54:11.898760Z",
     "iopub.status.busy": "2024-07-25T14:54:11.897987Z",
     "iopub.status.idle": "2024-07-25T14:54:13.999854Z",
     "shell.execute_reply": "2024-07-25T14:54:13.998666Z"
    },
    "papermill": {
     "duration": 2.134731,
     "end_time": "2024-07-25T14:54:14.002791",
     "exception": false,
     "start_time": "2024-07-25T14:54:11.868060",
     "status": "completed"
    },
    "tags": []
   },
   "outputs": [
    {
     "data": {
      "text/plain": [
       "Gender\n",
       "Male      6228134\n",
       "Female    5276664\n",
       "Name: count, dtype: int64"
      ]
     },
     "execution_count": 18,
     "metadata": {},
     "output_type": "execute_result"
    }
   ],
   "source": [
    "train_df['Gender'].value_counts()"
   ]
  },
  {
   "cell_type": "markdown",
   "id": "4079a714",
   "metadata": {
    "papermill": {
     "duration": 0.028878,
     "end_time": "2024-07-25T14:54:14.061869",
     "exception": false,
     "start_time": "2024-07-25T14:54:14.032991",
     "status": "completed"
    },
    "tags": []
   },
   "source": [
    "There are only two values so these can be binary encoded."
   ]
  },
  {
   "cell_type": "code",
   "execution_count": 19,
   "id": "9db68425",
   "metadata": {
    "execution": {
     "iopub.execute_input": "2024-07-25T14:54:14.122340Z",
     "iopub.status.busy": "2024-07-25T14:54:14.121894Z",
     "iopub.status.idle": "2024-07-25T14:54:16.212486Z",
     "shell.execute_reply": "2024-07-25T14:54:16.211373Z"
    },
    "papermill": {
     "duration": 2.124497,
     "end_time": "2024-07-25T14:54:16.215182",
     "exception": false,
     "start_time": "2024-07-25T14:54:14.090685",
     "status": "completed"
    },
    "tags": []
   },
   "outputs": [
    {
     "data": {
      "text/plain": [
       "Vehicle_Age\n",
       "1-2 Year     5982678\n",
       "< 1 Year     5044145\n",
       "> 2 Years     477975\n",
       "Name: count, dtype: int64"
      ]
     },
     "execution_count": 19,
     "metadata": {},
     "output_type": "execute_result"
    }
   ],
   "source": [
    "train_df['Vehicle_Age'].value_counts()"
   ]
  },
  {
   "cell_type": "markdown",
   "id": "cf586beb",
   "metadata": {
    "papermill": {
     "duration": 0.028759,
     "end_time": "2024-07-25T14:54:16.273389",
     "exception": false,
     "start_time": "2024-07-25T14:54:16.244630",
     "status": "completed"
    },
    "tags": []
   },
   "source": [
    "There are only three unique values for Vehicle Age, so these can also be encoded."
   ]
  },
  {
   "cell_type": "code",
   "execution_count": 20,
   "id": "ce58ca3a",
   "metadata": {
    "execution": {
     "iopub.execute_input": "2024-07-25T14:54:16.333203Z",
     "iopub.status.busy": "2024-07-25T14:54:16.332777Z",
     "iopub.status.idle": "2024-07-25T14:54:18.414504Z",
     "shell.execute_reply": "2024-07-25T14:54:18.413342Z"
    },
    "papermill": {
     "duration": 2.114669,
     "end_time": "2024-07-25T14:54:18.416952",
     "exception": false,
     "start_time": "2024-07-25T14:54:16.302283",
     "status": "completed"
    },
    "tags": []
   },
   "outputs": [
    {
     "data": {
      "text/plain": [
       "Vehicle_Damage\n",
       "Yes    5783229\n",
       "No     5721569\n",
       "Name: count, dtype: int64"
      ]
     },
     "execution_count": 20,
     "metadata": {},
     "output_type": "execute_result"
    }
   ],
   "source": [
    "train_df['Vehicle_Damage'].value_counts()"
   ]
  },
  {
   "cell_type": "markdown",
   "id": "3f2dd134",
   "metadata": {
    "papermill": {
     "duration": 0.029017,
     "end_time": "2024-07-25T14:54:18.476569",
     "exception": false,
     "start_time": "2024-07-25T14:54:18.447552",
     "status": "completed"
    },
    "tags": []
   },
   "source": [
    "Finally Vehicle Damage can also be binary encoded."
   ]
  },
  {
   "cell_type": "markdown",
   "id": "601a90cf",
   "metadata": {
    "papermill": {
     "duration": 0.029814,
     "end_time": "2024-07-25T14:54:18.536533",
     "exception": false,
     "start_time": "2024-07-25T14:54:18.506719",
     "status": "completed"
    },
    "tags": []
   },
   "source": [
    "So to summarize, all of the object columns can be encoded. Vehicle Damage and Gender will be Binary Encoded, and Vehicle Age will be one hot encoded."
   ]
  },
  {
   "cell_type": "code",
   "execution_count": 21,
   "id": "dd6640f6",
   "metadata": {
    "execution": {
     "iopub.execute_input": "2024-07-25T14:54:18.597617Z",
     "iopub.status.busy": "2024-07-25T14:54:18.597233Z",
     "iopub.status.idle": "2024-07-25T14:54:18.602436Z",
     "shell.execute_reply": "2024-07-25T14:54:18.601379Z"
    },
    "papermill": {
     "duration": 0.038345,
     "end_time": "2024-07-25T14:54:18.605108",
     "exception": false,
     "start_time": "2024-07-25T14:54:18.566763",
     "status": "completed"
    },
    "tags": []
   },
   "outputs": [],
   "source": [
    "BINARY_COLS = ['Gender', 'Vehicle_Damage']\n",
    "ONE_HOT_COLS = ['Vehicle_Age']"
   ]
  },
  {
   "cell_type": "code",
   "execution_count": 22,
   "id": "5c70282f",
   "metadata": {
    "execution": {
     "iopub.execute_input": "2024-07-25T14:54:18.665778Z",
     "iopub.status.busy": "2024-07-25T14:54:18.665373Z",
     "iopub.status.idle": "2024-07-25T14:54:18.672161Z",
     "shell.execute_reply": "2024-07-25T14:54:18.671030Z"
    },
    "papermill": {
     "duration": 0.040485,
     "end_time": "2024-07-25T14:54:18.674987",
     "exception": false,
     "start_time": "2024-07-25T14:54:18.634502",
     "status": "completed"
    },
    "tags": []
   },
   "outputs": [],
   "source": [
    "label_binarizer = LabelBinarizer()"
   ]
  },
  {
   "cell_type": "code",
   "execution_count": 23,
   "id": "7c27594f",
   "metadata": {
    "execution": {
     "iopub.execute_input": "2024-07-25T14:54:18.737071Z",
     "iopub.status.busy": "2024-07-25T14:54:18.736152Z",
     "iopub.status.idle": "2024-07-25T14:54:37.003941Z",
     "shell.execute_reply": "2024-07-25T14:54:37.002502Z"
    },
    "papermill": {
     "duration": 18.301708,
     "end_time": "2024-07-25T14:54:37.007354",
     "exception": false,
     "start_time": "2024-07-25T14:54:18.705646",
     "status": "completed"
    },
    "tags": []
   },
   "outputs": [],
   "source": [
    "train_df['Gender'] = train_df['Gender'].apply(lambda x: 0 if x == 'Male' else 1)\n",
    "train_df['Vehicle_Damage'] = train_df['Vehicle_Damage'].apply(lambda x: 1 if x == 'Yes' else 0)"
   ]
  },
  {
   "cell_type": "code",
   "execution_count": 24,
   "id": "b1c1842c",
   "metadata": {
    "execution": {
     "iopub.execute_input": "2024-07-25T14:54:37.070025Z",
     "iopub.status.busy": "2024-07-25T14:54:37.069028Z",
     "iopub.status.idle": "2024-07-25T14:54:37.087514Z",
     "shell.execute_reply": "2024-07-25T14:54:37.086401Z"
    },
    "papermill": {
     "duration": 0.053502,
     "end_time": "2024-07-25T14:54:37.090268",
     "exception": false,
     "start_time": "2024-07-25T14:54:37.036766",
     "status": "completed"
    },
    "tags": []
   },
   "outputs": [
    {
     "data": {
      "text/html": [
       "<div>\n",
       "<style scoped>\n",
       "    .dataframe tbody tr th:only-of-type {\n",
       "        vertical-align: middle;\n",
       "    }\n",
       "\n",
       "    .dataframe tbody tr th {\n",
       "        vertical-align: top;\n",
       "    }\n",
       "\n",
       "    .dataframe thead th {\n",
       "        text-align: right;\n",
       "    }\n",
       "</style>\n",
       "<table border=\"1\" class=\"dataframe\">\n",
       "  <thead>\n",
       "    <tr style=\"text-align: right;\">\n",
       "      <th></th>\n",
       "      <th>id</th>\n",
       "      <th>Gender</th>\n",
       "      <th>Age</th>\n",
       "      <th>Driving_License</th>\n",
       "      <th>Region_Code</th>\n",
       "      <th>Previously_Insured</th>\n",
       "      <th>Vehicle_Age</th>\n",
       "      <th>Vehicle_Damage</th>\n",
       "      <th>Annual_Premium</th>\n",
       "      <th>Policy_Sales_Channel</th>\n",
       "      <th>Vintage</th>\n",
       "      <th>Response</th>\n",
       "    </tr>\n",
       "  </thead>\n",
       "  <tbody>\n",
       "    <tr>\n",
       "      <th>0</th>\n",
       "      <td>0</td>\n",
       "      <td>0</td>\n",
       "      <td>21</td>\n",
       "      <td>1</td>\n",
       "      <td>35.0</td>\n",
       "      <td>0</td>\n",
       "      <td>1-2 Year</td>\n",
       "      <td>1</td>\n",
       "      <td>65101.0</td>\n",
       "      <td>124.0</td>\n",
       "      <td>187</td>\n",
       "      <td>0</td>\n",
       "    </tr>\n",
       "    <tr>\n",
       "      <th>1</th>\n",
       "      <td>1</td>\n",
       "      <td>0</td>\n",
       "      <td>43</td>\n",
       "      <td>1</td>\n",
       "      <td>28.0</td>\n",
       "      <td>0</td>\n",
       "      <td>&gt; 2 Years</td>\n",
       "      <td>1</td>\n",
       "      <td>58911.0</td>\n",
       "      <td>26.0</td>\n",
       "      <td>288</td>\n",
       "      <td>1</td>\n",
       "    </tr>\n",
       "    <tr>\n",
       "      <th>2</th>\n",
       "      <td>2</td>\n",
       "      <td>1</td>\n",
       "      <td>25</td>\n",
       "      <td>1</td>\n",
       "      <td>14.0</td>\n",
       "      <td>1</td>\n",
       "      <td>&lt; 1 Year</td>\n",
       "      <td>0</td>\n",
       "      <td>38043.0</td>\n",
       "      <td>152.0</td>\n",
       "      <td>254</td>\n",
       "      <td>0</td>\n",
       "    </tr>\n",
       "    <tr>\n",
       "      <th>3</th>\n",
       "      <td>3</td>\n",
       "      <td>1</td>\n",
       "      <td>35</td>\n",
       "      <td>1</td>\n",
       "      <td>1.0</td>\n",
       "      <td>0</td>\n",
       "      <td>1-2 Year</td>\n",
       "      <td>1</td>\n",
       "      <td>2630.0</td>\n",
       "      <td>156.0</td>\n",
       "      <td>76</td>\n",
       "      <td>0</td>\n",
       "    </tr>\n",
       "    <tr>\n",
       "      <th>4</th>\n",
       "      <td>4</td>\n",
       "      <td>1</td>\n",
       "      <td>36</td>\n",
       "      <td>1</td>\n",
       "      <td>15.0</td>\n",
       "      <td>1</td>\n",
       "      <td>1-2 Year</td>\n",
       "      <td>0</td>\n",
       "      <td>31951.0</td>\n",
       "      <td>152.0</td>\n",
       "      <td>294</td>\n",
       "      <td>0</td>\n",
       "    </tr>\n",
       "  </tbody>\n",
       "</table>\n",
       "</div>"
      ],
      "text/plain": [
       "   id  Gender  Age  Driving_License  Region_Code  Previously_Insured  \\\n",
       "0   0       0   21                1         35.0                   0   \n",
       "1   1       0   43                1         28.0                   0   \n",
       "2   2       1   25                1         14.0                   1   \n",
       "3   3       1   35                1          1.0                   0   \n",
       "4   4       1   36                1         15.0                   1   \n",
       "\n",
       "  Vehicle_Age  Vehicle_Damage  Annual_Premium  Policy_Sales_Channel  Vintage  \\\n",
       "0    1-2 Year               1         65101.0                 124.0      187   \n",
       "1   > 2 Years               1         58911.0                  26.0      288   \n",
       "2    < 1 Year               0         38043.0                 152.0      254   \n",
       "3    1-2 Year               1          2630.0                 156.0       76   \n",
       "4    1-2 Year               0         31951.0                 152.0      294   \n",
       "\n",
       "   Response  \n",
       "0         0  \n",
       "1         1  \n",
       "2         0  \n",
       "3         0  \n",
       "4         0  "
      ]
     },
     "execution_count": 24,
     "metadata": {},
     "output_type": "execute_result"
    }
   ],
   "source": [
    "train_df.head()"
   ]
  },
  {
   "cell_type": "code",
   "execution_count": 25,
   "id": "314f0d38",
   "metadata": {
    "execution": {
     "iopub.execute_input": "2024-07-25T14:54:37.152846Z",
     "iopub.status.busy": "2024-07-25T14:54:37.152442Z",
     "iopub.status.idle": "2024-07-25T14:54:38.590293Z",
     "shell.execute_reply": "2024-07-25T14:54:38.589150Z"
    },
    "papermill": {
     "duration": 1.4723,
     "end_time": "2024-07-25T14:54:38.593291",
     "exception": false,
     "start_time": "2024-07-25T14:54:37.120991",
     "status": "completed"
    },
    "tags": []
   },
   "outputs": [],
   "source": [
    "vehicle_age_one_hot = pd.get_dummies(train_df['Vehicle_Age'])"
   ]
  },
  {
   "cell_type": "code",
   "execution_count": 26,
   "id": "6e1fb3dc",
   "metadata": {
    "execution": {
     "iopub.execute_input": "2024-07-25T14:54:38.655424Z",
     "iopub.status.busy": "2024-07-25T14:54:38.654222Z",
     "iopub.status.idle": "2024-07-25T14:54:38.856477Z",
     "shell.execute_reply": "2024-07-25T14:54:38.855109Z"
    },
    "papermill": {
     "duration": 0.236817,
     "end_time": "2024-07-25T14:54:38.859647",
     "exception": false,
     "start_time": "2024-07-25T14:54:38.622830",
     "status": "completed"
    },
    "tags": []
   },
   "outputs": [],
   "source": [
    "train_df[vehicle_age_one_hot.columns] = vehicle_age_one_hot.values.astype(int)"
   ]
  },
  {
   "cell_type": "code",
   "execution_count": 27,
   "id": "154e0393",
   "metadata": {
    "execution": {
     "iopub.execute_input": "2024-07-25T14:54:38.922238Z",
     "iopub.status.busy": "2024-07-25T14:54:38.921792Z",
     "iopub.status.idle": "2024-07-25T14:54:39.559869Z",
     "shell.execute_reply": "2024-07-25T14:54:39.558825Z"
    },
    "papermill": {
     "duration": 0.672738,
     "end_time": "2024-07-25T14:54:39.562613",
     "exception": false,
     "start_time": "2024-07-25T14:54:38.889875",
     "status": "completed"
    },
    "tags": []
   },
   "outputs": [],
   "source": [
    "train_df.drop(['Vehicle_Age', 'id'], axis=1, inplace=True)"
   ]
  },
  {
   "cell_type": "code",
   "execution_count": 28,
   "id": "d6529501",
   "metadata": {
    "execution": {
     "iopub.execute_input": "2024-07-25T14:54:39.623041Z",
     "iopub.status.busy": "2024-07-25T14:54:39.622641Z",
     "iopub.status.idle": "2024-07-25T14:54:39.641250Z",
     "shell.execute_reply": "2024-07-25T14:54:39.640042Z"
    },
    "papermill": {
     "duration": 0.05212,
     "end_time": "2024-07-25T14:54:39.643995",
     "exception": false,
     "start_time": "2024-07-25T14:54:39.591875",
     "status": "completed"
    },
    "tags": []
   },
   "outputs": [
    {
     "data": {
      "text/html": [
       "<div>\n",
       "<style scoped>\n",
       "    .dataframe tbody tr th:only-of-type {\n",
       "        vertical-align: middle;\n",
       "    }\n",
       "\n",
       "    .dataframe tbody tr th {\n",
       "        vertical-align: top;\n",
       "    }\n",
       "\n",
       "    .dataframe thead th {\n",
       "        text-align: right;\n",
       "    }\n",
       "</style>\n",
       "<table border=\"1\" class=\"dataframe\">\n",
       "  <thead>\n",
       "    <tr style=\"text-align: right;\">\n",
       "      <th></th>\n",
       "      <th>Gender</th>\n",
       "      <th>Age</th>\n",
       "      <th>Driving_License</th>\n",
       "      <th>Region_Code</th>\n",
       "      <th>Previously_Insured</th>\n",
       "      <th>Vehicle_Damage</th>\n",
       "      <th>Annual_Premium</th>\n",
       "      <th>Policy_Sales_Channel</th>\n",
       "      <th>Vintage</th>\n",
       "      <th>Response</th>\n",
       "      <th>1-2 Year</th>\n",
       "      <th>&lt; 1 Year</th>\n",
       "      <th>&gt; 2 Years</th>\n",
       "    </tr>\n",
       "  </thead>\n",
       "  <tbody>\n",
       "    <tr>\n",
       "      <th>0</th>\n",
       "      <td>0</td>\n",
       "      <td>21</td>\n",
       "      <td>1</td>\n",
       "      <td>35.0</td>\n",
       "      <td>0</td>\n",
       "      <td>1</td>\n",
       "      <td>65101.0</td>\n",
       "      <td>124.0</td>\n",
       "      <td>187</td>\n",
       "      <td>0</td>\n",
       "      <td>1</td>\n",
       "      <td>0</td>\n",
       "      <td>0</td>\n",
       "    </tr>\n",
       "    <tr>\n",
       "      <th>1</th>\n",
       "      <td>0</td>\n",
       "      <td>43</td>\n",
       "      <td>1</td>\n",
       "      <td>28.0</td>\n",
       "      <td>0</td>\n",
       "      <td>1</td>\n",
       "      <td>58911.0</td>\n",
       "      <td>26.0</td>\n",
       "      <td>288</td>\n",
       "      <td>1</td>\n",
       "      <td>0</td>\n",
       "      <td>0</td>\n",
       "      <td>1</td>\n",
       "    </tr>\n",
       "    <tr>\n",
       "      <th>2</th>\n",
       "      <td>1</td>\n",
       "      <td>25</td>\n",
       "      <td>1</td>\n",
       "      <td>14.0</td>\n",
       "      <td>1</td>\n",
       "      <td>0</td>\n",
       "      <td>38043.0</td>\n",
       "      <td>152.0</td>\n",
       "      <td>254</td>\n",
       "      <td>0</td>\n",
       "      <td>0</td>\n",
       "      <td>1</td>\n",
       "      <td>0</td>\n",
       "    </tr>\n",
       "    <tr>\n",
       "      <th>3</th>\n",
       "      <td>1</td>\n",
       "      <td>35</td>\n",
       "      <td>1</td>\n",
       "      <td>1.0</td>\n",
       "      <td>0</td>\n",
       "      <td>1</td>\n",
       "      <td>2630.0</td>\n",
       "      <td>156.0</td>\n",
       "      <td>76</td>\n",
       "      <td>0</td>\n",
       "      <td>1</td>\n",
       "      <td>0</td>\n",
       "      <td>0</td>\n",
       "    </tr>\n",
       "    <tr>\n",
       "      <th>4</th>\n",
       "      <td>1</td>\n",
       "      <td>36</td>\n",
       "      <td>1</td>\n",
       "      <td>15.0</td>\n",
       "      <td>1</td>\n",
       "      <td>0</td>\n",
       "      <td>31951.0</td>\n",
       "      <td>152.0</td>\n",
       "      <td>294</td>\n",
       "      <td>0</td>\n",
       "      <td>1</td>\n",
       "      <td>0</td>\n",
       "      <td>0</td>\n",
       "    </tr>\n",
       "  </tbody>\n",
       "</table>\n",
       "</div>"
      ],
      "text/plain": [
       "   Gender  Age  Driving_License  Region_Code  Previously_Insured  \\\n",
       "0       0   21                1         35.0                   0   \n",
       "1       0   43                1         28.0                   0   \n",
       "2       1   25                1         14.0                   1   \n",
       "3       1   35                1          1.0                   0   \n",
       "4       1   36                1         15.0                   1   \n",
       "\n",
       "   Vehicle_Damage  Annual_Premium  Policy_Sales_Channel  Vintage  Response  \\\n",
       "0               1         65101.0                 124.0      187         0   \n",
       "1               1         58911.0                  26.0      288         1   \n",
       "2               0         38043.0                 152.0      254         0   \n",
       "3               1          2630.0                 156.0       76         0   \n",
       "4               0         31951.0                 152.0      294         0   \n",
       "\n",
       "   1-2 Year  < 1 Year  > 2 Years  \n",
       "0         1         0          0  \n",
       "1         0         0          1  \n",
       "2         0         1          0  \n",
       "3         1         0          0  \n",
       "4         1         0          0  "
      ]
     },
     "execution_count": 28,
     "metadata": {},
     "output_type": "execute_result"
    }
   ],
   "source": [
    "train_df.head()"
   ]
  },
  {
   "cell_type": "markdown",
   "id": "74697494",
   "metadata": {
    "papermill": {
     "duration": 0.029648,
     "end_time": "2024-07-25T14:54:39.704659",
     "exception": false,
     "start_time": "2024-07-25T14:54:39.675011",
     "status": "completed"
    },
    "tags": []
   },
   "source": [
    "### 1.4 Numerical Col Analysis\n",
    "\n",
    "The next step is to review the distribution of numerical columns"
   ]
  },
  {
   "cell_type": "code",
   "execution_count": 29,
   "id": "331a43f9",
   "metadata": {
    "execution": {
     "iopub.execute_input": "2024-07-25T14:54:39.766822Z",
     "iopub.status.busy": "2024-07-25T14:54:39.766408Z",
     "iopub.status.idle": "2024-07-25T14:54:39.772002Z",
     "shell.execute_reply": "2024-07-25T14:54:39.770734Z"
    },
    "papermill": {
     "duration": 0.03972,
     "end_time": "2024-07-25T14:54:39.774856",
     "exception": false,
     "start_time": "2024-07-25T14:54:39.735136",
     "status": "completed"
    },
    "tags": []
   },
   "outputs": [],
   "source": [
    "NUMERICAL_COLS = ['Age', 'Region_Code', 'Annual_Premium', 'Policy_Sales_Channel', 'Vintage']"
   ]
  },
  {
   "cell_type": "code",
   "execution_count": 30,
   "id": "80ae8e4b",
   "metadata": {
    "execution": {
     "iopub.execute_input": "2024-07-25T14:54:39.838399Z",
     "iopub.status.busy": "2024-07-25T14:54:39.837964Z",
     "iopub.status.idle": "2024-07-25T14:54:43.897905Z",
     "shell.execute_reply": "2024-07-25T14:54:43.896612Z"
    },
    "papermill": {
     "duration": 4.094452,
     "end_time": "2024-07-25T14:54:43.900765",
     "exception": false,
     "start_time": "2024-07-25T14:54:39.806313",
     "status": "completed"
    },
    "tags": []
   },
   "outputs": [
    {
     "data": {
      "text/plain": [
       "array([[<Axes: title={'center': 'Age'}>,\n",
       "        <Axes: title={'center': 'Region_Code'}>],\n",
       "       [<Axes: title={'center': 'Annual_Premium'}>,\n",
       "        <Axes: title={'center': 'Policy_Sales_Channel'}>],\n",
       "       [<Axes: title={'center': 'Vintage'}>, <Axes: >]], dtype=object)"
      ]
     },
     "execution_count": 30,
     "metadata": {},
     "output_type": "execute_result"
    },
    {
     "data": {
      "image/png": "[encoded data removed]",
      "text/plain": [
       "<Figure size 1200x1000 with 6 Axes>"
      ]
     },
     "metadata": {},
     "output_type": "display_data"
    }
   ],
   "source": [
    "train_df[NUMERICAL_COLS].hist(bins=20, figsize=(12, 10))"
   ]
  },
  {
   "cell_type": "markdown",
   "id": "d7cc2f73",
   "metadata": {
    "papermill": {
     "duration": 0.03006,
     "end_time": "2024-07-25T14:54:43.961589",
     "exception": false,
     "start_time": "2024-07-25T14:54:43.931529",
     "status": "completed"
    },
    "tags": []
   },
   "source": [
    "Given the above distributions, it may be worth normalizing these columns."
   ]
  },
  {
   "cell_type": "markdown",
   "id": "a6a38094",
   "metadata": {
    "papermill": {
     "duration": 0.030644,
     "end_time": "2024-07-25T14:54:44.023485",
     "exception": false,
     "start_time": "2024-07-25T14:54:43.992841",
     "status": "completed"
    },
    "tags": []
   },
   "source": [
    "### 1.5 Target vs Feature Analysis\n",
    "\n",
    "The next step is to review the distribution of the Target Variable, and investigate the relationship between the rest of the features prior to model training."
   ]
  },
  {
   "cell_type": "code",
   "execution_count": 31,
   "id": "d39f6344",
   "metadata": {
    "execution": {
     "iopub.execute_input": "2024-07-25T14:54:44.087730Z",
     "iopub.status.busy": "2024-07-25T14:54:44.087314Z",
     "iopub.status.idle": "2024-07-25T14:54:50.236707Z",
     "shell.execute_reply": "2024-07-25T14:54:50.235622Z"
    },
    "papermill": {
     "duration": 6.185428,
     "end_time": "2024-07-25T14:54:50.239426",
     "exception": false,
     "start_time": "2024-07-25T14:54:44.053998",
     "status": "completed"
    },
    "tags": []
   },
   "outputs": [],
   "source": [
    "corr = train_df.corr()"
   ]
  },
  {
   "cell_type": "code",
   "execution_count": 32,
   "id": "f7f68ae8",
   "metadata": {
    "execution": {
     "iopub.execute_input": "2024-07-25T14:54:50.303689Z",
     "iopub.status.busy": "2024-07-25T14:54:50.303286Z",
     "iopub.status.idle": "2024-07-25T14:54:51.351802Z",
     "shell.execute_reply": "2024-07-25T14:54:51.350334Z"
    },
    "papermill": {
     "duration": 1.085429,
     "end_time": "2024-07-25T14:54:51.356406",
     "exception": false,
     "start_time": "2024-07-25T14:54:50.270977",
     "status": "completed"
    },
    "tags": []
   },
   "outputs": [
    {
     "data": {
      "text/plain": [
       "<Axes: >"
      ]
     },
     "execution_count": 32,
     "metadata": {},
     "output_type": "execute_result"
    },
    {
     "data": {
      "image/png": "[encoded data removed]",
      "text/plain": [
       "<Figure size 1200x1200 with 2 Axes>"
      ]
     },
     "metadata": {},
     "output_type": "display_data"
    }
   ],
   "source": [
    "fig, ax = plt.subplots(figsize=(12, 12))\n",
    "sns.heatmap(corr, annot=True, linewidths=.5, ax=ax)"
   ]
  },
  {
   "cell_type": "markdown",
   "id": "10612bfc",
   "metadata": {
    "papermill": {
     "duration": 0.033291,
     "end_time": "2024-07-25T14:54:51.423407",
     "exception": false,
     "start_time": "2024-07-25T14:54:51.390116",
     "status": "completed"
    },
    "tags": []
   },
   "source": [
    "## 2. Pipeline Definition and Train Test Split"
   ]
  },
  {
   "cell_type": "markdown",
   "id": "30bedf19",
   "metadata": {
    "papermill": {
     "duration": 0.033443,
     "end_time": "2024-07-25T14:54:51.490379",
     "exception": false,
     "start_time": "2024-07-25T14:54:51.456936",
     "status": "completed"
    },
    "tags": []
   },
   "source": [
    "Define the preprocessors used for numerical, one hot and binary data."
   ]
  },
  {
   "cell_type": "code",
   "execution_count": 33,
   "id": "cd7e8e33",
   "metadata": {
    "execution": {
     "iopub.execute_input": "2024-07-25T14:54:51.559096Z",
     "iopub.status.busy": "2024-07-25T14:54:51.558658Z",
     "iopub.status.idle": "2024-07-25T14:54:51.564173Z",
     "shell.execute_reply": "2024-07-25T14:54:51.562935Z"
    },
    "papermill": {
     "duration": 0.043039,
     "end_time": "2024-07-25T14:54:51.566830",
     "exception": false,
     "start_time": "2024-07-25T14:54:51.523791",
     "status": "completed"
    },
    "tags": []
   },
   "outputs": [],
   "source": [
    "numerical_transformer = Pipeline(\n",
    "    steps=[\n",
    "        ('ss', StandardScaler())\n",
    "    ]\n",
    ")"
   ]
  },
  {
   "cell_type": "code",
   "execution_count": 34,
   "id": "3c95bf29",
   "metadata": {
    "execution": {
     "iopub.execute_input": "2024-07-25T14:54:51.636637Z",
     "iopub.status.busy": "2024-07-25T14:54:51.635574Z",
     "iopub.status.idle": "2024-07-25T14:54:51.641482Z",
     "shell.execute_reply": "2024-07-25T14:54:51.640383Z"
    },
    "papermill": {
     "duration": 0.04352,
     "end_time": "2024-07-25T14:54:51.643994",
     "exception": false,
     "start_time": "2024-07-25T14:54:51.600474",
     "status": "completed"
    },
    "tags": []
   },
   "outputs": [],
   "source": [
    "preprocessor = ColumnTransformer(\n",
    "    transformers=[\n",
    "        ('num', numerical_transformer, NUMERICAL_COLS)\n",
    "    ],\n",
    "    remainder='passthrough'\n",
    ")"
   ]
  },
  {
   "cell_type": "code",
   "execution_count": 35,
   "id": "c4796ad9",
   "metadata": {
    "execution": {
     "iopub.execute_input": "2024-07-25T14:54:51.714120Z",
     "iopub.status.busy": "2024-07-25T14:54:51.713691Z",
     "iopub.status.idle": "2024-07-25T14:54:51.720592Z",
     "shell.execute_reply": "2024-07-25T14:54:51.719423Z"
    },
    "papermill": {
     "duration": 0.045231,
     "end_time": "2024-07-25T14:54:51.722940",
     "exception": false,
     "start_time": "2024-07-25T14:54:51.677709",
     "status": "completed"
    },
    "tags": []
   },
   "outputs": [],
   "source": [
    "def create_lr_model(class_weight=None):\n",
    "    lr_model = LogisticRegressionCV(Cs=4,\n",
    "                                    cv=4,\n",
    "                                    class_weight=class_weight,\n",
    "                                    penalty='l2',\n",
    "                                    random_state=RANDOM_STATE,\n",
    "                                    max_iter=1000,\n",
    "                                    n_jobs=-1)\n",
    "    pipeline = Pipeline(\n",
    "        steps=[\n",
    "            ('preprocessor', preprocessor),\n",
    "            ('classifier', lr_model)\n",
    "        ]\n",
    "    )\n",
    "    return pipeline"
   ]
  },
  {
   "cell_type": "code",
   "execution_count": 36,
   "id": "b2d305cd",
   "metadata": {
    "execution": {
     "iopub.execute_input": "2024-07-25T14:54:51.795643Z",
     "iopub.status.busy": "2024-07-25T14:54:51.795202Z",
     "iopub.status.idle": "2024-07-25T14:54:52.297242Z",
     "shell.execute_reply": "2024-07-25T14:54:52.295901Z"
    },
    "papermill": {
     "duration": 0.541405,
     "end_time": "2024-07-25T14:54:52.300057",
     "exception": false,
     "start_time": "2024-07-25T14:54:51.758652",
     "status": "completed"
    },
    "tags": []
   },
   "outputs": [],
   "source": [
    "X = train_df.drop(Y_COLUMN, axis=1)\n",
    "y = train_df[Y_COLUMN]"
   ]
  },
  {
   "cell_type": "code",
   "execution_count": 37,
   "id": "01ea70fe",
   "metadata": {
    "execution": {
     "iopub.execute_input": "2024-07-25T14:54:52.369674Z",
     "iopub.status.busy": "2024-07-25T14:54:52.369267Z",
     "iopub.status.idle": "2024-07-25T14:54:52.387490Z",
     "shell.execute_reply": "2024-07-25T14:54:52.386241Z"
    },
    "papermill": {
     "duration": 0.056332,
     "end_time": "2024-07-25T14:54:52.390108",
     "exception": false,
     "start_time": "2024-07-25T14:54:52.333776",
     "status": "completed"
    },
    "tags": []
   },
   "outputs": [
    {
     "data": {
      "text/html": [
       "<div>\n",
       "<style scoped>\n",
       "    .dataframe tbody tr th:only-of-type {\n",
       "        vertical-align: middle;\n",
       "    }\n",
       "\n",
       "    .dataframe tbody tr th {\n",
       "        vertical-align: top;\n",
       "    }\n",
       "\n",
       "    .dataframe thead th {\n",
       "        text-align: right;\n",
       "    }\n",
       "</style>\n",
       "<table border=\"1\" class=\"dataframe\">\n",
       "  <thead>\n",
       "    <tr style=\"text-align: right;\">\n",
       "      <th></th>\n",
       "      <th>Gender</th>\n",
       "      <th>Age</th>\n",
       "      <th>Driving_License</th>\n",
       "      <th>Region_Code</th>\n",
       "      <th>Previously_Insured</th>\n",
       "      <th>Vehicle_Damage</th>\n",
       "      <th>Annual_Premium</th>\n",
       "      <th>Policy_Sales_Channel</th>\n",
       "      <th>Vintage</th>\n",
       "      <th>1-2 Year</th>\n",
       "      <th>&lt; 1 Year</th>\n",
       "      <th>&gt; 2 Years</th>\n",
       "    </tr>\n",
       "  </thead>\n",
       "  <tbody>\n",
       "    <tr>\n",
       "      <th>0</th>\n",
       "      <td>0</td>\n",
       "      <td>21</td>\n",
       "      <td>1</td>\n",
       "      <td>35.0</td>\n",
       "      <td>0</td>\n",
       "      <td>1</td>\n",
       "      <td>65101.0</td>\n",
       "      <td>124.0</td>\n",
       "      <td>187</td>\n",
       "      <td>1</td>\n",
       "      <td>0</td>\n",
       "      <td>0</td>\n",
       "    </tr>\n",
       "    <tr>\n",
       "      <th>1</th>\n",
       "      <td>0</td>\n",
       "      <td>43</td>\n",
       "      <td>1</td>\n",
       "      <td>28.0</td>\n",
       "      <td>0</td>\n",
       "      <td>1</td>\n",
       "      <td>58911.0</td>\n",
       "      <td>26.0</td>\n",
       "      <td>288</td>\n",
       "      <td>0</td>\n",
       "      <td>0</td>\n",
       "      <td>1</td>\n",
       "    </tr>\n",
       "    <tr>\n",
       "      <th>2</th>\n",
       "      <td>1</td>\n",
       "      <td>25</td>\n",
       "      <td>1</td>\n",
       "      <td>14.0</td>\n",
       "      <td>1</td>\n",
       "      <td>0</td>\n",
       "      <td>38043.0</td>\n",
       "      <td>152.0</td>\n",
       "      <td>254</td>\n",
       "      <td>0</td>\n",
       "      <td>1</td>\n",
       "      <td>0</td>\n",
       "    </tr>\n",
       "    <tr>\n",
       "      <th>3</th>\n",
       "      <td>1</td>\n",
       "      <td>35</td>\n",
       "      <td>1</td>\n",
       "      <td>1.0</td>\n",
       "      <td>0</td>\n",
       "      <td>1</td>\n",
       "      <td>2630.0</td>\n",
       "      <td>156.0</td>\n",
       "      <td>76</td>\n",
       "      <td>1</td>\n",
       "      <td>0</td>\n",
       "      <td>0</td>\n",
       "    </tr>\n",
       "    <tr>\n",
       "      <th>4</th>\n",
       "      <td>1</td>\n",
       "      <td>36</td>\n",
       "      <td>1</td>\n",
       "      <td>15.0</td>\n",
       "      <td>1</td>\n",
       "      <td>0</td>\n",
       "      <td>31951.0</td>\n",
       "      <td>152.0</td>\n",
       "      <td>294</td>\n",
       "      <td>1</td>\n",
       "      <td>0</td>\n",
       "      <td>0</td>\n",
       "    </tr>\n",
       "  </tbody>\n",
       "</table>\n",
       "</div>"
      ],
      "text/plain": [
       "   Gender  Age  Driving_License  Region_Code  Previously_Insured  \\\n",
       "0       0   21                1         35.0                   0   \n",
       "1       0   43                1         28.0                   0   \n",
       "2       1   25                1         14.0                   1   \n",
       "3       1   35                1          1.0                   0   \n",
       "4       1   36                1         15.0                   1   \n",
       "\n",
       "   Vehicle_Damage  Annual_Premium  Policy_Sales_Channel  Vintage  1-2 Year  \\\n",
       "0               1         65101.0                 124.0      187         1   \n",
       "1               1         58911.0                  26.0      288         0   \n",
       "2               0         38043.0                 152.0      254         0   \n",
       "3               1          2630.0                 156.0       76         1   \n",
       "4               0         31951.0                 152.0      294         1   \n",
       "\n",
       "   < 1 Year  > 2 Years  \n",
       "0         0          0  \n",
       "1         0          1  \n",
       "2         1          0  \n",
       "3         0          0  \n",
       "4         0          0  "
      ]
     },
     "execution_count": 37,
     "metadata": {},
     "output_type": "execute_result"
    }
   ],
   "source": [
    "X.head()"
   ]
  },
  {
   "cell_type": "code",
   "execution_count": 38,
   "id": "6fd8f7dd",
   "metadata": {
    "execution": {
     "iopub.execute_input": "2024-07-25T14:54:52.459898Z",
     "iopub.status.busy": "2024-07-25T14:54:52.459467Z",
     "iopub.status.idle": "2024-07-25T14:54:58.166682Z",
     "shell.execute_reply": "2024-07-25T14:54:58.165193Z"
    },
    "papermill": {
     "duration": 5.745799,
     "end_time": "2024-07-25T14:54:58.169729",
     "exception": false,
     "start_time": "2024-07-25T14:54:52.423930",
     "status": "completed"
    },
    "tags": []
   },
   "outputs": [],
   "source": [
    "ss = StratifiedShuffleSplit(n_splits=1, test_size=TEST_SIZE, random_state=RANDOM_STATE)\n",
    "train_index, test_index = next(ss.split(X, y))"
   ]
  },
  {
   "cell_type": "code",
   "execution_count": 39,
   "id": "b5e73c56",
   "metadata": {
    "execution": {
     "iopub.execute_input": "2024-07-25T14:54:58.241224Z",
     "iopub.status.busy": "2024-07-25T14:54:58.240757Z",
     "iopub.status.idle": "2024-07-25T14:55:01.606996Z",
     "shell.execute_reply": "2024-07-25T14:55:01.605802Z"
    },
    "papermill": {
     "duration": 3.404998,
     "end_time": "2024-07-25T14:55:01.609976",
     "exception": false,
     "start_time": "2024-07-25T14:54:58.204978",
     "status": "completed"
    },
    "tags": []
   },
   "outputs": [],
   "source": [
    "X_train, X_test, y_train, y_test = X.iloc[train_index], X.iloc[test_index], y.iloc[train_index], y.iloc[test_index]"
   ]
  },
  {
   "cell_type": "code",
   "execution_count": 40,
   "id": "2821b185",
   "metadata": {
    "execution": {
     "iopub.execute_input": "2024-07-25T14:55:01.682920Z",
     "iopub.status.busy": "2024-07-25T14:55:01.682525Z",
     "iopub.status.idle": "2024-07-25T14:55:01.688347Z",
     "shell.execute_reply": "2024-07-25T14:55:01.687048Z"
    },
    "papermill": {
     "duration": 0.044956,
     "end_time": "2024-07-25T14:55:01.690841",
     "exception": false,
     "start_time": "2024-07-25T14:55:01.645885",
     "status": "completed"
    },
    "tags": []
   },
   "outputs": [],
   "source": [
    "lr_model = create_lr_model()"
   ]
  },
  {
   "cell_type": "markdown",
   "id": "b06cfc64",
   "metadata": {
    "papermill": {
     "duration": 0.033796,
     "end_time": "2024-07-25T14:55:01.759900",
     "exception": false,
     "start_time": "2024-07-25T14:55:01.726104",
     "status": "completed"
    },
    "tags": []
   },
   "source": [
    "## 3. Initial Model Training and Evaluation"
   ]
  },
  {
   "cell_type": "code",
   "execution_count": 41,
   "id": "eea92b21",
   "metadata": {
    "execution": {
     "iopub.execute_input": "2024-07-25T14:55:01.830458Z",
     "iopub.status.busy": "2024-07-25T14:55:01.829193Z",
     "iopub.status.idle": "2024-07-25T14:56:51.315162Z",
     "shell.execute_reply": "2024-07-25T14:56:51.313324Z"
    },
    "papermill": {
     "duration": 109.580468,
     "end_time": "2024-07-25T14:56:51.374337",
     "exception": false,
     "start_time": "2024-07-25T14:55:01.793869",
     "status": "completed"
    },
    "tags": []
   },
   "outputs": [
    {
     "data": {
      "text/html": [
       "<style>#sk-container-id-1 {color: black;background-color: white;}#sk-container-id-1 pre{padding: 0;}#sk-container-id-1 div.sk-toggleable {background-color: white;}#sk-container-id-1 label.sk-toggleable__label {cursor: pointer;display: block;width: 100%;margin-bottom: 0;padding: 0.3em;box-sizing: border-box;text-align: center;}#sk-container-id-1 label.sk-toggleable__label-arrow:before {content: \"▸\";float: left;margin-right: 0.25em;color: #696969;}#sk-container-id-1 label.sk-toggleable__label-arrow:hover:before {color: black;}#sk-container-id-1 div.sk-estimator:hover label.sk-toggleable__label-arrow:before {color: black;}#sk-container-id-1 div.sk-toggleable__content {max-height: 0;max-width: 0;overflow: hidden;text-align: left;background-color: #f0f8ff;}#sk-container-id-1 div.sk-toggleable__content pre {margin: 0.2em;color: black;border-radius: 0.25em;background-color: #f0f8ff;}#sk-container-id-1 input.sk-toggleable__control:checked~div.sk-toggleable__content {max-height: 200px;max-width: 100%;overflow: auto;}#sk-container-id-1 input.sk-toggleable__control:checked~label.sk-toggleable__label-arrow:before {content: \"▾\";}#sk-container-id-1 div.sk-estimator input.sk-toggleable__control:checked~label.sk-toggleable__label {background-color: #d4ebff;}#sk-container-id-1 div.sk-label input.sk-toggleable__control:checked~label.sk-toggleable__label {background-color: #d4ebff;}#sk-container-id-1 input.sk-hidden--visually {border: 0;clip: rect(1px 1px 1px 1px);clip: rect(1px, 1px, 1px, 1px);height: 1px;margin: -1px;overflow: hidden;padding: 0;position: absolute;width: 1px;}#sk-container-id-1 div.sk-estimator {font-family: monospace;background-color: #f0f8ff;border: 1px dotted black;border-radius: 0.25em;box-sizing: border-box;margin-bottom: 0.5em;}#sk-container-id-1 div.sk-estimator:hover {background-color: #d4ebff;}#sk-container-id-1 div.sk-parallel-item::after {content: \"\";width: 100%;border-bottom: 1px solid gray;flex-grow: 1;}#sk-container-id-1 div.sk-label:hover label.sk-toggleable__label {background-color: #d4ebff;}#sk-container-id-1 div.sk-serial::before {content: \"\";position: absolute;border-left: 1px solid gray;box-sizing: border-box;top: 0;bottom: 0;left: 50%;z-index: 0;}#sk-container-id-1 div.sk-serial {display: flex;flex-direction: column;align-items: center;background-color: white;padding-right: 0.2em;padding-left: 0.2em;position: relative;}#sk-container-id-1 div.sk-item {position: relative;z-index: 1;}#sk-container-id-1 div.sk-parallel {display: flex;align-items: stretch;justify-content: center;background-color: white;position: relative;}#sk-container-id-1 div.sk-item::before, #sk-container-id-1 div.sk-parallel-item::before {content: \"\";position: absolute;border-left: 1px solid gray;box-sizing: border-box;top: 0;bottom: 0;left: 50%;z-index: -1;}#sk-container-id-1 div.sk-parallel-item {display: flex;flex-direction: column;z-index: 1;position: relative;background-color: white;}#sk-container-id-1 div.sk-parallel-item:first-child::after {align-self: flex-end;width: 50%;}#sk-container-id-1 div.sk-parallel-item:last-child::after {align-self: flex-start;width: 50%;}#sk-container-id-1 div.sk-parallel-item:only-child::after {width: 0;}#sk-container-id-1 div.sk-dashed-wrapped {border: 1px dashed gray;margin: 0 0.4em 0.5em 0.4em;box-sizing: border-box;padding-bottom: 0.4em;background-color: white;}#sk-container-id-1 div.sk-label label {font-family: monospace;font-weight: bold;display: inline-block;line-height: 1.2em;}#sk-container-id-1 div.sk-label-container {text-align: center;}#sk-container-id-1 div.sk-container {/* jupyter's `normalize.less` sets `[hidden] { display: none; }` but bootstrap.min.css set `[hidden] { display: none !important; }` so we also need the `!important` here to be able to override the default hidden behavior on the sphinx rendered scikit-learn.org. See: https://github.com/scikit-learn/scikit-learn/issues/21755 */display: inline-block !important;position: relative;}#sk-container-id-1 div.sk-text-repr-fallback {display: none;}</style><div id=\"sk-container-id-1\" class=\"sk-top-container\"><div class=\"sk-text-repr-fallback\"><pre>Pipeline(steps=[(&#x27;preprocessor&#x27;,\n",
       "                 ColumnTransformer(remainder=&#x27;passthrough&#x27;,\n",
       "                                   transformers=[(&#x27;num&#x27;,\n",
       "                                                  Pipeline(steps=[(&#x27;ss&#x27;,\n",
       "                                                                   StandardScaler())]),\n",
       "                                                  [&#x27;Age&#x27;, &#x27;Region_Code&#x27;,\n",
       "                                                   &#x27;Annual_Premium&#x27;,\n",
       "                                                   &#x27;Policy_Sales_Channel&#x27;,\n",
       "                                                   &#x27;Vintage&#x27;])])),\n",
       "                (&#x27;classifier&#x27;,\n",
       "                 LogisticRegressionCV(Cs=4, cv=4, max_iter=1000, n_jobs=-1,\n",
       "                                      random_state=32))])</pre><b>In a Jupyter environment, please rerun this cell to show the HTML representation or trust the notebook. <br />On GitHub, the HTML representation is unable to render, please try loading this page with nbviewer.org.</b></div><div class=\"sk-container\" hidden><div class=\"sk-item sk-dashed-wrapped\"><div class=\"sk-label-container\"><div class=\"sk-label sk-toggleable\"><input class=\"sk-toggleable__control sk-hidden--visually\" id=\"sk-estimator-id-1\" type=\"checkbox\" ><label for=\"sk-estimator-id-1\" class=\"sk-toggleable__label sk-toggleable__label-arrow\">Pipeline</label><div class=\"sk-toggleable__content\"><pre>Pipeline(steps=[(&#x27;preprocessor&#x27;,\n",
       "                 ColumnTransformer(remainder=&#x27;passthrough&#x27;,\n",
       "                                   transformers=[(&#x27;num&#x27;,\n",
       "                                                  Pipeline(steps=[(&#x27;ss&#x27;,\n",
       "                                                                   StandardScaler())]),\n",
       "                                                  [&#x27;Age&#x27;, &#x27;Region_Code&#x27;,\n",
       "                                                   &#x27;Annual_Premium&#x27;,\n",
       "                                                   &#x27;Policy_Sales_Channel&#x27;,\n",
       "                                                   &#x27;Vintage&#x27;])])),\n",
       "                (&#x27;classifier&#x27;,\n",
       "                 LogisticRegressionCV(Cs=4, cv=4, max_iter=1000, n_jobs=-1,\n",
       "                                      random_state=32))])</pre></div></div></div><div class=\"sk-serial\"><div class=\"sk-item sk-dashed-wrapped\"><div class=\"sk-label-container\"><div class=\"sk-label sk-toggleable\"><input class=\"sk-toggleable__control sk-hidden--visually\" id=\"sk-estimator-id-2\" type=\"checkbox\" ><label for=\"sk-estimator-id-2\" class=\"sk-toggleable__label sk-toggleable__label-arrow\">preprocessor: ColumnTransformer</label><div class=\"sk-toggleable__content\"><pre>ColumnTransformer(remainder=&#x27;passthrough&#x27;,\n",
       "                  transformers=[(&#x27;num&#x27;,\n",
       "                                 Pipeline(steps=[(&#x27;ss&#x27;, StandardScaler())]),\n",
       "                                 [&#x27;Age&#x27;, &#x27;Region_Code&#x27;, &#x27;Annual_Premium&#x27;,\n",
       "                                  &#x27;Policy_Sales_Channel&#x27;, &#x27;Vintage&#x27;])])</pre></div></div></div><div class=\"sk-parallel\"><div class=\"sk-parallel-item\"><div class=\"sk-item\"><div class=\"sk-label-container\"><div class=\"sk-label sk-toggleable\"><input class=\"sk-toggleable__control sk-hidden--visually\" id=\"sk-estimator-id-3\" type=\"checkbox\" ><label for=\"sk-estimator-id-3\" class=\"sk-toggleable__label sk-toggleable__label-arrow\">num</label><div class=\"sk-toggleable__content\"><pre>[&#x27;Age&#x27;, &#x27;Region_Code&#x27;, &#x27;Annual_Premium&#x27;, &#x27;Policy_Sales_Channel&#x27;, &#x27;Vintage&#x27;]</pre></div></div></div><div class=\"sk-serial\"><div class=\"sk-item\"><div class=\"sk-serial\"><div class=\"sk-item\"><div class=\"sk-estimator sk-toggleable\"><input class=\"sk-toggleable__control sk-hidden--visually\" id=\"sk-estimator-id-4\" type=\"checkbox\" ><label for=\"sk-estimator-id-4\" class=\"sk-toggleable__label sk-toggleable__label-arrow\">StandardScaler</label><div class=\"sk-toggleable__content\"><pre>StandardScaler()</pre></div></div></div></div></div></div></div></div><div class=\"sk-parallel-item\"><div class=\"sk-item\"><div class=\"sk-label-container\"><div class=\"sk-label sk-toggleable\"><input class=\"sk-toggleable__control sk-hidden--visually\" id=\"sk-estimator-id-5\" type=\"checkbox\" ><label for=\"sk-estimator-id-5\" class=\"sk-toggleable__label sk-toggleable__label-arrow\">remainder</label><div class=\"sk-toggleable__content\"><pre>[&#x27;Gender&#x27;, &#x27;Driving_License&#x27;, &#x27;Previously_Insured&#x27;, &#x27;Vehicle_Damage&#x27;, &#x27;1-2 Year&#x27;, &#x27;&lt; 1 Year&#x27;, &#x27;&gt; 2 Years&#x27;]</pre></div></div></div><div class=\"sk-serial\"><div class=\"sk-item\"><div class=\"sk-estimator sk-toggleable\"><input class=\"sk-toggleable__control sk-hidden--visually\" id=\"sk-estimator-id-6\" type=\"checkbox\" ><label for=\"sk-estimator-id-6\" class=\"sk-toggleable__label sk-toggleable__label-arrow\">passthrough</label><div class=\"sk-toggleable__content\"><pre>passthrough</pre></div></div></div></div></div></div></div></div><div class=\"sk-item\"><div class=\"sk-estimator sk-toggleable\"><input class=\"sk-toggleable__control sk-hidden--visually\" id=\"sk-estimator-id-7\" type=\"checkbox\" ><label for=\"sk-estimator-id-7\" class=\"sk-toggleable__label sk-toggleable__label-arrow\">LogisticRegressionCV</label><div class=\"sk-toggleable__content\"><pre>LogisticRegressionCV(Cs=4, cv=4, max_iter=1000, n_jobs=-1, random_state=32)</pre></div></div></div></div></div></div></div>"
      ],
      "text/plain": [
       "Pipeline(steps=[('preprocessor',\n",
       "                 ColumnTransformer(remainder='passthrough',\n",
       "                                   transformers=[('num',\n",
       "                                                  Pipeline(steps=[('ss',\n",
       "                                                                   StandardScaler())]),\n",
       "                                                  ['Age', 'Region_Code',\n",
       "                                                   'Annual_Premium',\n",
       "                                                   'Policy_Sales_Channel',\n",
       "                                                   'Vintage'])])),\n",
       "                ('classifier',\n",
       "                 LogisticRegressionCV(Cs=4, cv=4, max_iter=1000, n_jobs=-1,\n",
       "                                      random_state=32))])"
      ]
     },
     "execution_count": 41,
     "metadata": {},
     "output_type": "execute_result"
    }
   ],
   "source": [
    "lr_model.fit(X_train, y_train)"
   ]
  },
  {
   "cell_type": "code",
   "execution_count": 42,
   "id": "1838e1c0",
   "metadata": {
    "execution": {
     "iopub.execute_input": "2024-07-25T14:56:51.446043Z",
     "iopub.status.busy": "2024-07-25T14:56:51.445576Z",
     "iopub.status.idle": "2024-07-25T14:56:52.005036Z",
     "shell.execute_reply": "2024-07-25T14:56:52.003477Z"
    },
    "papermill": {
     "duration": 0.600629,
     "end_time": "2024-07-25T14:56:52.009596",
     "exception": false,
     "start_time": "2024-07-25T14:56:51.408967",
     "status": "completed"
    },
    "tags": []
   },
   "outputs": [],
   "source": [
    "y_pred = lr_model.predict(X_test)"
   ]
  },
  {
   "cell_type": "code",
   "execution_count": 43,
   "id": "80e28a93",
   "metadata": {
    "execution": {
     "iopub.execute_input": "2024-07-25T14:56:52.119465Z",
     "iopub.status.busy": "2024-07-25T14:56:52.119015Z",
     "iopub.status.idle": "2024-07-25T14:56:57.681164Z",
     "shell.execute_reply": "2024-07-25T14:56:57.679881Z"
    },
    "papermill": {
     "duration": 5.601441,
     "end_time": "2024-07-25T14:56:57.684251",
     "exception": false,
     "start_time": "2024-07-25T14:56:52.082810",
     "status": "completed"
    },
    "tags": []
   },
   "outputs": [
    {
     "name": "stdout",
     "output_type": "stream",
     "text": [
      "              precision    recall  f1-score   support\n",
      "\n",
      "           0       0.88      1.00      0.93   2522435\n",
      "           1       0.26      0.00      0.00    353765\n",
      "\n",
      "    accuracy                           0.88   2876200\n",
      "   macro avg       0.57      0.50      0.47   2876200\n",
      "weighted avg       0.80      0.88      0.82   2876200\n",
      "\n"
     ]
    }
   ],
   "source": [
    "print(classification_report(y_test, y_pred))"
   ]
  },
  {
   "cell_type": "code",
   "execution_count": 44,
   "id": "e06733fc",
   "metadata": {
    "execution": {
     "iopub.execute_input": "2024-07-25T14:56:57.759582Z",
     "iopub.status.busy": "2024-07-25T14:56:57.759181Z",
     "iopub.status.idle": "2024-07-25T14:56:58.485652Z",
     "shell.execute_reply": "2024-07-25T14:56:58.484521Z"
    },
    "papermill": {
     "duration": 0.766463,
     "end_time": "2024-07-25T14:56:58.488263",
     "exception": false,
     "start_time": "2024-07-25T14:56:57.721800",
     "status": "completed"
    },
    "tags": []
   },
   "outputs": [
    {
     "data": {
      "text/plain": [
       "0.5000306626760633"
      ]
     },
     "execution_count": 44,
     "metadata": {},
     "output_type": "execute_result"
    }
   ],
   "source": [
    "roc_auc_score(y_test, y_pred)"
   ]
  },
  {
   "cell_type": "markdown",
   "id": "c60959d6",
   "metadata": {
    "papermill": {
     "duration": 0.035327,
     "end_time": "2024-07-25T14:56:58.558963",
     "exception": false,
     "start_time": "2024-07-25T14:56:58.523636",
     "status": "completed"
    },
    "tags": []
   },
   "source": [
    "## 4. Handling Data Imbalance with Class Weights\n",
    "\n",
    "In this section, I am going to run GridSearch to determine the optimal class_weight to use within the Logistic Regression Model to determine whether this helps resolve the data imbalance and improve metrics."
   ]
  },
  {
   "cell_type": "code",
   "execution_count": 45,
   "id": "f0f90837",
   "metadata": {
    "execution": {
     "iopub.execute_input": "2024-07-25T14:56:58.631040Z",
     "iopub.status.busy": "2024-07-25T14:56:58.630609Z",
     "iopub.status.idle": "2024-07-25T14:56:58.636501Z",
     "shell.execute_reply": "2024-07-25T14:56:58.635370Z"
    },
    "papermill": {
     "duration": 0.044905,
     "end_time": "2024-07-25T14:56:58.638949",
     "exception": false,
     "start_time": "2024-07-25T14:56:58.594044",
     "status": "completed"
    },
    "tags": []
   },
   "outputs": [],
   "source": [
    "lr_model_class = create_lr_model(class_weight={'0': 0.13, '1': 0.87})"
   ]
  },
  {
   "cell_type": "code",
   "execution_count": 46,
   "id": "108777bd",
   "metadata": {
    "execution": {
     "iopub.execute_input": "2024-07-25T14:56:58.714315Z",
     "iopub.status.busy": "2024-07-25T14:56:58.713873Z",
     "iopub.status.idle": "2024-07-25T14:59:03.971650Z",
     "shell.execute_reply": "2024-07-25T14:59:03.970254Z"
    },
    "papermill": {
     "duration": 125.354032,
     "end_time": "2024-07-25T14:59:04.028880",
     "exception": false,
     "start_time": "2024-07-25T14:56:58.674848",
     "status": "completed"
    },
    "tags": []
   },
   "outputs": [
    {
     "data": {
      "text/html": [
       "<style>#sk-container-id-2 {color: black;background-color: white;}#sk-container-id-2 pre{padding: 0;}#sk-container-id-2 div.sk-toggleable {background-color: white;}#sk-container-id-2 label.sk-toggleable__label {cursor: pointer;display: block;width: 100%;margin-bottom: 0;padding: 0.3em;box-sizing: border-box;text-align: center;}#sk-container-id-2 label.sk-toggleable__label-arrow:before {content: \"▸\";float: left;margin-right: 0.25em;color: #696969;}#sk-container-id-2 label.sk-toggleable__label-arrow:hover:before {color: black;}#sk-container-id-2 div.sk-estimator:hover label.sk-toggleable__label-arrow:before {color: black;}#sk-container-id-2 div.sk-toggleable__content {max-height: 0;max-width: 0;overflow: hidden;text-align: left;background-color: #f0f8ff;}#sk-container-id-2 div.sk-toggleable__content pre {margin: 0.2em;color: black;border-radius: 0.25em;background-color: #f0f8ff;}#sk-container-id-2 input.sk-toggleable__control:checked~div.sk-toggleable__content {max-height: 200px;max-width: 100%;overflow: auto;}#sk-container-id-2 input.sk-toggleable__control:checked~label.sk-toggleable__label-arrow:before {content: \"▾\";}#sk-container-id-2 div.sk-estimator input.sk-toggleable__control:checked~label.sk-toggleable__label {background-color: #d4ebff;}#sk-container-id-2 div.sk-label input.sk-toggleable__control:checked~label.sk-toggleable__label {background-color: #d4ebff;}#sk-container-id-2 input.sk-hidden--visually {border: 0;clip: rect(1px 1px 1px 1px);clip: rect(1px, 1px, 1px, 1px);height: 1px;margin: -1px;overflow: hidden;padding: 0;position: absolute;width: 1px;}#sk-container-id-2 div.sk-estimator {font-family: monospace;background-color: #f0f8ff;border: 1px dotted black;border-radius: 0.25em;box-sizing: border-box;margin-bottom: 0.5em;}#sk-container-id-2 div.sk-estimator:hover {background-color: #d4ebff;}#sk-container-id-2 div.sk-parallel-item::after {content: \"\";width: 100%;border-bottom: 1px solid gray;flex-grow: 1;}#sk-container-id-2 div.sk-label:hover label.sk-toggleable__label {background-color: #d4ebff;}#sk-container-id-2 div.sk-serial::before {content: \"\";position: absolute;border-left: 1px solid gray;box-sizing: border-box;top: 0;bottom: 0;left: 50%;z-index: 0;}#sk-container-id-2 div.sk-serial {display: flex;flex-direction: column;align-items: center;background-color: white;padding-right: 0.2em;padding-left: 0.2em;position: relative;}#sk-container-id-2 div.sk-item {position: relative;z-index: 1;}#sk-container-id-2 div.sk-parallel {display: flex;align-items: stretch;justify-content: center;background-color: white;position: relative;}#sk-container-id-2 div.sk-item::before, #sk-container-id-2 div.sk-parallel-item::before {content: \"\";position: absolute;border-left: 1px solid gray;box-sizing: border-box;top: 0;bottom: 0;left: 50%;z-index: -1;}#sk-container-id-2 div.sk-parallel-item {display: flex;flex-direction: column;z-index: 1;position: relative;background-color: white;}#sk-container-id-2 div.sk-parallel-item:first-child::after {align-self: flex-end;width: 50%;}#sk-container-id-2 div.sk-parallel-item:last-child::after {align-self: flex-start;width: 50%;}#sk-container-id-2 div.sk-parallel-item:only-child::after {width: 0;}#sk-container-id-2 div.sk-dashed-wrapped {border: 1px dashed gray;margin: 0 0.4em 0.5em 0.4em;box-sizing: border-box;padding-bottom: 0.4em;background-color: white;}#sk-container-id-2 div.sk-label label {font-family: monospace;font-weight: bold;display: inline-block;line-height: 1.2em;}#sk-container-id-2 div.sk-label-container {text-align: center;}#sk-container-id-2 div.sk-container {/* jupyter's `normalize.less` sets `[hidden] { display: none; }` but bootstrap.min.css set `[hidden] { display: none !important; }` so we also need the `!important` here to be able to override the default hidden behavior on the sphinx rendered scikit-learn.org. See: https://github.com/scikit-learn/scikit-learn/issues/21755 */display: inline-block !important;position: relative;}#sk-container-id-2 div.sk-text-repr-fallback {display: none;}</style><div id=\"sk-container-id-2\" class=\"sk-top-container\"><div class=\"sk-text-repr-fallback\"><pre>Pipeline(steps=[(&#x27;preprocessor&#x27;,\n",
       "                 ColumnTransformer(remainder=&#x27;passthrough&#x27;,\n",
       "                                   transformers=[(&#x27;num&#x27;,\n",
       "                                                  Pipeline(steps=[(&#x27;ss&#x27;,\n",
       "                                                                   StandardScaler())]),\n",
       "                                                  [&#x27;Age&#x27;, &#x27;Region_Code&#x27;,\n",
       "                                                   &#x27;Annual_Premium&#x27;,\n",
       "                                                   &#x27;Policy_Sales_Channel&#x27;,\n",
       "                                                   &#x27;Vintage&#x27;])])),\n",
       "                (&#x27;classifier&#x27;,\n",
       "                 LogisticRegressionCV(Cs=4, class_weight={&#x27;0&#x27;: 0.13, &#x27;1&#x27;: 0.87},\n",
       "                                      cv=4, max_iter=1000, n_jobs=-1,\n",
       "                                      random_state=32))])</pre><b>In a Jupyter environment, please rerun this cell to show the HTML representation or trust the notebook. <br />On GitHub, the HTML representation is unable to render, please try loading this page with nbviewer.org.</b></div><div class=\"sk-container\" hidden><div class=\"sk-item sk-dashed-wrapped\"><div class=\"sk-label-container\"><div class=\"sk-label sk-toggleable\"><input class=\"sk-toggleable__control sk-hidden--visually\" id=\"sk-estimator-id-8\" type=\"checkbox\" ><label for=\"sk-estimator-id-8\" class=\"sk-toggleable__label sk-toggleable__label-arrow\">Pipeline</label><div class=\"sk-toggleable__content\"><pre>Pipeline(steps=[(&#x27;preprocessor&#x27;,\n",
       "                 ColumnTransformer(remainder=&#x27;passthrough&#x27;,\n",
       "                                   transformers=[(&#x27;num&#x27;,\n",
       "                                                  Pipeline(steps=[(&#x27;ss&#x27;,\n",
       "                                                                   StandardScaler())]),\n",
       "                                                  [&#x27;Age&#x27;, &#x27;Region_Code&#x27;,\n",
       "                                                   &#x27;Annual_Premium&#x27;,\n",
       "                                                   &#x27;Policy_Sales_Channel&#x27;,\n",
       "                                                   &#x27;Vintage&#x27;])])),\n",
       "                (&#x27;classifier&#x27;,\n",
       "                 LogisticRegressionCV(Cs=4, class_weight={&#x27;0&#x27;: 0.13, &#x27;1&#x27;: 0.87},\n",
       "                                      cv=4, max_iter=1000, n_jobs=-1,\n",
       "                                      random_state=32))])</pre></div></div></div><div class=\"sk-serial\"><div class=\"sk-item sk-dashed-wrapped\"><div class=\"sk-label-container\"><div class=\"sk-label sk-toggleable\"><input class=\"sk-toggleable__control sk-hidden--visually\" id=\"sk-estimator-id-9\" type=\"checkbox\" ><label for=\"sk-estimator-id-9\" class=\"sk-toggleable__label sk-toggleable__label-arrow\">preprocessor: ColumnTransformer</label><div class=\"sk-toggleable__content\"><pre>ColumnTransformer(remainder=&#x27;passthrough&#x27;,\n",
       "                  transformers=[(&#x27;num&#x27;,\n",
       "                                 Pipeline(steps=[(&#x27;ss&#x27;, StandardScaler())]),\n",
       "                                 [&#x27;Age&#x27;, &#x27;Region_Code&#x27;, &#x27;Annual_Premium&#x27;,\n",
       "                                  &#x27;Policy_Sales_Channel&#x27;, &#x27;Vintage&#x27;])])</pre></div></div></div><div class=\"sk-parallel\"><div class=\"sk-parallel-item\"><div class=\"sk-item\"><div class=\"sk-label-container\"><div class=\"sk-label sk-toggleable\"><input class=\"sk-toggleable__control sk-hidden--visually\" id=\"sk-estimator-id-10\" type=\"checkbox\" ><label for=\"sk-estimator-id-10\" class=\"sk-toggleable__label sk-toggleable__label-arrow\">num</label><div class=\"sk-toggleable__content\"><pre>[&#x27;Age&#x27;, &#x27;Region_Code&#x27;, &#x27;Annual_Premium&#x27;, &#x27;Policy_Sales_Channel&#x27;, &#x27;Vintage&#x27;]</pre></div></div></div><div class=\"sk-serial\"><div class=\"sk-item\"><div class=\"sk-serial\"><div class=\"sk-item\"><div class=\"sk-estimator sk-toggleable\"><input class=\"sk-toggleable__control sk-hidden--visually\" id=\"sk-estimator-id-11\" type=\"checkbox\" ><label for=\"sk-estimator-id-11\" class=\"sk-toggleable__label sk-toggleable__label-arrow\">StandardScaler</label><div class=\"sk-toggleable__content\"><pre>StandardScaler()</pre></div></div></div></div></div></div></div></div><div class=\"sk-parallel-item\"><div class=\"sk-item\"><div class=\"sk-label-container\"><div class=\"sk-label sk-toggleable\"><input class=\"sk-toggleable__control sk-hidden--visually\" id=\"sk-estimator-id-12\" type=\"checkbox\" ><label for=\"sk-estimator-id-12\" class=\"sk-toggleable__label sk-toggleable__label-arrow\">remainder</label><div class=\"sk-toggleable__content\"><pre>[&#x27;Gender&#x27;, &#x27;Driving_License&#x27;, &#x27;Previously_Insured&#x27;, &#x27;Vehicle_Damage&#x27;, &#x27;1-2 Year&#x27;, &#x27;&lt; 1 Year&#x27;, &#x27;&gt; 2 Years&#x27;]</pre></div></div></div><div class=\"sk-serial\"><div class=\"sk-item\"><div class=\"sk-estimator sk-toggleable\"><input class=\"sk-toggleable__control sk-hidden--visually\" id=\"sk-estimator-id-13\" type=\"checkbox\" ><label for=\"sk-estimator-id-13\" class=\"sk-toggleable__label sk-toggleable__label-arrow\">passthrough</label><div class=\"sk-toggleable__content\"><pre>passthrough</pre></div></div></div></div></div></div></div></div><div class=\"sk-item\"><div class=\"sk-estimator sk-toggleable\"><input class=\"sk-toggleable__control sk-hidden--visually\" id=\"sk-estimator-id-14\" type=\"checkbox\" ><label for=\"sk-estimator-id-14\" class=\"sk-toggleable__label sk-toggleable__label-arrow\">LogisticRegressionCV</label><div class=\"sk-toggleable__content\"><pre>LogisticRegressionCV(Cs=4, class_weight={&#x27;0&#x27;: 0.13, &#x27;1&#x27;: 0.87}, cv=4,\n",
       "                     max_iter=1000, n_jobs=-1, random_state=32)</pre></div></div></div></div></div></div></div>"
      ],
      "text/plain": [
       "Pipeline(steps=[('preprocessor',\n",
       "                 ColumnTransformer(remainder='passthrough',\n",
       "                                   transformers=[('num',\n",
       "                                                  Pipeline(steps=[('ss',\n",
       "                                                                   StandardScaler())]),\n",
       "                                                  ['Age', 'Region_Code',\n",
       "                                                   'Annual_Premium',\n",
       "                                                   'Policy_Sales_Channel',\n",
       "                                                   'Vintage'])])),\n",
       "                ('classifier',\n",
       "                 LogisticRegressionCV(Cs=4, class_weight={'0': 0.13, '1': 0.87},\n",
       "                                      cv=4, max_iter=1000, n_jobs=-1,\n",
       "                                      random_state=32))])"
      ]
     },
     "execution_count": 46,
     "metadata": {},
     "output_type": "execute_result"
    }
   ],
   "source": [
    "lr_model_class.fit(X_train, y_train)"
   ]
  },
  {
   "cell_type": "code",
   "execution_count": 47,
   "id": "459df920",
   "metadata": {
    "execution": {
     "iopub.execute_input": "2024-07-25T14:59:04.100988Z",
     "iopub.status.busy": "2024-07-25T14:59:04.100557Z",
     "iopub.status.idle": "2024-07-25T14:59:04.590867Z",
     "shell.execute_reply": "2024-07-25T14:59:04.589261Z"
    },
    "papermill": {
     "duration": 0.531325,
     "end_time": "2024-07-25T14:59:04.595275",
     "exception": false,
     "start_time": "2024-07-25T14:59:04.063950",
     "status": "completed"
    },
    "tags": []
   },
   "outputs": [],
   "source": [
    "y_pred_class = lr_model_class.predict(X_test)"
   ]
  },
  {
   "cell_type": "code",
   "execution_count": 48,
   "id": "8316b9fa",
   "metadata": {
    "execution": {
     "iopub.execute_input": "2024-07-25T14:59:04.715544Z",
     "iopub.status.busy": "2024-07-25T14:59:04.715133Z",
     "iopub.status.idle": "2024-07-25T14:59:11.089404Z",
     "shell.execute_reply": "2024-07-25T14:59:11.088096Z"
    },
    "papermill": {
     "duration": 6.422568,
     "end_time": "2024-07-25T14:59:11.092543",
     "exception": false,
     "start_time": "2024-07-25T14:59:04.669975",
     "status": "completed"
    },
    "tags": []
   },
   "outputs": [
    {
     "name": "stdout",
     "output_type": "stream",
     "text": [
      "              precision    recall  f1-score   support\n",
      "\n",
      "           0       0.99      0.60      0.75   2522435\n",
      "           1       0.25      0.96      0.40    353765\n",
      "\n",
      "    accuracy                           0.65   2876200\n",
      "   macro avg       0.62      0.78      0.57   2876200\n",
      "weighted avg       0.90      0.65      0.71   2876200\n",
      "\n"
     ]
    }
   ],
   "source": [
    "print(classification_report(y_test, y_pred_class))"
   ]
  },
  {
   "cell_type": "code",
   "execution_count": 49,
   "id": "3ae792aa",
   "metadata": {
    "execution": {
     "iopub.execute_input": "2024-07-25T14:59:11.166266Z",
     "iopub.status.busy": "2024-07-25T14:59:11.165847Z",
     "iopub.status.idle": "2024-07-25T14:59:11.964441Z",
     "shell.execute_reply": "2024-07-25T14:59:11.963132Z"
    },
    "papermill": {
     "duration": 0.838419,
     "end_time": "2024-07-25T14:59:11.966949",
     "exception": false,
     "start_time": "2024-07-25T14:59:11.128530",
     "status": "completed"
    },
    "tags": []
   },
   "outputs": [
    {
     "data": {
      "text/plain": [
       "0.7818464784808221"
      ]
     },
     "execution_count": 49,
     "metadata": {},
     "output_type": "execute_result"
    }
   ],
   "source": [
    "roc_auc_score(y_test, y_pred_class)"
   ]
  },
  {
   "cell_type": "markdown",
   "id": "3bbaf275",
   "metadata": {
    "papermill": {
     "duration": 0.036111,
     "end_time": "2024-07-25T14:59:12.039030",
     "exception": false,
     "start_time": "2024-07-25T14:59:12.002919",
     "status": "completed"
    },
    "tags": []
   },
   "source": [
    "## 5. Handling Imbalanced Data using Undersampling"
   ]
  },
  {
   "cell_type": "code",
   "execution_count": 50,
   "id": "fdc2c187",
   "metadata": {
    "execution": {
     "iopub.execute_input": "2024-07-25T14:59:12.114668Z",
     "iopub.status.busy": "2024-07-25T14:59:12.114247Z",
     "iopub.status.idle": "2024-07-25T14:59:16.545602Z",
     "shell.execute_reply": "2024-07-25T14:59:16.544279Z"
    },
    "papermill": {
     "duration": 4.473354,
     "end_time": "2024-07-25T14:59:16.548597",
     "exception": false,
     "start_time": "2024-07-25T14:59:12.075243",
     "status": "completed"
    },
    "tags": []
   },
   "outputs": [],
   "source": [
    "under_sampler = RandomUnderSampler(random_state=RANDOM_STATE)\n",
    "X_under, y_under = under_sampler.fit_resample(X, y)"
   ]
  },
  {
   "cell_type": "code",
   "execution_count": 51,
   "id": "7ebcee78",
   "metadata": {
    "execution": {
     "iopub.execute_input": "2024-07-25T14:59:16.622846Z",
     "iopub.status.busy": "2024-07-25T14:59:16.622448Z",
     "iopub.status.idle": "2024-07-25T14:59:16.628710Z",
     "shell.execute_reply": "2024-07-25T14:59:16.627426Z"
    },
    "papermill": {
     "duration": 0.046103,
     "end_time": "2024-07-25T14:59:16.631367",
     "exception": false,
     "start_time": "2024-07-25T14:59:16.585264",
     "status": "completed"
    },
    "tags": []
   },
   "outputs": [
    {
     "name": "stdout",
     "output_type": "stream",
     "text": [
      "X shape before: (11504798, 12), X_under shape: (2830118, 12)\n",
      "y shape before: (11504798,), y_under shape: (2830118,)\n"
     ]
    }
   ],
   "source": [
    "print(f\"X shape before: {X.shape}, X_under shape: {X_under.shape}\")\n",
    "print(f\"y shape before: {y.shape}, y_under shape: {y_under.shape}\")"
   ]
  },
  {
   "cell_type": "code",
   "execution_count": 52,
   "id": "53c82ea1",
   "metadata": {
    "execution": {
     "iopub.execute_input": "2024-07-25T14:59:16.706025Z",
     "iopub.status.busy": "2024-07-25T14:59:16.705145Z",
     "iopub.status.idle": "2024-07-25T14:59:16.816353Z",
     "shell.execute_reply": "2024-07-25T14:59:16.815186Z"
    },
    "papermill": {
     "duration": 0.151322,
     "end_time": "2024-07-25T14:59:16.818715",
     "exception": false,
     "start_time": "2024-07-25T14:59:16.667393",
     "status": "completed"
    },
    "tags": []
   },
   "outputs": [
    {
     "data": {
      "text/plain": [
       "Response\n",
       "0    0.877003\n",
       "1    0.122997\n",
       "Name: proportion, dtype: float64"
      ]
     },
     "execution_count": 52,
     "metadata": {},
     "output_type": "execute_result"
    }
   ],
   "source": [
    "y.value_counts(normalize=True)"
   ]
  },
  {
   "cell_type": "code",
   "execution_count": 53,
   "id": "8e22adb9",
   "metadata": {
    "execution": {
     "iopub.execute_input": "2024-07-25T14:59:16.893927Z",
     "iopub.status.busy": "2024-07-25T14:59:16.893499Z",
     "iopub.status.idle": "2024-07-25T14:59:16.930596Z",
     "shell.execute_reply": "2024-07-25T14:59:16.929197Z"
    },
    "papermill": {
     "duration": 0.078849,
     "end_time": "2024-07-25T14:59:16.933508",
     "exception": false,
     "start_time": "2024-07-25T14:59:16.854659",
     "status": "completed"
    },
    "tags": []
   },
   "outputs": [
    {
     "data": {
      "text/plain": [
       "Response\n",
       "0    0.5\n",
       "1    0.5\n",
       "Name: proportion, dtype: float64"
      ]
     },
     "execution_count": 53,
     "metadata": {},
     "output_type": "execute_result"
    }
   ],
   "source": [
    "y_under.value_counts(normalize=True)"
   ]
  },
  {
   "cell_type": "code",
   "execution_count": 54,
   "id": "be6e5af6",
   "metadata": {
    "execution": {
     "iopub.execute_input": "2024-07-25T14:59:17.008636Z",
     "iopub.status.busy": "2024-07-25T14:59:17.008247Z",
     "iopub.status.idle": "2024-07-25T14:59:17.939360Z",
     "shell.execute_reply": "2024-07-25T14:59:17.938189Z"
    },
    "papermill": {
     "duration": 0.971936,
     "end_time": "2024-07-25T14:59:17.942330",
     "exception": false,
     "start_time": "2024-07-25T14:59:16.970394",
     "status": "completed"
    },
    "tags": []
   },
   "outputs": [],
   "source": [
    "X_train_under, X_test_under, y_train_under, y_test_under = train_test_split(X_under, y_under, test_size=TEST_SIZE, random_state=RANDOM_STATE)"
   ]
  },
  {
   "cell_type": "code",
   "execution_count": 55,
   "id": "45f3b76b",
   "metadata": {
    "execution": {
     "iopub.execute_input": "2024-07-25T14:59:18.033500Z",
     "iopub.status.busy": "2024-07-25T14:59:18.032686Z",
     "iopub.status.idle": "2024-07-25T14:59:47.000303Z",
     "shell.execute_reply": "2024-07-25T14:59:46.998639Z"
    },
    "papermill": {
     "duration": 29.024604,
     "end_time": "2024-07-25T14:59:47.004636",
     "exception": false,
     "start_time": "2024-07-25T14:59:17.980032",
     "status": "completed"
    },
    "tags": []
   },
   "outputs": [
    {
     "data": {
      "text/html": [
       "<style>#sk-container-id-3 {color: black;background-color: white;}#sk-container-id-3 pre{padding: 0;}#sk-container-id-3 div.sk-toggleable {background-color: white;}#sk-container-id-3 label.sk-toggleable__label {cursor: pointer;display: block;width: 100%;margin-bottom: 0;padding: 0.3em;box-sizing: border-box;text-align: center;}#sk-container-id-3 label.sk-toggleable__label-arrow:before {content: \"▸\";float: left;margin-right: 0.25em;color: #696969;}#sk-container-id-3 label.sk-toggleable__label-arrow:hover:before {color: black;}#sk-container-id-3 div.sk-estimator:hover label.sk-toggleable__label-arrow:before {color: black;}#sk-container-id-3 div.sk-toggleable__content {max-height: 0;max-width: 0;overflow: hidden;text-align: left;background-color: #f0f8ff;}#sk-container-id-3 div.sk-toggleable__content pre {margin: 0.2em;color: black;border-radius: 0.25em;background-color: #f0f8ff;}#sk-container-id-3 input.sk-toggleable__control:checked~div.sk-toggleable__content {max-height: 200px;max-width: 100%;overflow: auto;}#sk-container-id-3 input.sk-toggleable__control:checked~label.sk-toggleable__label-arrow:before {content: \"▾\";}#sk-container-id-3 div.sk-estimator input.sk-toggleable__control:checked~label.sk-toggleable__label {background-color: #d4ebff;}#sk-container-id-3 div.sk-label input.sk-toggleable__control:checked~label.sk-toggleable__label {background-color: #d4ebff;}#sk-container-id-3 input.sk-hidden--visually {border: 0;clip: rect(1px 1px 1px 1px);clip: rect(1px, 1px, 1px, 1px);height: 1px;margin: -1px;overflow: hidden;padding: 0;position: absolute;width: 1px;}#sk-container-id-3 div.sk-estimator {font-family: monospace;background-color: #f0f8ff;border: 1px dotted black;border-radius: 0.25em;box-sizing: border-box;margin-bottom: 0.5em;}#sk-container-id-3 div.sk-estimator:hover {background-color: #d4ebff;}#sk-container-id-3 div.sk-parallel-item::after {content: \"\";width: 100%;border-bottom: 1px solid gray;flex-grow: 1;}#sk-container-id-3 div.sk-label:hover label.sk-toggleable__label {background-color: #d4ebff;}#sk-container-id-3 div.sk-serial::before {content: \"\";position: absolute;border-left: 1px solid gray;box-sizing: border-box;top: 0;bottom: 0;left: 50%;z-index: 0;}#sk-container-id-3 div.sk-serial {display: flex;flex-direction: column;align-items: center;background-color: white;padding-right: 0.2em;padding-left: 0.2em;position: relative;}#sk-container-id-3 div.sk-item {position: relative;z-index: 1;}#sk-container-id-3 div.sk-parallel {display: flex;align-items: stretch;justify-content: center;background-color: white;position: relative;}#sk-container-id-3 div.sk-item::before, #sk-container-id-3 div.sk-parallel-item::before {content: \"\";position: absolute;border-left: 1px solid gray;box-sizing: border-box;top: 0;bottom: 0;left: 50%;z-index: -1;}#sk-container-id-3 div.sk-parallel-item {display: flex;flex-direction: column;z-index: 1;position: relative;background-color: white;}#sk-container-id-3 div.sk-parallel-item:first-child::after {align-self: flex-end;width: 50%;}#sk-container-id-3 div.sk-parallel-item:last-child::after {align-self: flex-start;width: 50%;}#sk-container-id-3 div.sk-parallel-item:only-child::after {width: 0;}#sk-container-id-3 div.sk-dashed-wrapped {border: 1px dashed gray;margin: 0 0.4em 0.5em 0.4em;box-sizing: border-box;padding-bottom: 0.4em;background-color: white;}#sk-container-id-3 div.sk-label label {font-family: monospace;font-weight: bold;display: inline-block;line-height: 1.2em;}#sk-container-id-3 div.sk-label-container {text-align: center;}#sk-container-id-3 div.sk-container {/* jupyter's `normalize.less` sets `[hidden] { display: none; }` but bootstrap.min.css set `[hidden] { display: none !important; }` so we also need the `!important` here to be able to override the default hidden behavior on the sphinx rendered scikit-learn.org. See: https://github.com/scikit-learn/scikit-learn/issues/21755 */display: inline-block !important;position: relative;}#sk-container-id-3 div.sk-text-repr-fallback {display: none;}</style><div id=\"sk-container-id-3\" class=\"sk-top-container\"><div class=\"sk-text-repr-fallback\"><pre>Pipeline(steps=[(&#x27;preprocessor&#x27;,\n",
       "                 ColumnTransformer(remainder=&#x27;passthrough&#x27;,\n",
       "                                   transformers=[(&#x27;num&#x27;,\n",
       "                                                  Pipeline(steps=[(&#x27;ss&#x27;,\n",
       "                                                                   StandardScaler())]),\n",
       "                                                  [&#x27;Age&#x27;, &#x27;Region_Code&#x27;,\n",
       "                                                   &#x27;Annual_Premium&#x27;,\n",
       "                                                   &#x27;Policy_Sales_Channel&#x27;,\n",
       "                                                   &#x27;Vintage&#x27;])])),\n",
       "                (&#x27;classifier&#x27;,\n",
       "                 LogisticRegressionCV(Cs=4, cv=4, max_iter=1000, n_jobs=-1,\n",
       "                                      random_state=32))])</pre><b>In a Jupyter environment, please rerun this cell to show the HTML representation or trust the notebook. <br />On GitHub, the HTML representation is unable to render, please try loading this page with nbviewer.org.</b></div><div class=\"sk-container\" hidden><div class=\"sk-item sk-dashed-wrapped\"><div class=\"sk-label-container\"><div class=\"sk-label sk-toggleable\"><input class=\"sk-toggleable__control sk-hidden--visually\" id=\"sk-estimator-id-15\" type=\"checkbox\" ><label for=\"sk-estimator-id-15\" class=\"sk-toggleable__label sk-toggleable__label-arrow\">Pipeline</label><div class=\"sk-toggleable__content\"><pre>Pipeline(steps=[(&#x27;preprocessor&#x27;,\n",
       "                 ColumnTransformer(remainder=&#x27;passthrough&#x27;,\n",
       "                                   transformers=[(&#x27;num&#x27;,\n",
       "                                                  Pipeline(steps=[(&#x27;ss&#x27;,\n",
       "                                                                   StandardScaler())]),\n",
       "                                                  [&#x27;Age&#x27;, &#x27;Region_Code&#x27;,\n",
       "                                                   &#x27;Annual_Premium&#x27;,\n",
       "                                                   &#x27;Policy_Sales_Channel&#x27;,\n",
       "                                                   &#x27;Vintage&#x27;])])),\n",
       "                (&#x27;classifier&#x27;,\n",
       "                 LogisticRegressionCV(Cs=4, cv=4, max_iter=1000, n_jobs=-1,\n",
       "                                      random_state=32))])</pre></div></div></div><div class=\"sk-serial\"><div class=\"sk-item sk-dashed-wrapped\"><div class=\"sk-label-container\"><div class=\"sk-label sk-toggleable\"><input class=\"sk-toggleable__control sk-hidden--visually\" id=\"sk-estimator-id-16\" type=\"checkbox\" ><label for=\"sk-estimator-id-16\" class=\"sk-toggleable__label sk-toggleable__label-arrow\">preprocessor: ColumnTransformer</label><div class=\"sk-toggleable__content\"><pre>ColumnTransformer(remainder=&#x27;passthrough&#x27;,\n",
       "                  transformers=[(&#x27;num&#x27;,\n",
       "                                 Pipeline(steps=[(&#x27;ss&#x27;, StandardScaler())]),\n",
       "                                 [&#x27;Age&#x27;, &#x27;Region_Code&#x27;, &#x27;Annual_Premium&#x27;,\n",
       "                                  &#x27;Policy_Sales_Channel&#x27;, &#x27;Vintage&#x27;])])</pre></div></div></div><div class=\"sk-parallel\"><div class=\"sk-parallel-item\"><div class=\"sk-item\"><div class=\"sk-label-container\"><div class=\"sk-label sk-toggleable\"><input class=\"sk-toggleable__control sk-hidden--visually\" id=\"sk-estimator-id-17\" type=\"checkbox\" ><label for=\"sk-estimator-id-17\" class=\"sk-toggleable__label sk-toggleable__label-arrow\">num</label><div class=\"sk-toggleable__content\"><pre>[&#x27;Age&#x27;, &#x27;Region_Code&#x27;, &#x27;Annual_Premium&#x27;, &#x27;Policy_Sales_Channel&#x27;, &#x27;Vintage&#x27;]</pre></div></div></div><div class=\"sk-serial\"><div class=\"sk-item\"><div class=\"sk-serial\"><div class=\"sk-item\"><div class=\"sk-estimator sk-toggleable\"><input class=\"sk-toggleable__control sk-hidden--visually\" id=\"sk-estimator-id-18\" type=\"checkbox\" ><label for=\"sk-estimator-id-18\" class=\"sk-toggleable__label sk-toggleable__label-arrow\">StandardScaler</label><div class=\"sk-toggleable__content\"><pre>StandardScaler()</pre></div></div></div></div></div></div></div></div><div class=\"sk-parallel-item\"><div class=\"sk-item\"><div class=\"sk-label-container\"><div class=\"sk-label sk-toggleable\"><input class=\"sk-toggleable__control sk-hidden--visually\" id=\"sk-estimator-id-19\" type=\"checkbox\" ><label for=\"sk-estimator-id-19\" class=\"sk-toggleable__label sk-toggleable__label-arrow\">remainder</label><div class=\"sk-toggleable__content\"><pre>[&#x27;Gender&#x27;, &#x27;Driving_License&#x27;, &#x27;Previously_Insured&#x27;, &#x27;Vehicle_Damage&#x27;, &#x27;1-2 Year&#x27;, &#x27;&lt; 1 Year&#x27;, &#x27;&gt; 2 Years&#x27;]</pre></div></div></div><div class=\"sk-serial\"><div class=\"sk-item\"><div class=\"sk-estimator sk-toggleable\"><input class=\"sk-toggleable__control sk-hidden--visually\" id=\"sk-estimator-id-20\" type=\"checkbox\" ><label for=\"sk-estimator-id-20\" class=\"sk-toggleable__label sk-toggleable__label-arrow\">passthrough</label><div class=\"sk-toggleable__content\"><pre>passthrough</pre></div></div></div></div></div></div></div></div><div class=\"sk-item\"><div class=\"sk-estimator sk-toggleable\"><input class=\"sk-toggleable__control sk-hidden--visually\" id=\"sk-estimator-id-21\" type=\"checkbox\" ><label for=\"sk-estimator-id-21\" class=\"sk-toggleable__label sk-toggleable__label-arrow\">LogisticRegressionCV</label><div class=\"sk-toggleable__content\"><pre>LogisticRegressionCV(Cs=4, cv=4, max_iter=1000, n_jobs=-1, random_state=32)</pre></div></div></div></div></div></div></div>"
      ],
      "text/plain": [
       "Pipeline(steps=[('preprocessor',\n",
       "                 ColumnTransformer(remainder='passthrough',\n",
       "                                   transformers=[('num',\n",
       "                                                  Pipeline(steps=[('ss',\n",
       "                                                                   StandardScaler())]),\n",
       "                                                  ['Age', 'Region_Code',\n",
       "                                                   'Annual_Premium',\n",
       "                                                   'Policy_Sales_Channel',\n",
       "                                                   'Vintage'])])),\n",
       "                ('classifier',\n",
       "                 LogisticRegressionCV(Cs=4, cv=4, max_iter=1000, n_jobs=-1,\n",
       "                                      random_state=32))])"
      ]
     },
     "execution_count": 55,
     "metadata": {},
     "output_type": "execute_result"
    }
   ],
   "source": [
    "lr_model2 = create_lr_model()\n",
    "lr_model2.fit(X_train_under, y_train_under)"
   ]
  },
  {
   "cell_type": "code",
   "execution_count": 56,
   "id": "fe555a67",
   "metadata": {
    "execution": {
     "iopub.execute_input": "2024-07-25T14:59:47.106765Z",
     "iopub.status.busy": "2024-07-25T14:59:47.106345Z",
     "iopub.status.idle": "2024-07-25T14:59:47.222424Z",
     "shell.execute_reply": "2024-07-25T14:59:47.220993Z"
    },
    "papermill": {
     "duration": 0.157788,
     "end_time": "2024-07-25T14:59:47.226158",
     "exception": false,
     "start_time": "2024-07-25T14:59:47.068370",
     "status": "completed"
    },
    "tags": []
   },
   "outputs": [
    {
     "data": {
      "text/plain": [
       "array([0, 0, 1, ..., 1, 1, 1])"
      ]
     },
     "execution_count": 56,
     "metadata": {},
     "output_type": "execute_result"
    }
   ],
   "source": [
    "y_pred_under = lr_model2.predict(X_test_under)\n",
    "y_pred_under"
   ]
  },
  {
   "cell_type": "code",
   "execution_count": 57,
   "id": "a5e078b8",
   "metadata": {
    "execution": {
     "iopub.execute_input": "2024-07-25T14:59:47.355584Z",
     "iopub.status.busy": "2024-07-25T14:59:47.354584Z",
     "iopub.status.idle": "2024-07-25T14:59:47.361800Z",
     "shell.execute_reply": "2024-07-25T14:59:47.360656Z"
    },
    "papermill": {
     "duration": 0.062477,
     "end_time": "2024-07-25T14:59:47.364364",
     "exception": false,
     "start_time": "2024-07-25T14:59:47.301887",
     "status": "completed"
    },
    "tags": []
   },
   "outputs": [
    {
     "data": {
      "text/plain": [
       "(707530,)"
      ]
     },
     "execution_count": 57,
     "metadata": {},
     "output_type": "execute_result"
    }
   ],
   "source": [
    "y_pred_under.shape"
   ]
  },
  {
   "cell_type": "code",
   "execution_count": 58,
   "id": "21ccadb2",
   "metadata": {
    "execution": {
     "iopub.execute_input": "2024-07-25T14:59:47.440192Z",
     "iopub.status.busy": "2024-07-25T14:59:47.439725Z",
     "iopub.status.idle": "2024-07-25T14:59:48.963064Z",
     "shell.execute_reply": "2024-07-25T14:59:48.961823Z"
    },
    "papermill": {
     "duration": 1.56425,
     "end_time": "2024-07-25T14:59:48.965918",
     "exception": false,
     "start_time": "2024-07-25T14:59:47.401668",
     "status": "completed"
    },
    "tags": []
   },
   "outputs": [
    {
     "name": "stdout",
     "output_type": "stream",
     "text": [
      "              precision    recall  f1-score   support\n",
      "\n",
      "           0       0.96      0.60      0.74    353818\n",
      "           1       0.71      0.97      0.82    353712\n",
      "\n",
      "    accuracy                           0.79    707530\n",
      "   macro avg       0.83      0.79      0.78    707530\n",
      "weighted avg       0.83      0.79      0.78    707530\n",
      "\n"
     ]
    }
   ],
   "source": [
    "print(classification_report(y_test_under, y_pred_under))"
   ]
  },
  {
   "cell_type": "code",
   "execution_count": 59,
   "id": "5ca3e25b",
   "metadata": {
    "execution": {
     "iopub.execute_input": "2024-07-25T14:59:49.043850Z",
     "iopub.status.busy": "2024-07-25T14:59:49.043108Z",
     "iopub.status.idle": "2024-07-25T14:59:49.234138Z",
     "shell.execute_reply": "2024-07-25T14:59:49.232918Z"
    },
    "papermill": {
     "duration": 0.234043,
     "end_time": "2024-07-25T14:59:49.236725",
     "exception": false,
     "start_time": "2024-07-25T14:59:49.002682",
     "status": "completed"
    },
    "tags": []
   },
   "outputs": [
    {
     "data": {
      "text/plain": [
       "0.785428035530624"
      ]
     },
     "execution_count": 59,
     "metadata": {},
     "output_type": "execute_result"
    }
   ],
   "source": [
    "roc_auc_score(y_test_under, y_pred_under)"
   ]
  },
  {
   "cell_type": "markdown",
   "id": "587a14e6",
   "metadata": {
    "papermill": {
     "duration": 0.038215,
     "end_time": "2024-07-25T14:59:49.313285",
     "exception": false,
     "start_time": "2024-07-25T14:59:49.275070",
     "status": "completed"
    },
    "tags": []
   },
   "source": [
    "## 6. Handling Data Imbalance using Over Sampling"
   ]
  },
  {
   "cell_type": "code",
   "execution_count": 60,
   "id": "f4a8ac77",
   "metadata": {
    "execution": {
     "iopub.execute_input": "2024-07-25T14:59:49.389240Z",
     "iopub.status.busy": "2024-07-25T14:59:49.388822Z",
     "iopub.status.idle": "2024-07-25T15:01:23.184365Z",
     "shell.execute_reply": "2024-07-25T15:01:23.182479Z"
    },
    "papermill": {
     "duration": 93.838548,
     "end_time": "2024-07-25T15:01:23.189224",
     "exception": false,
     "start_time": "2024-07-25T14:59:49.350676",
     "status": "completed"
    },
    "tags": []
   },
   "outputs": [],
   "source": [
    "smote_sampler = SMOTE(random_state=RANDOM_STATE)\n",
    "X_smo, y_smo = smote_sampler.fit_resample(X, y)"
   ]
  },
  {
   "cell_type": "code",
   "execution_count": 61,
   "id": "494fc8a2",
   "metadata": {
    "execution": {
     "iopub.execute_input": "2024-07-25T15:01:23.269743Z",
     "iopub.status.busy": "2024-07-25T15:01:23.269310Z",
     "iopub.status.idle": "2024-07-25T15:01:23.390662Z",
     "shell.execute_reply": "2024-07-25T15:01:23.389268Z"
    },
    "papermill": {
     "duration": 0.163161,
     "end_time": "2024-07-25T15:01:23.393397",
     "exception": false,
     "start_time": "2024-07-25T15:01:23.230236",
     "status": "completed"
    },
    "tags": []
   },
   "outputs": [
    {
     "data": {
      "text/plain": [
       "Response\n",
       "0    0.877003\n",
       "1    0.122997\n",
       "Name: proportion, dtype: float64"
      ]
     },
     "execution_count": 61,
     "metadata": {},
     "output_type": "execute_result"
    }
   ],
   "source": [
    "y.value_counts(normalize=True)"
   ]
  },
  {
   "cell_type": "code",
   "execution_count": 62,
   "id": "6d25ebeb",
   "metadata": {
    "execution": {
     "iopub.execute_input": "2024-07-25T15:01:23.470225Z",
     "iopub.status.busy": "2024-07-25T15:01:23.469810Z",
     "iopub.status.idle": "2024-07-25T15:01:23.667733Z",
     "shell.execute_reply": "2024-07-25T15:01:23.666554Z"
    },
    "papermill": {
     "duration": 0.239698,
     "end_time": "2024-07-25T15:01:23.670251",
     "exception": false,
     "start_time": "2024-07-25T15:01:23.430553",
     "status": "completed"
    },
    "tags": []
   },
   "outputs": [
    {
     "data": {
      "text/plain": [
       "Response\n",
       "0    0.5\n",
       "1    0.5\n",
       "Name: proportion, dtype: float64"
      ]
     },
     "execution_count": 62,
     "metadata": {},
     "output_type": "execute_result"
    }
   ],
   "source": [
    "y_smo.value_counts(normalize=True)"
   ]
  },
  {
   "cell_type": "code",
   "execution_count": 63,
   "id": "6235a347",
   "metadata": {
    "execution": {
     "iopub.execute_input": "2024-07-25T15:01:23.747860Z",
     "iopub.status.busy": "2024-07-25T15:01:23.747447Z",
     "iopub.status.idle": "2024-07-25T15:01:30.459474Z",
     "shell.execute_reply": "2024-07-25T15:01:30.458433Z"
    },
    "papermill": {
     "duration": 6.754958,
     "end_time": "2024-07-25T15:01:30.462329",
     "exception": false,
     "start_time": "2024-07-25T15:01:23.707371",
     "status": "completed"
    },
    "tags": []
   },
   "outputs": [],
   "source": [
    "X_train_smo, X_test_smo, y_train_smo, y_test_smo = train_test_split(X_smo, y_smo, test_size=TEST_SIZE, random_state=RANDOM_STATE)"
   ]
  },
  {
   "cell_type": "code",
   "execution_count": 64,
   "id": "638ff947",
   "metadata": {
    "execution": {
     "iopub.execute_input": "2024-07-25T15:01:30.538767Z",
     "iopub.status.busy": "2024-07-25T15:01:30.538353Z",
     "iopub.status.idle": "2024-07-25T15:07:21.285010Z",
     "shell.execute_reply": "2024-07-25T15:07:21.283131Z"
    },
    "papermill": {
     "duration": 350.84283,
     "end_time": "2024-07-25T15:07:21.342228",
     "exception": false,
     "start_time": "2024-07-25T15:01:30.499398",
     "status": "completed"
    },
    "tags": []
   },
   "outputs": [
    {
     "data": {
      "text/html": [
       "<style>#sk-container-id-4 {color: black;background-color: white;}#sk-container-id-4 pre{padding: 0;}#sk-container-id-4 div.sk-toggleable {background-color: white;}#sk-container-id-4 label.sk-toggleable__label {cursor: pointer;display: block;width: 100%;margin-bottom: 0;padding: 0.3em;box-sizing: border-box;text-align: center;}#sk-container-id-4 label.sk-toggleable__label-arrow:before {content: \"▸\";float: left;margin-right: 0.25em;color: #696969;}#sk-container-id-4 label.sk-toggleable__label-arrow:hover:before {color: black;}#sk-container-id-4 div.sk-estimator:hover label.sk-toggleable__label-arrow:before {color: black;}#sk-container-id-4 div.sk-toggleable__content {max-height: 0;max-width: 0;overflow: hidden;text-align: left;background-color: #f0f8ff;}#sk-container-id-4 div.sk-toggleable__content pre {margin: 0.2em;color: black;border-radius: 0.25em;background-color: #f0f8ff;}#sk-container-id-4 input.sk-toggleable__control:checked~div.sk-toggleable__content {max-height: 200px;max-width: 100%;overflow: auto;}#sk-container-id-4 input.sk-toggleable__control:checked~label.sk-toggleable__label-arrow:before {content: \"▾\";}#sk-container-id-4 div.sk-estimator input.sk-toggleable__control:checked~label.sk-toggleable__label {background-color: #d4ebff;}#sk-container-id-4 div.sk-label input.sk-toggleable__control:checked~label.sk-toggleable__label {background-color: #d4ebff;}#sk-container-id-4 input.sk-hidden--visually {border: 0;clip: rect(1px 1px 1px 1px);clip: rect(1px, 1px, 1px, 1px);height: 1px;margin: -1px;overflow: hidden;padding: 0;position: absolute;width: 1px;}#sk-container-id-4 div.sk-estimator {font-family: monospace;background-color: #f0f8ff;border: 1px dotted black;border-radius: 0.25em;box-sizing: border-box;margin-bottom: 0.5em;}#sk-container-id-4 div.sk-estimator:hover {background-color: #d4ebff;}#sk-container-id-4 div.sk-parallel-item::after {content: \"\";width: 100%;border-bottom: 1px solid gray;flex-grow: 1;}#sk-container-id-4 div.sk-label:hover label.sk-toggleable__label {background-color: #d4ebff;}#sk-container-id-4 div.sk-serial::before {content: \"\";position: absolute;border-left: 1px solid gray;box-sizing: border-box;top: 0;bottom: 0;left: 50%;z-index: 0;}#sk-container-id-4 div.sk-serial {display: flex;flex-direction: column;align-items: center;background-color: white;padding-right: 0.2em;padding-left: 0.2em;position: relative;}#sk-container-id-4 div.sk-item {position: relative;z-index: 1;}#sk-container-id-4 div.sk-parallel {display: flex;align-items: stretch;justify-content: center;background-color: white;position: relative;}#sk-container-id-4 div.sk-item::before, #sk-container-id-4 div.sk-parallel-item::before {content: \"\";position: absolute;border-left: 1px solid gray;box-sizing: border-box;top: 0;bottom: 0;left: 50%;z-index: -1;}#sk-container-id-4 div.sk-parallel-item {display: flex;flex-direction: column;z-index: 1;position: relative;background-color: white;}#sk-container-id-4 div.sk-parallel-item:first-child::after {align-self: flex-end;width: 50%;}#sk-container-id-4 div.sk-parallel-item:last-child::after {align-self: flex-start;width: 50%;}#sk-container-id-4 div.sk-parallel-item:only-child::after {width: 0;}#sk-container-id-4 div.sk-dashed-wrapped {border: 1px dashed gray;margin: 0 0.4em 0.5em 0.4em;box-sizing: border-box;padding-bottom: 0.4em;background-color: white;}#sk-container-id-4 div.sk-label label {font-family: monospace;font-weight: bold;display: inline-block;line-height: 1.2em;}#sk-container-id-4 div.sk-label-container {text-align: center;}#sk-container-id-4 div.sk-container {/* jupyter's `normalize.less` sets `[hidden] { display: none; }` but bootstrap.min.css set `[hidden] { display: none !important; }` so we also need the `!important` here to be able to override the default hidden behavior on the sphinx rendered scikit-learn.org. See: https://github.com/scikit-learn/scikit-learn/issues/21755 */display: inline-block !important;position: relative;}#sk-container-id-4 div.sk-text-repr-fallback {display: none;}</style><div id=\"sk-container-id-4\" class=\"sk-top-container\"><div class=\"sk-text-repr-fallback\"><pre>Pipeline(steps=[(&#x27;preprocessor&#x27;,\n",
       "                 ColumnTransformer(remainder=&#x27;passthrough&#x27;,\n",
       "                                   transformers=[(&#x27;num&#x27;,\n",
       "                                                  Pipeline(steps=[(&#x27;ss&#x27;,\n",
       "                                                                   StandardScaler())]),\n",
       "                                                  [&#x27;Age&#x27;, &#x27;Region_Code&#x27;,\n",
       "                                                   &#x27;Annual_Premium&#x27;,\n",
       "                                                   &#x27;Policy_Sales_Channel&#x27;,\n",
       "                                                   &#x27;Vintage&#x27;])])),\n",
       "                (&#x27;classifier&#x27;,\n",
       "                 LogisticRegressionCV(Cs=4, cv=4, max_iter=1000, n_jobs=-1,\n",
       "                                      random_state=32))])</pre><b>In a Jupyter environment, please rerun this cell to show the HTML representation or trust the notebook. <br />On GitHub, the HTML representation is unable to render, please try loading this page with nbviewer.org.</b></div><div class=\"sk-container\" hidden><div class=\"sk-item sk-dashed-wrapped\"><div class=\"sk-label-container\"><div class=\"sk-label sk-toggleable\"><input class=\"sk-toggleable__control sk-hidden--visually\" id=\"sk-estimator-id-22\" type=\"checkbox\" ><label for=\"sk-estimator-id-22\" class=\"sk-toggleable__label sk-toggleable__label-arrow\">Pipeline</label><div class=\"sk-toggleable__content\"><pre>Pipeline(steps=[(&#x27;preprocessor&#x27;,\n",
       "                 ColumnTransformer(remainder=&#x27;passthrough&#x27;,\n",
       "                                   transformers=[(&#x27;num&#x27;,\n",
       "                                                  Pipeline(steps=[(&#x27;ss&#x27;,\n",
       "                                                                   StandardScaler())]),\n",
       "                                                  [&#x27;Age&#x27;, &#x27;Region_Code&#x27;,\n",
       "                                                   &#x27;Annual_Premium&#x27;,\n",
       "                                                   &#x27;Policy_Sales_Channel&#x27;,\n",
       "                                                   &#x27;Vintage&#x27;])])),\n",
       "                (&#x27;classifier&#x27;,\n",
       "                 LogisticRegressionCV(Cs=4, cv=4, max_iter=1000, n_jobs=-1,\n",
       "                                      random_state=32))])</pre></div></div></div><div class=\"sk-serial\"><div class=\"sk-item sk-dashed-wrapped\"><div class=\"sk-label-container\"><div class=\"sk-label sk-toggleable\"><input class=\"sk-toggleable__control sk-hidden--visually\" id=\"sk-estimator-id-23\" type=\"checkbox\" ><label for=\"sk-estimator-id-23\" class=\"sk-toggleable__label sk-toggleable__label-arrow\">preprocessor: ColumnTransformer</label><div class=\"sk-toggleable__content\"><pre>ColumnTransformer(remainder=&#x27;passthrough&#x27;,\n",
       "                  transformers=[(&#x27;num&#x27;,\n",
       "                                 Pipeline(steps=[(&#x27;ss&#x27;, StandardScaler())]),\n",
       "                                 [&#x27;Age&#x27;, &#x27;Region_Code&#x27;, &#x27;Annual_Premium&#x27;,\n",
       "                                  &#x27;Policy_Sales_Channel&#x27;, &#x27;Vintage&#x27;])])</pre></div></div></div><div class=\"sk-parallel\"><div class=\"sk-parallel-item\"><div class=\"sk-item\"><div class=\"sk-label-container\"><div class=\"sk-label sk-toggleable\"><input class=\"sk-toggleable__control sk-hidden--visually\" id=\"sk-estimator-id-24\" type=\"checkbox\" ><label for=\"sk-estimator-id-24\" class=\"sk-toggleable__label sk-toggleable__label-arrow\">num</label><div class=\"sk-toggleable__content\"><pre>[&#x27;Age&#x27;, &#x27;Region_Code&#x27;, &#x27;Annual_Premium&#x27;, &#x27;Policy_Sales_Channel&#x27;, &#x27;Vintage&#x27;]</pre></div></div></div><div class=\"sk-serial\"><div class=\"sk-item\"><div class=\"sk-serial\"><div class=\"sk-item\"><div class=\"sk-estimator sk-toggleable\"><input class=\"sk-toggleable__control sk-hidden--visually\" id=\"sk-estimator-id-25\" type=\"checkbox\" ><label for=\"sk-estimator-id-25\" class=\"sk-toggleable__label sk-toggleable__label-arrow\">StandardScaler</label><div class=\"sk-toggleable__content\"><pre>StandardScaler()</pre></div></div></div></div></div></div></div></div><div class=\"sk-parallel-item\"><div class=\"sk-item\"><div class=\"sk-label-container\"><div class=\"sk-label sk-toggleable\"><input class=\"sk-toggleable__control sk-hidden--visually\" id=\"sk-estimator-id-26\" type=\"checkbox\" ><label for=\"sk-estimator-id-26\" class=\"sk-toggleable__label sk-toggleable__label-arrow\">remainder</label><div class=\"sk-toggleable__content\"><pre>[&#x27;Gender&#x27;, &#x27;Driving_License&#x27;, &#x27;Previously_Insured&#x27;, &#x27;Vehicle_Damage&#x27;, &#x27;1-2 Year&#x27;, &#x27;&lt; 1 Year&#x27;, &#x27;&gt; 2 Years&#x27;]</pre></div></div></div><div class=\"sk-serial\"><div class=\"sk-item\"><div class=\"sk-estimator sk-toggleable\"><input class=\"sk-toggleable__control sk-hidden--visually\" id=\"sk-estimator-id-27\" type=\"checkbox\" ><label for=\"sk-estimator-id-27\" class=\"sk-toggleable__label sk-toggleable__label-arrow\">passthrough</label><div class=\"sk-toggleable__content\"><pre>passthrough</pre></div></div></div></div></div></div></div></div><div class=\"sk-item\"><div class=\"sk-estimator sk-toggleable\"><input class=\"sk-toggleable__control sk-hidden--visually\" id=\"sk-estimator-id-28\" type=\"checkbox\" ><label for=\"sk-estimator-id-28\" class=\"sk-toggleable__label sk-toggleable__label-arrow\">LogisticRegressionCV</label><div class=\"sk-toggleable__content\"><pre>LogisticRegressionCV(Cs=4, cv=4, max_iter=1000, n_jobs=-1, random_state=32)</pre></div></div></div></div></div></div></div>"
      ],
      "text/plain": [
       "Pipeline(steps=[('preprocessor',\n",
       "                 ColumnTransformer(remainder='passthrough',\n",
       "                                   transformers=[('num',\n",
       "                                                  Pipeline(steps=[('ss',\n",
       "                                                                   StandardScaler())]),\n",
       "                                                  ['Age', 'Region_Code',\n",
       "                                                   'Annual_Premium',\n",
       "                                                   'Policy_Sales_Channel',\n",
       "                                                   'Vintage'])])),\n",
       "                ('classifier',\n",
       "                 LogisticRegressionCV(Cs=4, cv=4, max_iter=1000, n_jobs=-1,\n",
       "                                      random_state=32))])"
      ]
     },
     "execution_count": 64,
     "metadata": {},
     "output_type": "execute_result"
    }
   ],
   "source": [
    "lr_model3 = create_lr_model()\n",
    "lr_model3.fit(X_train_smo, y_train_smo)"
   ]
  },
  {
   "cell_type": "code",
   "execution_count": 65,
   "id": "0e192cb2",
   "metadata": {
    "execution": {
     "iopub.execute_input": "2024-07-25T15:07:21.420209Z",
     "iopub.status.busy": "2024-07-25T15:07:21.419782Z",
     "iopub.status.idle": "2024-07-25T15:07:22.324673Z",
     "shell.execute_reply": "2024-07-25T15:07:22.323279Z"
    },
    "papermill": {
     "duration": 0.949534,
     "end_time": "2024-07-25T15:07:22.329309",
     "exception": false,
     "start_time": "2024-07-25T15:07:21.379775",
     "status": "completed"
    },
    "tags": []
   },
   "outputs": [],
   "source": [
    "y_pred_smo = lr_model3.predict(X_test_smo)"
   ]
  },
  {
   "cell_type": "code",
   "execution_count": 66,
   "id": "2b0dd444",
   "metadata": {
    "execution": {
     "iopub.execute_input": "2024-07-25T15:07:22.433493Z",
     "iopub.status.busy": "2024-07-25T15:07:22.432258Z",
     "iopub.status.idle": "2024-07-25T15:07:35.024497Z",
     "shell.execute_reply": "2024-07-25T15:07:35.023143Z"
    },
    "papermill": {
     "duration": 12.635075,
     "end_time": "2024-07-25T15:07:35.027316",
     "exception": false,
     "start_time": "2024-07-25T15:07:22.392241",
     "status": "completed"
    },
    "tags": []
   },
   "outputs": [
    {
     "name": "stdout",
     "output_type": "stream",
     "text": [
      "              precision    recall  f1-score   support\n",
      "\n",
      "           0       0.89      0.71      0.79   2521970\n",
      "           1       0.76      0.92      0.83   2522900\n",
      "\n",
      "    accuracy                           0.81   5044870\n",
      "   macro avg       0.83      0.81      0.81   5044870\n",
      "weighted avg       0.83      0.81      0.81   5044870\n",
      "\n"
     ]
    }
   ],
   "source": [
    "print(classification_report(y_test_smo, y_pred_smo))"
   ]
  },
  {
   "cell_type": "code",
   "execution_count": 67,
   "id": "bbf06392",
   "metadata": {
    "execution": {
     "iopub.execute_input": "2024-07-25T15:07:35.106119Z",
     "iopub.status.busy": "2024-07-25T15:07:35.105676Z",
     "iopub.status.idle": "2024-07-25T15:07:36.785538Z",
     "shell.execute_reply": "2024-07-25T15:07:36.784313Z"
    },
    "papermill": {
     "duration": 1.722089,
     "end_time": "2024-07-25T15:07:36.788016",
     "exception": false,
     "start_time": "2024-07-25T15:07:35.065927",
     "status": "completed"
    },
    "tags": []
   },
   "outputs": [
    {
     "data": {
      "text/plain": [
       "0.811398248407667"
      ]
     },
     "execution_count": 67,
     "metadata": {},
     "output_type": "execute_result"
    }
   ],
   "source": [
    "roc_auc_score(y_test_smo, y_pred_smo)"
   ]
  },
  {
   "cell_type": "markdown",
   "id": "3ef27bb2",
   "metadata": {
    "papermill": {
     "duration": 0.038006,
     "end_time": "2024-07-25T15:07:36.864050",
     "exception": false,
     "start_time": "2024-07-25T15:07:36.826044",
     "status": "completed"
    },
    "tags": []
   },
   "source": [
    "## 7. Kaggle Submission"
   ]
  },
  {
   "cell_type": "code",
   "execution_count": 68,
   "id": "bf78a7e9",
   "metadata": {
    "execution": {
     "iopub.execute_input": "2024-07-25T15:07:36.943057Z",
     "iopub.status.busy": "2024-07-25T15:07:36.941880Z",
     "iopub.status.idle": "2024-07-25T15:07:36.947315Z",
     "shell.execute_reply": "2024-07-25T15:07:36.946289Z"
    },
    "papermill": {
     "duration": 0.047917,
     "end_time": "2024-07-25T15:07:36.949918",
     "exception": false,
     "start_time": "2024-07-25T15:07:36.902001",
     "status": "completed"
    },
    "tags": []
   },
   "outputs": [],
   "source": [
    "#y_val_pred = lr_model3.predict(test_df)"
   ]
  },
  {
   "cell_type": "code",
   "execution_count": 69,
   "id": "dd9cd103",
   "metadata": {
    "execution": {
     "iopub.execute_input": "2024-07-25T15:07:37.027901Z",
     "iopub.status.busy": "2024-07-25T15:07:37.027478Z",
     "iopub.status.idle": "2024-07-25T15:07:37.032724Z",
     "shell.execute_reply": "2024-07-25T15:07:37.031369Z"
    },
    "papermill": {
     "duration": 0.047559,
     "end_time": "2024-07-25T15:07:37.035534",
     "exception": false,
     "start_time": "2024-07-25T15:07:36.987975",
     "status": "completed"
    },
    "tags": []
   },
   "outputs": [],
   "source": [
    "#submission_df = pd.DataFrame({'id': test_df['id'], 'Response': y_val_pred})"
   ]
  }
 ],
 "metadata": {
  "kaggle": {
   "accelerator": "none",
   "dataSources": [
    {
     "databundleVersionId": 8930475,
     "sourceId": 73291,
     "sourceType": "competition"
    }
   ],
   "dockerImageVersionId": 30746,
   "isGpuEnabled": false,
   "isInternetEnabled": true,
   "language": "python",
   "sourceType": "notebook"
  },
  "kernelspec": {
   "display_name": "Python 3",
   "language": "python",
   "name": "python3"
  },
  "language_info": {
   "codemirror_mode": {
    "name": "ipython",
    "version": 3
   },
   "file_extension": ".py",
   "mimetype": "text/x-python",
   "name": "python",
   "nbconvert_exporter": "python",
   "pygments_lexer": "ipython3",
   "version": "3.10.13"
  },
  "papermill": {
   "default_parameters": {},
   "duration": 846.350925,
   "end_time": "2024-07-25T15:07:39.800339",
   "environment_variables": {},
   "exception": null,
   "input_path": "__notebook__.ipynb",
   "output_path": "__notebook__.ipynb",
   "parameters": {},
   "start_time": "2024-07-25T14:53:33.449414",
   "version": "2.5.0"
  }
 },
 "nbformat": 4,
 "nbformat_minor": 5
}
