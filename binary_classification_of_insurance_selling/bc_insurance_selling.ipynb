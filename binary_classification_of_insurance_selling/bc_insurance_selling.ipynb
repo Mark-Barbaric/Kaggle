{
 "cells": [
  {
   "cell_type": "markdown",
   "id": "bc173cf2",
   "metadata": {
    "papermill": {
     "duration": 0.010652,
     "end_time": "2024-07-22T14:31:06.284550",
     "exception": false,
     "start_time": "2024-07-22T14:31:06.273898",
     "status": "completed"
    },
    "tags": []
   },
   "source": [
    "# Binary Classification of Insurance Selling\n",
    "\n",
    "The aim of this workbook is train a model to predict whether customers respond positively to an automobile insurance offer.\n",
    "\n",
    "url: https://www.kaggle.com/competitions/playground-series-s4e7/overview"
   ]
  },
  {
   "cell_type": "markdown",
   "id": "f7c2940c",
   "metadata": {
    "papermill": {
     "duration": 0.009902,
     "end_time": "2024-07-22T14:31:06.304657",
     "exception": false,
     "start_time": "2024-07-22T14:31:06.294755",
     "status": "completed"
    },
    "tags": []
   },
   "source": [
    "# Lib Imports"
   ]
  },
  {
   "cell_type": "code",
   "execution_count": 1,
   "id": "fa44c3cc",
   "metadata": {
    "execution": {
     "iopub.execute_input": "2024-07-22T14:31:06.326661Z",
     "iopub.status.busy": "2024-07-22T14:31:06.326249Z",
     "iopub.status.idle": "2024-07-22T14:31:08.804273Z",
     "shell.execute_reply": "2024-07-22T14:31:08.803042Z"
    },
    "papermill": {
     "duration": 2.492378,
     "end_time": "2024-07-22T14:31:08.807124",
     "exception": false,
     "start_time": "2024-07-22T14:31:06.314746",
     "status": "completed"
    },
    "tags": []
   },
   "outputs": [],
   "source": [
    "import numpy as np\n",
    "import pandas as pd\n",
    "import matplotlib.pyplot as plt\n",
    "import dask.dataframe as dd"
   ]
  },
  {
   "cell_type": "code",
   "execution_count": 2,
   "id": "2c090540",
   "metadata": {
    "execution": {
     "iopub.execute_input": "2024-07-22T14:31:08.830193Z",
     "iopub.status.busy": "2024-07-22T14:31:08.828765Z",
     "iopub.status.idle": "2024-07-22T14:31:09.978938Z",
     "shell.execute_reply": "2024-07-22T14:31:09.977892Z"
    },
    "papermill": {
     "duration": 1.164419,
     "end_time": "2024-07-22T14:31:09.981691",
     "exception": false,
     "start_time": "2024-07-22T14:31:08.817272",
     "status": "completed"
    },
    "tags": []
   },
   "outputs": [],
   "source": [
    "from sklearn.metrics import classification_report, confusion_matrix\n",
    "from sklearn.model_selection import train_test_split, StratifiedKFold"
   ]
  },
  {
   "cell_type": "code",
   "execution_count": 3,
   "id": "6b8b648e",
   "metadata": {
    "execution": {
     "iopub.execute_input": "2024-07-22T14:31:10.004335Z",
     "iopub.status.busy": "2024-07-22T14:31:10.003925Z",
     "iopub.status.idle": "2024-07-22T14:31:10.009075Z",
     "shell.execute_reply": "2024-07-22T14:31:10.007775Z"
    },
    "papermill": {
     "duration": 0.019721,
     "end_time": "2024-07-22T14:31:10.011660",
     "exception": false,
     "start_time": "2024-07-22T14:31:09.991939",
     "status": "completed"
    },
    "tags": []
   },
   "outputs": [],
   "source": [
    "RANDOM_STATE = 32\n",
    "Y_COLUMN = 'Response'"
   ]
  },
  {
   "cell_type": "code",
   "execution_count": 4,
   "id": "31c513b3",
   "metadata": {
    "execution": {
     "iopub.execute_input": "2024-07-22T14:31:10.034292Z",
     "iopub.status.busy": "2024-07-22T14:31:10.033901Z",
     "iopub.status.idle": "2024-07-22T14:31:10.041441Z",
     "shell.execute_reply": "2024-07-22T14:31:10.040139Z"
    },
    "papermill": {
     "duration": 0.022323,
     "end_time": "2024-07-22T14:31:10.044713",
     "exception": false,
     "start_time": "2024-07-22T14:31:10.022390",
     "status": "completed"
    },
    "tags": []
   },
   "outputs": [
    {
     "name": "stdout",
     "output_type": "stream",
     "text": [
      "train dataset dir: /kaggle/input/playground-series-s4e7/train.csv\n",
      "test dataset dir: /kaggle/input/playground-series-s4e7/test.csv\n"
     ]
    }
   ],
   "source": [
    "import os\n",
    "\n",
    "TRAIN_DATASET_DIR = '/kaggle/input/playground-series-s4e7/train.csv' if os.path.exists('/kaggle/input/') else 'train.csv'\n",
    "TEST_DATASET_DIR = '/kaggle/input/playground-series-s4e7/test.csv' if os.path.exists('/kaggle/input/') else 'test.csv'\n",
    "\n",
    "print(f\"train dataset dir: {TRAIN_DATASET_DIR}\")\n",
    "print(f\"test dataset dir: {TEST_DATASET_DIR}\")"
   ]
  },
  {
   "cell_type": "markdown",
   "id": "e060794a",
   "metadata": {
    "papermill": {
     "duration": 0.010073,
     "end_time": "2024-07-22T14:31:10.065688",
     "exception": false,
     "start_time": "2024-07-22T14:31:10.055615",
     "status": "completed"
    },
    "tags": []
   },
   "source": [
    "## 1. EDA"
   ]
  },
  {
   "cell_type": "markdown",
   "id": "4d112765",
   "metadata": {
    "papermill": {
     "duration": 0.010826,
     "end_time": "2024-07-22T14:31:10.086901",
     "exception": false,
     "start_time": "2024-07-22T14:31:10.076075",
     "status": "completed"
    },
    "tags": []
   },
   "source": [
    "### 1.1 Train and Test Dataset Loading\n",
    "\n",
    "The aim of this section is to load the train and test datasets, in order to investigate missing data and general trends."
   ]
  },
  {
   "cell_type": "code",
   "execution_count": 5,
   "id": "61333bc0",
   "metadata": {
    "execution": {
     "iopub.execute_input": "2024-07-22T14:31:10.109408Z",
     "iopub.status.busy": "2024-07-22T14:31:10.108977Z",
     "iopub.status.idle": "2024-07-22T14:31:10.178618Z",
     "shell.execute_reply": "2024-07-22T14:31:10.177549Z"
    },
    "papermill": {
     "duration": 0.084473,
     "end_time": "2024-07-22T14:31:10.181573",
     "exception": false,
     "start_time": "2024-07-22T14:31:10.097100",
     "status": "completed"
    },
    "tags": []
   },
   "outputs": [],
   "source": [
    "train_df = dd.read_csv(TRAIN_DATASET_DIR)"
   ]
  },
  {
   "cell_type": "code",
   "execution_count": 6,
   "id": "fe8c8057",
   "metadata": {
    "execution": {
     "iopub.execute_input": "2024-07-22T14:31:10.203952Z",
     "iopub.status.busy": "2024-07-22T14:31:10.203539Z",
     "iopub.status.idle": "2024-07-22T14:31:21.802033Z",
     "shell.execute_reply": "2024-07-22T14:31:21.800830Z"
    },
    "papermill": {
     "duration": 11.612794,
     "end_time": "2024-07-22T14:31:21.804753",
     "exception": false,
     "start_time": "2024-07-22T14:31:10.191959",
     "status": "completed"
    },
    "tags": []
   },
   "outputs": [],
   "source": [
    "train_df = train_df.compute()"
   ]
  },
  {
   "cell_type": "code",
   "execution_count": 7,
   "id": "f9a857f1",
   "metadata": {
    "execution": {
     "iopub.execute_input": "2024-07-22T14:31:21.828062Z",
     "iopub.status.busy": "2024-07-22T14:31:21.827570Z",
     "iopub.status.idle": "2024-07-22T14:31:21.856190Z",
     "shell.execute_reply": "2024-07-22T14:31:21.854541Z"
    },
    "papermill": {
     "duration": 0.043581,
     "end_time": "2024-07-22T14:31:21.859145",
     "exception": false,
     "start_time": "2024-07-22T14:31:21.815564",
     "status": "completed"
    },
    "tags": []
   },
   "outputs": [
    {
     "data": {
      "text/html": [
       "<div>\n",
       "<style scoped>\n",
       "    .dataframe tbody tr th:only-of-type {\n",
       "        vertical-align: middle;\n",
       "    }\n",
       "\n",
       "    .dataframe tbody tr th {\n",
       "        vertical-align: top;\n",
       "    }\n",
       "\n",
       "    .dataframe thead th {\n",
       "        text-align: right;\n",
       "    }\n",
       "</style>\n",
       "<table border=\"1\" class=\"dataframe\">\n",
       "  <thead>\n",
       "    <tr style=\"text-align: right;\">\n",
       "      <th></th>\n",
       "      <th>id</th>\n",
       "      <th>Gender</th>\n",
       "      <th>Age</th>\n",
       "      <th>Driving_License</th>\n",
       "      <th>Region_Code</th>\n",
       "      <th>Previously_Insured</th>\n",
       "      <th>Vehicle_Age</th>\n",
       "      <th>Vehicle_Damage</th>\n",
       "      <th>Annual_Premium</th>\n",
       "      <th>Policy_Sales_Channel</th>\n",
       "      <th>Vintage</th>\n",
       "      <th>Response</th>\n",
       "    </tr>\n",
       "  </thead>\n",
       "  <tbody>\n",
       "    <tr>\n",
       "      <th>0</th>\n",
       "      <td>0</td>\n",
       "      <td>Male</td>\n",
       "      <td>21</td>\n",
       "      <td>1</td>\n",
       "      <td>35.0</td>\n",
       "      <td>0</td>\n",
       "      <td>1-2 Year</td>\n",
       "      <td>Yes</td>\n",
       "      <td>65101.0</td>\n",
       "      <td>124.0</td>\n",
       "      <td>187</td>\n",
       "      <td>0</td>\n",
       "    </tr>\n",
       "    <tr>\n",
       "      <th>1</th>\n",
       "      <td>1</td>\n",
       "      <td>Male</td>\n",
       "      <td>43</td>\n",
       "      <td>1</td>\n",
       "      <td>28.0</td>\n",
       "      <td>0</td>\n",
       "      <td>&gt; 2 Years</td>\n",
       "      <td>Yes</td>\n",
       "      <td>58911.0</td>\n",
       "      <td>26.0</td>\n",
       "      <td>288</td>\n",
       "      <td>1</td>\n",
       "    </tr>\n",
       "    <tr>\n",
       "      <th>2</th>\n",
       "      <td>2</td>\n",
       "      <td>Female</td>\n",
       "      <td>25</td>\n",
       "      <td>1</td>\n",
       "      <td>14.0</td>\n",
       "      <td>1</td>\n",
       "      <td>&lt; 1 Year</td>\n",
       "      <td>No</td>\n",
       "      <td>38043.0</td>\n",
       "      <td>152.0</td>\n",
       "      <td>254</td>\n",
       "      <td>0</td>\n",
       "    </tr>\n",
       "    <tr>\n",
       "      <th>3</th>\n",
       "      <td>3</td>\n",
       "      <td>Female</td>\n",
       "      <td>35</td>\n",
       "      <td>1</td>\n",
       "      <td>1.0</td>\n",
       "      <td>0</td>\n",
       "      <td>1-2 Year</td>\n",
       "      <td>Yes</td>\n",
       "      <td>2630.0</td>\n",
       "      <td>156.0</td>\n",
       "      <td>76</td>\n",
       "      <td>0</td>\n",
       "    </tr>\n",
       "    <tr>\n",
       "      <th>4</th>\n",
       "      <td>4</td>\n",
       "      <td>Female</td>\n",
       "      <td>36</td>\n",
       "      <td>1</td>\n",
       "      <td>15.0</td>\n",
       "      <td>1</td>\n",
       "      <td>1-2 Year</td>\n",
       "      <td>No</td>\n",
       "      <td>31951.0</td>\n",
       "      <td>152.0</td>\n",
       "      <td>294</td>\n",
       "      <td>0</td>\n",
       "    </tr>\n",
       "  </tbody>\n",
       "</table>\n",
       "</div>"
      ],
      "text/plain": [
       "   id  Gender  Age  Driving_License  Region_Code  Previously_Insured  \\\n",
       "0   0    Male   21                1         35.0                   0   \n",
       "1   1    Male   43                1         28.0                   0   \n",
       "2   2  Female   25                1         14.0                   1   \n",
       "3   3  Female   35                1          1.0                   0   \n",
       "4   4  Female   36                1         15.0                   1   \n",
       "\n",
       "  Vehicle_Age Vehicle_Damage  Annual_Premium  Policy_Sales_Channel  Vintage  \\\n",
       "0    1-2 Year            Yes         65101.0                 124.0      187   \n",
       "1   > 2 Years            Yes         58911.0                  26.0      288   \n",
       "2    < 1 Year             No         38043.0                 152.0      254   \n",
       "3    1-2 Year            Yes          2630.0                 156.0       76   \n",
       "4    1-2 Year             No         31951.0                 152.0      294   \n",
       "\n",
       "   Response  \n",
       "0         0  \n",
       "1         1  \n",
       "2         0  \n",
       "3         0  \n",
       "4         0  "
      ]
     },
     "execution_count": 7,
     "metadata": {},
     "output_type": "execute_result"
    }
   ],
   "source": [
    "train_df.head()"
   ]
  },
  {
   "cell_type": "code",
   "execution_count": 8,
   "id": "e43fbcf2",
   "metadata": {
    "execution": {
     "iopub.execute_input": "2024-07-22T14:31:21.882467Z",
     "iopub.status.busy": "2024-07-22T14:31:21.882067Z",
     "iopub.status.idle": "2024-07-22T14:31:24.366678Z",
     "shell.execute_reply": "2024-07-22T14:31:24.365609Z"
    },
    "papermill": {
     "duration": 2.499148,
     "end_time": "2024-07-22T14:31:24.369147",
     "exception": false,
     "start_time": "2024-07-22T14:31:21.869999",
     "status": "completed"
    },
    "tags": []
   },
   "outputs": [
    {
     "data": {
      "text/html": [
       "<div>\n",
       "<style scoped>\n",
       "    .dataframe tbody tr th:only-of-type {\n",
       "        vertical-align: middle;\n",
       "    }\n",
       "\n",
       "    .dataframe tbody tr th {\n",
       "        vertical-align: top;\n",
       "    }\n",
       "\n",
       "    .dataframe thead th {\n",
       "        text-align: right;\n",
       "    }\n",
       "</style>\n",
       "<table border=\"1\" class=\"dataframe\">\n",
       "  <thead>\n",
       "    <tr style=\"text-align: right;\">\n",
       "      <th></th>\n",
       "      <th>id</th>\n",
       "      <th>Gender</th>\n",
       "      <th>Age</th>\n",
       "      <th>Driving_License</th>\n",
       "      <th>Region_Code</th>\n",
       "      <th>Previously_Insured</th>\n",
       "      <th>Vehicle_Age</th>\n",
       "      <th>Vehicle_Damage</th>\n",
       "      <th>Annual_Premium</th>\n",
       "      <th>Policy_Sales_Channel</th>\n",
       "      <th>Vintage</th>\n",
       "    </tr>\n",
       "  </thead>\n",
       "  <tbody>\n",
       "    <tr>\n",
       "      <th>0</th>\n",
       "      <td>11504798</td>\n",
       "      <td>Female</td>\n",
       "      <td>20</td>\n",
       "      <td>1</td>\n",
       "      <td>47.0</td>\n",
       "      <td>0</td>\n",
       "      <td>&lt; 1 Year</td>\n",
       "      <td>No</td>\n",
       "      <td>2630.0</td>\n",
       "      <td>160.0</td>\n",
       "      <td>228</td>\n",
       "    </tr>\n",
       "    <tr>\n",
       "      <th>1</th>\n",
       "      <td>11504799</td>\n",
       "      <td>Male</td>\n",
       "      <td>47</td>\n",
       "      <td>1</td>\n",
       "      <td>28.0</td>\n",
       "      <td>0</td>\n",
       "      <td>1-2 Year</td>\n",
       "      <td>Yes</td>\n",
       "      <td>37483.0</td>\n",
       "      <td>124.0</td>\n",
       "      <td>123</td>\n",
       "    </tr>\n",
       "    <tr>\n",
       "      <th>2</th>\n",
       "      <td>11504800</td>\n",
       "      <td>Male</td>\n",
       "      <td>47</td>\n",
       "      <td>1</td>\n",
       "      <td>43.0</td>\n",
       "      <td>0</td>\n",
       "      <td>1-2 Year</td>\n",
       "      <td>Yes</td>\n",
       "      <td>2630.0</td>\n",
       "      <td>26.0</td>\n",
       "      <td>271</td>\n",
       "    </tr>\n",
       "    <tr>\n",
       "      <th>3</th>\n",
       "      <td>11504801</td>\n",
       "      <td>Female</td>\n",
       "      <td>22</td>\n",
       "      <td>1</td>\n",
       "      <td>47.0</td>\n",
       "      <td>1</td>\n",
       "      <td>&lt; 1 Year</td>\n",
       "      <td>No</td>\n",
       "      <td>24502.0</td>\n",
       "      <td>152.0</td>\n",
       "      <td>115</td>\n",
       "    </tr>\n",
       "    <tr>\n",
       "      <th>4</th>\n",
       "      <td>11504802</td>\n",
       "      <td>Male</td>\n",
       "      <td>51</td>\n",
       "      <td>1</td>\n",
       "      <td>19.0</td>\n",
       "      <td>0</td>\n",
       "      <td>1-2 Year</td>\n",
       "      <td>No</td>\n",
       "      <td>34115.0</td>\n",
       "      <td>124.0</td>\n",
       "      <td>148</td>\n",
       "    </tr>\n",
       "  </tbody>\n",
       "</table>\n",
       "</div>"
      ],
      "text/plain": [
       "         id  Gender  Age  Driving_License  Region_Code  Previously_Insured  \\\n",
       "0  11504798  Female   20                1         47.0                   0   \n",
       "1  11504799    Male   47                1         28.0                   0   \n",
       "2  11504800    Male   47                1         43.0                   0   \n",
       "3  11504801  Female   22                1         47.0                   1   \n",
       "4  11504802    Male   51                1         19.0                   0   \n",
       "\n",
       "  Vehicle_Age Vehicle_Damage  Annual_Premium  Policy_Sales_Channel  Vintage  \n",
       "0    < 1 Year             No          2630.0                 160.0      228  \n",
       "1    1-2 Year            Yes         37483.0                 124.0      123  \n",
       "2    1-2 Year            Yes          2630.0                  26.0      271  \n",
       "3    < 1 Year             No         24502.0                 152.0      115  \n",
       "4    1-2 Year             No         34115.0                 124.0      148  "
      ]
     },
     "execution_count": 8,
     "metadata": {},
     "output_type": "execute_result"
    }
   ],
   "source": [
    "test_df = dd.read_csv(TEST_DATASET_DIR)\n",
    "test_df.head()"
   ]
  },
  {
   "cell_type": "markdown",
   "id": "423e77ad",
   "metadata": {
    "papermill": {
     "duration": 0.010602,
     "end_time": "2024-07-22T14:31:24.390631",
     "exception": false,
     "start_time": "2024-07-22T14:31:24.380029",
     "status": "completed"
    },
    "tags": []
   },
   "source": [
    "Train Data Null and Dtype checks"
   ]
  },
  {
   "cell_type": "code",
   "execution_count": 9,
   "id": "81b36760",
   "metadata": {
    "execution": {
     "iopub.execute_input": "2024-07-22T14:31:24.414773Z",
     "iopub.status.busy": "2024-07-22T14:31:24.414377Z",
     "iopub.status.idle": "2024-07-22T14:31:28.196229Z",
     "shell.execute_reply": "2024-07-22T14:31:28.194791Z"
    },
    "papermill": {
     "duration": 3.797342,
     "end_time": "2024-07-22T14:31:28.199036",
     "exception": false,
     "start_time": "2024-07-22T14:31:24.401694",
     "status": "completed"
    },
    "tags": []
   },
   "outputs": [
    {
     "data": {
      "text/plain": [
       "id                      0\n",
       "Gender                  0\n",
       "Age                     0\n",
       "Driving_License         0\n",
       "Region_Code             0\n",
       "Previously_Insured      0\n",
       "Vehicle_Age             0\n",
       "Vehicle_Damage          0\n",
       "Annual_Premium          0\n",
       "Policy_Sales_Channel    0\n",
       "Vintage                 0\n",
       "Response                0\n",
       "dtype: int64"
      ]
     },
     "execution_count": 9,
     "metadata": {},
     "output_type": "execute_result"
    }
   ],
   "source": [
    "train_df.isna().sum()"
   ]
  },
  {
   "cell_type": "code",
   "execution_count": 10,
   "id": "9b1442ca",
   "metadata": {
    "execution": {
     "iopub.execute_input": "2024-07-22T14:31:28.223932Z",
     "iopub.status.busy": "2024-07-22T14:31:28.223467Z",
     "iopub.status.idle": "2024-07-22T14:31:28.232874Z",
     "shell.execute_reply": "2024-07-22T14:31:28.231760Z"
    },
    "papermill": {
     "duration": 0.024691,
     "end_time": "2024-07-22T14:31:28.235415",
     "exception": false,
     "start_time": "2024-07-22T14:31:28.210724",
     "status": "completed"
    },
    "tags": []
   },
   "outputs": [
    {
     "data": {
      "text/plain": [
       "id                        int64\n",
       "Gender                   object\n",
       "Age                       int64\n",
       "Driving_License           int64\n",
       "Region_Code             float64\n",
       "Previously_Insured        int64\n",
       "Vehicle_Age              object\n",
       "Vehicle_Damage           object\n",
       "Annual_Premium          float64\n",
       "Policy_Sales_Channel    float64\n",
       "Vintage                   int64\n",
       "Response                  int64\n",
       "dtype: object"
      ]
     },
     "execution_count": 10,
     "metadata": {},
     "output_type": "execute_result"
    }
   ],
   "source": [
    "train_df.dtypes"
   ]
  },
  {
   "cell_type": "markdown",
   "id": "1b654437",
   "metadata": {
    "papermill": {
     "duration": 0.010929,
     "end_time": "2024-07-22T14:31:28.258272",
     "exception": false,
     "start_time": "2024-07-22T14:31:28.247343",
     "status": "completed"
    },
    "tags": []
   },
   "source": [
    "Test Data Null and Dtype checks"
   ]
  },
  {
   "cell_type": "code",
   "execution_count": 11,
   "id": "be9412c0",
   "metadata": {
    "execution": {
     "iopub.execute_input": "2024-07-22T14:31:28.282370Z",
     "iopub.status.busy": "2024-07-22T14:31:28.281952Z",
     "iopub.status.idle": "2024-07-22T14:31:37.386611Z",
     "shell.execute_reply": "2024-07-22T14:31:37.385270Z"
    },
    "papermill": {
     "duration": 9.119885,
     "end_time": "2024-07-22T14:31:37.389367",
     "exception": false,
     "start_time": "2024-07-22T14:31:28.269482",
     "status": "completed"
    },
    "tags": []
   },
   "outputs": [
    {
     "data": {
      "text/plain": [
       "id                      0\n",
       "Gender                  0\n",
       "Age                     0\n",
       "Driving_License         0\n",
       "Region_Code             0\n",
       "Previously_Insured      0\n",
       "Vehicle_Age             0\n",
       "Vehicle_Damage          0\n",
       "Annual_Premium          0\n",
       "Policy_Sales_Channel    0\n",
       "Vintage                 0\n",
       "dtype: int64"
      ]
     },
     "execution_count": 11,
     "metadata": {},
     "output_type": "execute_result"
    }
   ],
   "source": [
    "test_df.isna().sum().compute()"
   ]
  },
  {
   "cell_type": "markdown",
   "id": "9b82db5a",
   "metadata": {
    "papermill": {
     "duration": 0.011019,
     "end_time": "2024-07-22T14:31:37.412065",
     "exception": false,
     "start_time": "2024-07-22T14:31:37.401046",
     "status": "completed"
    },
    "tags": []
   },
   "source": [
    "There doesn't seem to be any missing or unusual data so we can proceed with the EDA of the training Dataset."
   ]
  },
  {
   "cell_type": "markdown",
   "id": "2af0cf18",
   "metadata": {
    "papermill": {
     "duration": 0.01115,
     "end_time": "2024-07-22T14:31:37.435296",
     "exception": false,
     "start_time": "2024-07-22T14:31:37.424146",
     "status": "completed"
    },
    "tags": []
   },
   "source": [
    "### 1.2 Train Dataset Feature Engineering\n",
    "\n",
    "The first step is to analyse the current dataset to determine if features can be engineered. For starters, I'm going to investigate the object columns to determine whether they can be encoded."
   ]
  },
  {
   "cell_type": "code",
   "execution_count": 12,
   "id": "e827335f",
   "metadata": {
    "execution": {
     "iopub.execute_input": "2024-07-22T14:31:37.460911Z",
     "iopub.status.busy": "2024-07-22T14:31:37.460434Z",
     "iopub.status.idle": "2024-07-22T14:31:37.480412Z",
     "shell.execute_reply": "2024-07-22T14:31:37.479287Z"
    },
    "papermill": {
     "duration": 0.036354,
     "end_time": "2024-07-22T14:31:37.483095",
     "exception": false,
     "start_time": "2024-07-22T14:31:37.446741",
     "status": "completed"
    },
    "tags": []
   },
   "outputs": [
    {
     "data": {
      "text/html": [
       "<div>\n",
       "<style scoped>\n",
       "    .dataframe tbody tr th:only-of-type {\n",
       "        vertical-align: middle;\n",
       "    }\n",
       "\n",
       "    .dataframe tbody tr th {\n",
       "        vertical-align: top;\n",
       "    }\n",
       "\n",
       "    .dataframe thead th {\n",
       "        text-align: right;\n",
       "    }\n",
       "</style>\n",
       "<table border=\"1\" class=\"dataframe\">\n",
       "  <thead>\n",
       "    <tr style=\"text-align: right;\">\n",
       "      <th></th>\n",
       "      <th>id</th>\n",
       "      <th>Gender</th>\n",
       "      <th>Age</th>\n",
       "      <th>Driving_License</th>\n",
       "      <th>Region_Code</th>\n",
       "      <th>Previously_Insured</th>\n",
       "      <th>Vehicle_Age</th>\n",
       "      <th>Vehicle_Damage</th>\n",
       "      <th>Annual_Premium</th>\n",
       "      <th>Policy_Sales_Channel</th>\n",
       "      <th>Vintage</th>\n",
       "      <th>Response</th>\n",
       "    </tr>\n",
       "  </thead>\n",
       "  <tbody>\n",
       "    <tr>\n",
       "      <th>0</th>\n",
       "      <td>0</td>\n",
       "      <td>Male</td>\n",
       "      <td>21</td>\n",
       "      <td>1</td>\n",
       "      <td>35.0</td>\n",
       "      <td>0</td>\n",
       "      <td>1-2 Year</td>\n",
       "      <td>Yes</td>\n",
       "      <td>65101.0</td>\n",
       "      <td>124.0</td>\n",
       "      <td>187</td>\n",
       "      <td>0</td>\n",
       "    </tr>\n",
       "    <tr>\n",
       "      <th>1</th>\n",
       "      <td>1</td>\n",
       "      <td>Male</td>\n",
       "      <td>43</td>\n",
       "      <td>1</td>\n",
       "      <td>28.0</td>\n",
       "      <td>0</td>\n",
       "      <td>&gt; 2 Years</td>\n",
       "      <td>Yes</td>\n",
       "      <td>58911.0</td>\n",
       "      <td>26.0</td>\n",
       "      <td>288</td>\n",
       "      <td>1</td>\n",
       "    </tr>\n",
       "    <tr>\n",
       "      <th>2</th>\n",
       "      <td>2</td>\n",
       "      <td>Female</td>\n",
       "      <td>25</td>\n",
       "      <td>1</td>\n",
       "      <td>14.0</td>\n",
       "      <td>1</td>\n",
       "      <td>&lt; 1 Year</td>\n",
       "      <td>No</td>\n",
       "      <td>38043.0</td>\n",
       "      <td>152.0</td>\n",
       "      <td>254</td>\n",
       "      <td>0</td>\n",
       "    </tr>\n",
       "    <tr>\n",
       "      <th>3</th>\n",
       "      <td>3</td>\n",
       "      <td>Female</td>\n",
       "      <td>35</td>\n",
       "      <td>1</td>\n",
       "      <td>1.0</td>\n",
       "      <td>0</td>\n",
       "      <td>1-2 Year</td>\n",
       "      <td>Yes</td>\n",
       "      <td>2630.0</td>\n",
       "      <td>156.0</td>\n",
       "      <td>76</td>\n",
       "      <td>0</td>\n",
       "    </tr>\n",
       "    <tr>\n",
       "      <th>4</th>\n",
       "      <td>4</td>\n",
       "      <td>Female</td>\n",
       "      <td>36</td>\n",
       "      <td>1</td>\n",
       "      <td>15.0</td>\n",
       "      <td>1</td>\n",
       "      <td>1-2 Year</td>\n",
       "      <td>No</td>\n",
       "      <td>31951.0</td>\n",
       "      <td>152.0</td>\n",
       "      <td>294</td>\n",
       "      <td>0</td>\n",
       "    </tr>\n",
       "  </tbody>\n",
       "</table>\n",
       "</div>"
      ],
      "text/plain": [
       "   id  Gender  Age  Driving_License  Region_Code  Previously_Insured  \\\n",
       "0   0    Male   21                1         35.0                   0   \n",
       "1   1    Male   43                1         28.0                   0   \n",
       "2   2  Female   25                1         14.0                   1   \n",
       "3   3  Female   35                1          1.0                   0   \n",
       "4   4  Female   36                1         15.0                   1   \n",
       "\n",
       "  Vehicle_Age Vehicle_Damage  Annual_Premium  Policy_Sales_Channel  Vintage  \\\n",
       "0    1-2 Year            Yes         65101.0                 124.0      187   \n",
       "1   > 2 Years            Yes         58911.0                  26.0      288   \n",
       "2    < 1 Year             No         38043.0                 152.0      254   \n",
       "3    1-2 Year            Yes          2630.0                 156.0       76   \n",
       "4    1-2 Year             No         31951.0                 152.0      294   \n",
       "\n",
       "   Response  \n",
       "0         0  \n",
       "1         1  \n",
       "2         0  \n",
       "3         0  \n",
       "4         0  "
      ]
     },
     "execution_count": 12,
     "metadata": {},
     "output_type": "execute_result"
    }
   ],
   "source": [
    "train_df.head()"
   ]
  },
  {
   "cell_type": "code",
   "execution_count": 13,
   "id": "f898911c",
   "metadata": {
    "execution": {
     "iopub.execute_input": "2024-07-22T14:31:37.508757Z",
     "iopub.status.busy": "2024-07-22T14:31:37.508369Z",
     "iopub.status.idle": "2024-07-22T14:31:39.575754Z",
     "shell.execute_reply": "2024-07-22T14:31:39.574628Z"
    },
    "papermill": {
     "duration": 2.082846,
     "end_time": "2024-07-22T14:31:39.578125",
     "exception": false,
     "start_time": "2024-07-22T14:31:37.495279",
     "status": "completed"
    },
    "tags": []
   },
   "outputs": [
    {
     "data": {
      "text/plain": [
       "Gender\n",
       "Male      6228134\n",
       "Female    5276664\n",
       "Name: count, dtype: int64"
      ]
     },
     "execution_count": 13,
     "metadata": {},
     "output_type": "execute_result"
    }
   ],
   "source": [
    "train_df['Gender'].value_counts()"
   ]
  },
  {
   "cell_type": "markdown",
   "id": "45e7db81",
   "metadata": {
    "papermill": {
     "duration": 0.011376,
     "end_time": "2024-07-22T14:31:39.601401",
     "exception": false,
     "start_time": "2024-07-22T14:31:39.590025",
     "status": "completed"
    },
    "tags": []
   },
   "source": [
    "There are only two values so these can be binary encoded."
   ]
  },
  {
   "cell_type": "code",
   "execution_count": 14,
   "id": "6165d77d",
   "metadata": {
    "execution": {
     "iopub.execute_input": "2024-07-22T14:31:39.626851Z",
     "iopub.status.busy": "2024-07-22T14:31:39.626415Z",
     "iopub.status.idle": "2024-07-22T14:31:41.723950Z",
     "shell.execute_reply": "2024-07-22T14:31:41.722872Z"
    },
    "papermill": {
     "duration": 2.11316,
     "end_time": "2024-07-22T14:31:41.726356",
     "exception": false,
     "start_time": "2024-07-22T14:31:39.613196",
     "status": "completed"
    },
    "tags": []
   },
   "outputs": [
    {
     "data": {
      "text/plain": [
       "Vehicle_Age\n",
       "1-2 Year     5982678\n",
       "< 1 Year     5044145\n",
       "> 2 Years     477975\n",
       "Name: count, dtype: int64"
      ]
     },
     "execution_count": 14,
     "metadata": {},
     "output_type": "execute_result"
    }
   ],
   "source": [
    "train_df['Vehicle_Age'].value_counts()"
   ]
  },
  {
   "cell_type": "markdown",
   "id": "39b946fa",
   "metadata": {
    "papermill": {
     "duration": 0.011966,
     "end_time": "2024-07-22T14:31:41.750326",
     "exception": false,
     "start_time": "2024-07-22T14:31:41.738360",
     "status": "completed"
    },
    "tags": []
   },
   "source": [
    "There are only three unique values for Vehicle Age, so these can also be encoded."
   ]
  },
  {
   "cell_type": "code",
   "execution_count": 15,
   "id": "d84da4d8",
   "metadata": {
    "execution": {
     "iopub.execute_input": "2024-07-22T14:31:41.776335Z",
     "iopub.status.busy": "2024-07-22T14:31:41.775568Z",
     "iopub.status.idle": "2024-07-22T14:31:43.872701Z",
     "shell.execute_reply": "2024-07-22T14:31:43.871745Z"
    },
    "papermill": {
     "duration": 2.112777,
     "end_time": "2024-07-22T14:31:43.875144",
     "exception": false,
     "start_time": "2024-07-22T14:31:41.762367",
     "status": "completed"
    },
    "tags": []
   },
   "outputs": [
    {
     "data": {
      "text/plain": [
       "Vehicle_Damage\n",
       "Yes    5783229\n",
       "No     5721569\n",
       "Name: count, dtype: int64"
      ]
     },
     "execution_count": 15,
     "metadata": {},
     "output_type": "execute_result"
    }
   ],
   "source": [
    "train_df['Vehicle_Damage'].value_counts()"
   ]
  },
  {
   "cell_type": "markdown",
   "id": "2eae14a0",
   "metadata": {
    "papermill": {
     "duration": 0.01173,
     "end_time": "2024-07-22T14:31:43.899221",
     "exception": false,
     "start_time": "2024-07-22T14:31:43.887491",
     "status": "completed"
    },
    "tags": []
   },
   "source": [
    "Finally Vehicle Damage can also be binary encoded."
   ]
  },
  {
   "cell_type": "markdown",
   "id": "55578468",
   "metadata": {
    "papermill": {
     "duration": 0.011756,
     "end_time": "2024-07-22T14:31:43.923087",
     "exception": false,
     "start_time": "2024-07-22T14:31:43.911331",
     "status": "completed"
    },
    "tags": []
   },
   "source": [
    "So to summarize, all of the object columns can be encoded. Vehicle Damage and Gender will be Binary Encoded, and Vehicle Age will be one hot encoded."
   ]
  },
  {
   "cell_type": "code",
   "execution_count": 16,
   "id": "1a2c98dc",
   "metadata": {
    "execution": {
     "iopub.execute_input": "2024-07-22T14:31:43.949408Z",
     "iopub.status.busy": "2024-07-22T14:31:43.948959Z",
     "iopub.status.idle": "2024-07-22T14:31:43.954182Z",
     "shell.execute_reply": "2024-07-22T14:31:43.953007Z"
    },
    "papermill": {
     "duration": 0.021112,
     "end_time": "2024-07-22T14:31:43.956550",
     "exception": false,
     "start_time": "2024-07-22T14:31:43.935438",
     "status": "completed"
    },
    "tags": []
   },
   "outputs": [],
   "source": [
    "BINARY_COLUMNS = ['Gender', 'Vehicle_Damage']\n",
    "ONE_HOT_COLUMNS = ['Vehicle_Age']"
   ]
  },
  {
   "cell_type": "code",
   "execution_count": 17,
   "id": "cf2ce8fe",
   "metadata": {
    "execution": {
     "iopub.execute_input": "2024-07-22T14:31:43.982666Z",
     "iopub.status.busy": "2024-07-22T14:31:43.982228Z",
     "iopub.status.idle": "2024-07-22T14:31:43.996585Z",
     "shell.execute_reply": "2024-07-22T14:31:43.995413Z"
    },
    "papermill": {
     "duration": 0.030751,
     "end_time": "2024-07-22T14:31:43.999644",
     "exception": false,
     "start_time": "2024-07-22T14:31:43.968893",
     "status": "completed"
    },
    "tags": []
   },
   "outputs": [],
   "source": [
    "from sklearn.preprocessing import OneHotEncoder, LabelBinarizer\n",
    "from sklearn.pipeline import Pipeline\n",
    "from sklearn.compose import ColumnTransformer\n",
    "\n",
    "label_binarizer = LabelBinarizer()"
   ]
  },
  {
   "cell_type": "code",
   "execution_count": 18,
   "id": "2e86d6b1",
   "metadata": {
    "execution": {
     "iopub.execute_input": "2024-07-22T14:31:44.026567Z",
     "iopub.status.busy": "2024-07-22T14:31:44.026148Z",
     "iopub.status.idle": "2024-07-22T14:35:50.030862Z",
     "shell.execute_reply": "2024-07-22T14:35:50.029671Z"
    },
    "papermill": {
     "duration": 246.021362,
     "end_time": "2024-07-22T14:35:50.033854",
     "exception": false,
     "start_time": "2024-07-22T14:31:44.012492",
     "status": "completed"
    },
    "tags": []
   },
   "outputs": [],
   "source": [
    "train_df['Gender'] = label_binarizer.fit_transform(train_df['Gender'])\n",
    "train_df['Vehicle_Damage'] = label_binarizer.fit_transform(train_df['Vehicle_Damage'])"
   ]
  },
  {
   "cell_type": "code",
   "execution_count": 19,
   "id": "5a8579d1",
   "metadata": {
    "execution": {
     "iopub.execute_input": "2024-07-22T14:35:50.061555Z",
     "iopub.status.busy": "2024-07-22T14:35:50.060751Z",
     "iopub.status.idle": "2024-07-22T14:35:50.081666Z",
     "shell.execute_reply": "2024-07-22T14:35:50.080417Z"
    },
    "papermill": {
     "duration": 0.038588,
     "end_time": "2024-07-22T14:35:50.084954",
     "exception": false,
     "start_time": "2024-07-22T14:35:50.046366",
     "status": "completed"
    },
    "tags": []
   },
   "outputs": [
    {
     "data": {
      "text/html": [
       "<div>\n",
       "<style scoped>\n",
       "    .dataframe tbody tr th:only-of-type {\n",
       "        vertical-align: middle;\n",
       "    }\n",
       "\n",
       "    .dataframe tbody tr th {\n",
       "        vertical-align: top;\n",
       "    }\n",
       "\n",
       "    .dataframe thead th {\n",
       "        text-align: right;\n",
       "    }\n",
       "</style>\n",
       "<table border=\"1\" class=\"dataframe\">\n",
       "  <thead>\n",
       "    <tr style=\"text-align: right;\">\n",
       "      <th></th>\n",
       "      <th>id</th>\n",
       "      <th>Gender</th>\n",
       "      <th>Age</th>\n",
       "      <th>Driving_License</th>\n",
       "      <th>Region_Code</th>\n",
       "      <th>Previously_Insured</th>\n",
       "      <th>Vehicle_Age</th>\n",
       "      <th>Vehicle_Damage</th>\n",
       "      <th>Annual_Premium</th>\n",
       "      <th>Policy_Sales_Channel</th>\n",
       "      <th>Vintage</th>\n",
       "      <th>Response</th>\n",
       "    </tr>\n",
       "  </thead>\n",
       "  <tbody>\n",
       "    <tr>\n",
       "      <th>0</th>\n",
       "      <td>0</td>\n",
       "      <td>1</td>\n",
       "      <td>21</td>\n",
       "      <td>1</td>\n",
       "      <td>35.0</td>\n",
       "      <td>0</td>\n",
       "      <td>1-2 Year</td>\n",
       "      <td>1</td>\n",
       "      <td>65101.0</td>\n",
       "      <td>124.0</td>\n",
       "      <td>187</td>\n",
       "      <td>0</td>\n",
       "    </tr>\n",
       "    <tr>\n",
       "      <th>1</th>\n",
       "      <td>1</td>\n",
       "      <td>1</td>\n",
       "      <td>43</td>\n",
       "      <td>1</td>\n",
       "      <td>28.0</td>\n",
       "      <td>0</td>\n",
       "      <td>&gt; 2 Years</td>\n",
       "      <td>1</td>\n",
       "      <td>58911.0</td>\n",
       "      <td>26.0</td>\n",
       "      <td>288</td>\n",
       "      <td>1</td>\n",
       "    </tr>\n",
       "    <tr>\n",
       "      <th>2</th>\n",
       "      <td>2</td>\n",
       "      <td>0</td>\n",
       "      <td>25</td>\n",
       "      <td>1</td>\n",
       "      <td>14.0</td>\n",
       "      <td>1</td>\n",
       "      <td>&lt; 1 Year</td>\n",
       "      <td>0</td>\n",
       "      <td>38043.0</td>\n",
       "      <td>152.0</td>\n",
       "      <td>254</td>\n",
       "      <td>0</td>\n",
       "    </tr>\n",
       "    <tr>\n",
       "      <th>3</th>\n",
       "      <td>3</td>\n",
       "      <td>0</td>\n",
       "      <td>35</td>\n",
       "      <td>1</td>\n",
       "      <td>1.0</td>\n",
       "      <td>0</td>\n",
       "      <td>1-2 Year</td>\n",
       "      <td>1</td>\n",
       "      <td>2630.0</td>\n",
       "      <td>156.0</td>\n",
       "      <td>76</td>\n",
       "      <td>0</td>\n",
       "    </tr>\n",
       "    <tr>\n",
       "      <th>4</th>\n",
       "      <td>4</td>\n",
       "      <td>0</td>\n",
       "      <td>36</td>\n",
       "      <td>1</td>\n",
       "      <td>15.0</td>\n",
       "      <td>1</td>\n",
       "      <td>1-2 Year</td>\n",
       "      <td>0</td>\n",
       "      <td>31951.0</td>\n",
       "      <td>152.0</td>\n",
       "      <td>294</td>\n",
       "      <td>0</td>\n",
       "    </tr>\n",
       "  </tbody>\n",
       "</table>\n",
       "</div>"
      ],
      "text/plain": [
       "   id  Gender  Age  Driving_License  Region_Code  Previously_Insured  \\\n",
       "0   0       1   21                1         35.0                   0   \n",
       "1   1       1   43                1         28.0                   0   \n",
       "2   2       0   25                1         14.0                   1   \n",
       "3   3       0   35                1          1.0                   0   \n",
       "4   4       0   36                1         15.0                   1   \n",
       "\n",
       "  Vehicle_Age  Vehicle_Damage  Annual_Premium  Policy_Sales_Channel  Vintage  \\\n",
       "0    1-2 Year               1         65101.0                 124.0      187   \n",
       "1   > 2 Years               1         58911.0                  26.0      288   \n",
       "2    < 1 Year               0         38043.0                 152.0      254   \n",
       "3    1-2 Year               1          2630.0                 156.0       76   \n",
       "4    1-2 Year               0         31951.0                 152.0      294   \n",
       "\n",
       "   Response  \n",
       "0         0  \n",
       "1         1  \n",
       "2         0  \n",
       "3         0  \n",
       "4         0  "
      ]
     },
     "execution_count": 19,
     "metadata": {},
     "output_type": "execute_result"
    }
   ],
   "source": [
    "train_df.head()"
   ]
  },
  {
   "cell_type": "code",
   "execution_count": 20,
   "id": "d924807e",
   "metadata": {
    "execution": {
     "iopub.execute_input": "2024-07-22T14:35:50.112170Z",
     "iopub.status.busy": "2024-07-22T14:35:50.111760Z",
     "iopub.status.idle": "2024-07-22T14:35:52.045708Z",
     "shell.execute_reply": "2024-07-22T14:35:52.044368Z"
    },
    "papermill": {
     "duration": 1.950727,
     "end_time": "2024-07-22T14:35:52.048633",
     "exception": false,
     "start_time": "2024-07-22T14:35:50.097906",
     "status": "completed"
    },
    "tags": []
   },
   "outputs": [],
   "source": [
    "vehicle_age_one_hot = pd.get_dummies(train_df['Vehicle_Age'])\n",
    "train_df.drop('Vehicle_Age', axis=1, inplace=True)"
   ]
  },
  {
   "cell_type": "code",
   "execution_count": 21,
   "id": "f4a88b1a",
   "metadata": {
    "execution": {
     "iopub.execute_input": "2024-07-22T14:35:52.087632Z",
     "iopub.status.busy": "2024-07-22T14:35:52.087106Z",
     "iopub.status.idle": "2024-07-22T14:35:53.580957Z",
     "shell.execute_reply": "2024-07-22T14:35:53.579804Z"
    },
    "papermill": {
     "duration": 1.513167,
     "end_time": "2024-07-22T14:35:53.583644",
     "exception": false,
     "start_time": "2024-07-22T14:35:52.070477",
     "status": "completed"
    },
    "tags": []
   },
   "outputs": [
    {
     "data": {
      "text/html": [
       "<div>\n",
       "<style scoped>\n",
       "    .dataframe tbody tr th:only-of-type {\n",
       "        vertical-align: middle;\n",
       "    }\n",
       "\n",
       "    .dataframe tbody tr th {\n",
       "        vertical-align: top;\n",
       "    }\n",
       "\n",
       "    .dataframe thead th {\n",
       "        text-align: right;\n",
       "    }\n",
       "</style>\n",
       "<table border=\"1\" class=\"dataframe\">\n",
       "  <thead>\n",
       "    <tr style=\"text-align: right;\">\n",
       "      <th></th>\n",
       "      <th>0</th>\n",
       "      <th>1</th>\n",
       "      <th>2</th>\n",
       "      <th>3</th>\n",
       "      <th>4</th>\n",
       "      <th>5</th>\n",
       "      <th>6</th>\n",
       "      <th>7</th>\n",
       "      <th>8</th>\n",
       "      <th>9</th>\n",
       "      <th>10</th>\n",
       "      <th>11</th>\n",
       "      <th>12</th>\n",
       "      <th>13</th>\n",
       "    </tr>\n",
       "  </thead>\n",
       "  <tbody>\n",
       "    <tr>\n",
       "      <th>0</th>\n",
       "      <td>0</td>\n",
       "      <td>1</td>\n",
       "      <td>21</td>\n",
       "      <td>1</td>\n",
       "      <td>35.0</td>\n",
       "      <td>0</td>\n",
       "      <td>1</td>\n",
       "      <td>65101.0</td>\n",
       "      <td>124.0</td>\n",
       "      <td>187</td>\n",
       "      <td>0</td>\n",
       "      <td>True</td>\n",
       "      <td>False</td>\n",
       "      <td>False</td>\n",
       "    </tr>\n",
       "    <tr>\n",
       "      <th>1</th>\n",
       "      <td>1</td>\n",
       "      <td>1</td>\n",
       "      <td>43</td>\n",
       "      <td>1</td>\n",
       "      <td>28.0</td>\n",
       "      <td>0</td>\n",
       "      <td>1</td>\n",
       "      <td>58911.0</td>\n",
       "      <td>26.0</td>\n",
       "      <td>288</td>\n",
       "      <td>1</td>\n",
       "      <td>False</td>\n",
       "      <td>False</td>\n",
       "      <td>True</td>\n",
       "    </tr>\n",
       "    <tr>\n",
       "      <th>2</th>\n",
       "      <td>2</td>\n",
       "      <td>0</td>\n",
       "      <td>25</td>\n",
       "      <td>1</td>\n",
       "      <td>14.0</td>\n",
       "      <td>1</td>\n",
       "      <td>0</td>\n",
       "      <td>38043.0</td>\n",
       "      <td>152.0</td>\n",
       "      <td>254</td>\n",
       "      <td>0</td>\n",
       "      <td>False</td>\n",
       "      <td>True</td>\n",
       "      <td>False</td>\n",
       "    </tr>\n",
       "    <tr>\n",
       "      <th>3</th>\n",
       "      <td>3</td>\n",
       "      <td>0</td>\n",
       "      <td>35</td>\n",
       "      <td>1</td>\n",
       "      <td>1.0</td>\n",
       "      <td>0</td>\n",
       "      <td>1</td>\n",
       "      <td>2630.0</td>\n",
       "      <td>156.0</td>\n",
       "      <td>76</td>\n",
       "      <td>0</td>\n",
       "      <td>True</td>\n",
       "      <td>False</td>\n",
       "      <td>False</td>\n",
       "    </tr>\n",
       "    <tr>\n",
       "      <th>4</th>\n",
       "      <td>4</td>\n",
       "      <td>0</td>\n",
       "      <td>36</td>\n",
       "      <td>1</td>\n",
       "      <td>15.0</td>\n",
       "      <td>1</td>\n",
       "      <td>0</td>\n",
       "      <td>31951.0</td>\n",
       "      <td>152.0</td>\n",
       "      <td>294</td>\n",
       "      <td>0</td>\n",
       "      <td>True</td>\n",
       "      <td>False</td>\n",
       "      <td>False</td>\n",
       "    </tr>\n",
       "    <tr>\n",
       "      <th>...</th>\n",
       "      <td>...</td>\n",
       "      <td>...</td>\n",
       "      <td>...</td>\n",
       "      <td>...</td>\n",
       "      <td>...</td>\n",
       "      <td>...</td>\n",
       "      <td>...</td>\n",
       "      <td>...</td>\n",
       "      <td>...</td>\n",
       "      <td>...</td>\n",
       "      <td>...</td>\n",
       "      <td>...</td>\n",
       "      <td>...</td>\n",
       "      <td>...</td>\n",
       "    </tr>\n",
       "    <tr>\n",
       "      <th>1131515</th>\n",
       "      <td>11504793</td>\n",
       "      <td>1</td>\n",
       "      <td>48</td>\n",
       "      <td>1</td>\n",
       "      <td>6.0</td>\n",
       "      <td>0</td>\n",
       "      <td>1</td>\n",
       "      <td>27412.0</td>\n",
       "      <td>26.0</td>\n",
       "      <td>218</td>\n",
       "      <td>0</td>\n",
       "      <td>True</td>\n",
       "      <td>False</td>\n",
       "      <td>False</td>\n",
       "    </tr>\n",
       "    <tr>\n",
       "      <th>1131516</th>\n",
       "      <td>11504794</td>\n",
       "      <td>0</td>\n",
       "      <td>26</td>\n",
       "      <td>1</td>\n",
       "      <td>36.0</td>\n",
       "      <td>0</td>\n",
       "      <td>1</td>\n",
       "      <td>29509.0</td>\n",
       "      <td>152.0</td>\n",
       "      <td>115</td>\n",
       "      <td>1</td>\n",
       "      <td>False</td>\n",
       "      <td>True</td>\n",
       "      <td>False</td>\n",
       "    </tr>\n",
       "    <tr>\n",
       "      <th>1131517</th>\n",
       "      <td>11504795</td>\n",
       "      <td>0</td>\n",
       "      <td>29</td>\n",
       "      <td>1</td>\n",
       "      <td>32.0</td>\n",
       "      <td>1</td>\n",
       "      <td>0</td>\n",
       "      <td>2630.0</td>\n",
       "      <td>152.0</td>\n",
       "      <td>189</td>\n",
       "      <td>0</td>\n",
       "      <td>False</td>\n",
       "      <td>True</td>\n",
       "      <td>False</td>\n",
       "    </tr>\n",
       "    <tr>\n",
       "      <th>1131518</th>\n",
       "      <td>11504796</td>\n",
       "      <td>0</td>\n",
       "      <td>51</td>\n",
       "      <td>1</td>\n",
       "      <td>28.0</td>\n",
       "      <td>0</td>\n",
       "      <td>1</td>\n",
       "      <td>48443.0</td>\n",
       "      <td>26.0</td>\n",
       "      <td>274</td>\n",
       "      <td>1</td>\n",
       "      <td>True</td>\n",
       "      <td>False</td>\n",
       "      <td>False</td>\n",
       "    </tr>\n",
       "    <tr>\n",
       "      <th>1131519</th>\n",
       "      <td>11504797</td>\n",
       "      <td>1</td>\n",
       "      <td>25</td>\n",
       "      <td>1</td>\n",
       "      <td>28.0</td>\n",
       "      <td>1</td>\n",
       "      <td>0</td>\n",
       "      <td>32855.0</td>\n",
       "      <td>152.0</td>\n",
       "      <td>189</td>\n",
       "      <td>0</td>\n",
       "      <td>False</td>\n",
       "      <td>True</td>\n",
       "      <td>False</td>\n",
       "    </tr>\n",
       "  </tbody>\n",
       "</table>\n",
       "<p>11504798 rows × 14 columns</p>\n",
       "</div>"
      ],
      "text/plain": [
       "               0   1   2   3     4   5   6        7      8    9   10     11  \\\n",
       "0               0   1  21   1  35.0   0   1  65101.0  124.0  187   0   True   \n",
       "1               1   1  43   1  28.0   0   1  58911.0   26.0  288   1  False   \n",
       "2               2   0  25   1  14.0   1   0  38043.0  152.0  254   0  False   \n",
       "3               3   0  35   1   1.0   0   1   2630.0  156.0   76   0   True   \n",
       "4               4   0  36   1  15.0   1   0  31951.0  152.0  294   0   True   \n",
       "...           ...  ..  ..  ..   ...  ..  ..      ...    ...  ...  ..    ...   \n",
       "1131515  11504793   1  48   1   6.0   0   1  27412.0   26.0  218   0   True   \n",
       "1131516  11504794   0  26   1  36.0   0   1  29509.0  152.0  115   1  False   \n",
       "1131517  11504795   0  29   1  32.0   1   0   2630.0  152.0  189   0  False   \n",
       "1131518  11504796   0  51   1  28.0   0   1  48443.0   26.0  274   1   True   \n",
       "1131519  11504797   1  25   1  28.0   1   0  32855.0  152.0  189   0  False   \n",
       "\n",
       "            12     13  \n",
       "0        False  False  \n",
       "1        False   True  \n",
       "2         True  False  \n",
       "3        False  False  \n",
       "4        False  False  \n",
       "...        ...    ...  \n",
       "1131515  False  False  \n",
       "1131516   True  False  \n",
       "1131517   True  False  \n",
       "1131518  False  False  \n",
       "1131519   True  False  \n",
       "\n",
       "[11504798 rows x 14 columns]"
      ]
     },
     "execution_count": 21,
     "metadata": {},
     "output_type": "execute_result"
    }
   ],
   "source": [
    "pd.concat([train_df, vehicle_age_one_hot], ignore_index=True, axis=1)"
   ]
  },
  {
   "cell_type": "code",
   "execution_count": 22,
   "id": "21172c34",
   "metadata": {
    "execution": {
     "iopub.execute_input": "2024-07-22T14:35:53.611776Z",
     "iopub.status.busy": "2024-07-22T14:35:53.611356Z",
     "iopub.status.idle": "2024-07-22T14:35:53.620577Z",
     "shell.execute_reply": "2024-07-22T14:35:53.619447Z"
    },
    "papermill": {
     "duration": 0.026177,
     "end_time": "2024-07-22T14:35:53.623183",
     "exception": false,
     "start_time": "2024-07-22T14:35:53.597006",
     "status": "completed"
    },
    "tags": []
   },
   "outputs": [
    {
     "data": {
      "text/plain": [
       "id                        int64\n",
       "Gender                    int64\n",
       "Age                       int64\n",
       "Driving_License           int64\n",
       "Region_Code             float64\n",
       "Previously_Insured        int64\n",
       "Vehicle_Damage            int64\n",
       "Annual_Premium          float64\n",
       "Policy_Sales_Channel    float64\n",
       "Vintage                   int64\n",
       "Response                  int64\n",
       "dtype: object"
      ]
     },
     "execution_count": 22,
     "metadata": {},
     "output_type": "execute_result"
    }
   ],
   "source": [
    "train_df.dtypes"
   ]
  },
  {
   "cell_type": "code",
   "execution_count": null,
   "id": "d3c33816",
   "metadata": {
    "papermill": {
     "duration": 0.01296,
     "end_time": "2024-07-22T14:35:53.650012",
     "exception": false,
     "start_time": "2024-07-22T14:35:53.637052",
     "status": "completed"
    },
    "tags": []
   },
   "outputs": [],
   "source": []
  }
 ],
 "metadata": {
  "kaggle": {
   "accelerator": "none",
   "dataSources": [
    {
     "databundleVersionId": 8930475,
     "sourceId": 73291,
     "sourceType": "competition"
    }
   ],
   "dockerImageVersionId": 30746,
   "isGpuEnabled": false,
   "isInternetEnabled": true,
   "language": "python",
   "sourceType": "notebook"
  },
  "kernelspec": {
   "display_name": "Python 3",
   "language": "python",
   "name": "python3"
  },
  "language_info": {
   "codemirror_mode": {
    "name": "ipython",
    "version": 3
   },
   "file_extension": ".py",
   "mimetype": "text/x-python",
   "name": "python",
   "nbconvert_exporter": "python",
   "pygments_lexer": "ipython3",
   "version": "3.10.13"
  },
  "papermill": {
   "default_parameters": {},
   "duration": 291.64338,
   "end_time": "2024-07-22T14:35:54.588768",
   "environment_variables": {},
   "exception": null,
   "input_path": "__notebook__.ipynb",
   "output_path": "__notebook__.ipynb",
   "parameters": {},
   "start_time": "2024-07-22T14:31:02.945388",
   "version": "2.5.0"
  }
 },
 "nbformat": 4,
 "nbformat_minor": 5
}
