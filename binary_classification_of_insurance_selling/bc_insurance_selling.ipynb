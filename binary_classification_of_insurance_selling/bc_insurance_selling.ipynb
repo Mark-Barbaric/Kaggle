{
 "cells": [
  {
   "cell_type": "markdown",
   "id": "07c490d3",
   "metadata": {
    "papermill": {
     "duration": 0.007784,
     "end_time": "2024-07-22T14:42:06.574165",
     "exception": false,
     "start_time": "2024-07-22T14:42:06.566381",
     "status": "completed"
    },
    "tags": []
   },
   "source": [
    "# Binary Classification of Insurance Selling\n",
    "\n",
    "The aim of this workbook is train a model to predict whether customers respond positively to an automobile insurance offer.\n",
    "\n",
    "url: https://www.kaggle.com/competitions/playground-series-s4e7/overview"
   ]
  },
  {
   "cell_type": "markdown",
   "id": "2892b1e6",
   "metadata": {
    "papermill": {
     "duration": 0.006855,
     "end_time": "2024-07-22T14:42:06.588224",
     "exception": false,
     "start_time": "2024-07-22T14:42:06.581369",
     "status": "completed"
    },
    "tags": []
   },
   "source": [
    "# Lib Imports"
   ]
  },
  {
   "cell_type": "code",
   "execution_count": 1,
   "id": "9c549958",
   "metadata": {
    "execution": {
     "iopub.execute_input": "2024-07-22T14:42:06.603890Z",
     "iopub.status.busy": "2024-07-22T14:42:06.603469Z",
     "iopub.status.idle": "2024-07-22T14:42:08.583706Z",
     "shell.execute_reply": "2024-07-22T14:42:08.582706Z"
    },
    "papermill": {
     "duration": 1.990907,
     "end_time": "2024-07-22T14:42:08.586086",
     "exception": false,
     "start_time": "2024-07-22T14:42:06.595179",
     "status": "completed"
    },
    "tags": []
   },
   "outputs": [],
   "source": [
    "import numpy as np\n",
    "import pandas as pd\n",
    "import matplotlib.pyplot as plt\n",
    "import dask.dataframe as dd"
   ]
  },
  {
   "cell_type": "code",
   "execution_count": 2,
   "id": "fdf8c0fa",
   "metadata": {
    "execution": {
     "iopub.execute_input": "2024-07-22T14:42:08.602115Z",
     "iopub.status.busy": "2024-07-22T14:42:08.601299Z",
     "iopub.status.idle": "2024-07-22T14:42:09.528695Z",
     "shell.execute_reply": "2024-07-22T14:42:09.527619Z"
    },
    "papermill": {
     "duration": 0.938073,
     "end_time": "2024-07-22T14:42:09.531144",
     "exception": false,
     "start_time": "2024-07-22T14:42:08.593071",
     "status": "completed"
    },
    "tags": []
   },
   "outputs": [],
   "source": [
    "from sklearn.metrics import classification_report, confusion_matrix\n",
    "from sklearn.model_selection import train_test_split, StratifiedKFold"
   ]
  },
  {
   "cell_type": "code",
   "execution_count": 3,
   "id": "321ee476",
   "metadata": {
    "execution": {
     "iopub.execute_input": "2024-07-22T14:42:09.547498Z",
     "iopub.status.busy": "2024-07-22T14:42:09.546728Z",
     "iopub.status.idle": "2024-07-22T14:42:09.552764Z",
     "shell.execute_reply": "2024-07-22T14:42:09.551753Z"
    },
    "papermill": {
     "duration": 0.016697,
     "end_time": "2024-07-22T14:42:09.554978",
     "exception": false,
     "start_time": "2024-07-22T14:42:09.538281",
     "status": "completed"
    },
    "tags": []
   },
   "outputs": [],
   "source": [
    "RANDOM_STATE = 32\n",
    "Y_COLUMN = 'Response'"
   ]
  },
  {
   "cell_type": "code",
   "execution_count": 4,
   "id": "4f304c46",
   "metadata": {
    "execution": {
     "iopub.execute_input": "2024-07-22T14:42:09.571122Z",
     "iopub.status.busy": "2024-07-22T14:42:09.570447Z",
     "iopub.status.idle": "2024-07-22T14:42:09.577280Z",
     "shell.execute_reply": "2024-07-22T14:42:09.576260Z"
    },
    "papermill": {
     "duration": 0.017679,
     "end_time": "2024-07-22T14:42:09.579759",
     "exception": false,
     "start_time": "2024-07-22T14:42:09.562080",
     "status": "completed"
    },
    "tags": []
   },
   "outputs": [
    {
     "name": "stdout",
     "output_type": "stream",
     "text": [
      "train dataset dir: /kaggle/input/playground-series-s4e7/train.csv\n",
      "test dataset dir: /kaggle/input/playground-series-s4e7/test.csv\n"
     ]
    }
   ],
   "source": [
    "import os\n",
    "\n",
    "TRAIN_DATASET_DIR = '/kaggle/input/playground-series-s4e7/train.csv' if os.path.exists('/kaggle/input/') else 'train.csv'\n",
    "TEST_DATASET_DIR = '/kaggle/input/playground-series-s4e7/test.csv' if os.path.exists('/kaggle/input/') else 'test.csv'\n",
    "\n",
    "print(f\"train dataset dir: {TRAIN_DATASET_DIR}\")\n",
    "print(f\"test dataset dir: {TEST_DATASET_DIR}\")"
   ]
  },
  {
   "cell_type": "markdown",
   "id": "90b1974f",
   "metadata": {
    "papermill": {
     "duration": 0.006835,
     "end_time": "2024-07-22T14:42:09.593745",
     "exception": false,
     "start_time": "2024-07-22T14:42:09.586910",
     "status": "completed"
    },
    "tags": []
   },
   "source": [
    "## 1. EDA"
   ]
  },
  {
   "cell_type": "markdown",
   "id": "92299d32",
   "metadata": {
    "papermill": {
     "duration": 0.007669,
     "end_time": "2024-07-22T14:42:09.608383",
     "exception": false,
     "start_time": "2024-07-22T14:42:09.600714",
     "status": "completed"
    },
    "tags": []
   },
   "source": [
    "### 1.1 Train and Test Dataset Loading\n",
    "\n",
    "The aim of this section is to load the train and test datasets, in order to investigate missing data and general trends."
   ]
  },
  {
   "cell_type": "code",
   "execution_count": 5,
   "id": "a560838a",
   "metadata": {
    "execution": {
     "iopub.execute_input": "2024-07-22T14:42:09.624606Z",
     "iopub.status.busy": "2024-07-22T14:42:09.623798Z",
     "iopub.status.idle": "2024-07-22T14:42:09.689235Z",
     "shell.execute_reply": "2024-07-22T14:42:09.688216Z"
    },
    "papermill": {
     "duration": 0.076402,
     "end_time": "2024-07-22T14:42:09.691818",
     "exception": false,
     "start_time": "2024-07-22T14:42:09.615416",
     "status": "completed"
    },
    "tags": []
   },
   "outputs": [],
   "source": [
    "train_df = dd.read_csv(TRAIN_DATASET_DIR)"
   ]
  },
  {
   "cell_type": "code",
   "execution_count": 6,
   "id": "77ff6c8c",
   "metadata": {
    "execution": {
     "iopub.execute_input": "2024-07-22T14:42:09.708053Z",
     "iopub.status.busy": "2024-07-22T14:42:09.707365Z",
     "iopub.status.idle": "2024-07-22T14:42:19.719446Z",
     "shell.execute_reply": "2024-07-22T14:42:19.718520Z"
    },
    "papermill": {
     "duration": 10.023067,
     "end_time": "2024-07-22T14:42:19.722100",
     "exception": false,
     "start_time": "2024-07-22T14:42:09.699033",
     "status": "completed"
    },
    "tags": []
   },
   "outputs": [],
   "source": [
    "train_df = train_df.compute()"
   ]
  },
  {
   "cell_type": "code",
   "execution_count": 7,
   "id": "64178924",
   "metadata": {
    "execution": {
     "iopub.execute_input": "2024-07-22T14:42:19.738368Z",
     "iopub.status.busy": "2024-07-22T14:42:19.737677Z",
     "iopub.status.idle": "2024-07-22T14:42:19.758942Z",
     "shell.execute_reply": "2024-07-22T14:42:19.757946Z"
    },
    "papermill": {
     "duration": 0.03186,
     "end_time": "2024-07-22T14:42:19.761170",
     "exception": false,
     "start_time": "2024-07-22T14:42:19.729310",
     "status": "completed"
    },
    "tags": []
   },
   "outputs": [
    {
     "data": {
      "text/html": [
       "<div>\n",
       "<style scoped>\n",
       "    .dataframe tbody tr th:only-of-type {\n",
       "        vertical-align: middle;\n",
       "    }\n",
       "\n",
       "    .dataframe tbody tr th {\n",
       "        vertical-align: top;\n",
       "    }\n",
       "\n",
       "    .dataframe thead th {\n",
       "        text-align: right;\n",
       "    }\n",
       "</style>\n",
       "<table border=\"1\" class=\"dataframe\">\n",
       "  <thead>\n",
       "    <tr style=\"text-align: right;\">\n",
       "      <th></th>\n",
       "      <th>id</th>\n",
       "      <th>Gender</th>\n",
       "      <th>Age</th>\n",
       "      <th>Driving_License</th>\n",
       "      <th>Region_Code</th>\n",
       "      <th>Previously_Insured</th>\n",
       "      <th>Vehicle_Age</th>\n",
       "      <th>Vehicle_Damage</th>\n",
       "      <th>Annual_Premium</th>\n",
       "      <th>Policy_Sales_Channel</th>\n",
       "      <th>Vintage</th>\n",
       "      <th>Response</th>\n",
       "    </tr>\n",
       "  </thead>\n",
       "  <tbody>\n",
       "    <tr>\n",
       "      <th>0</th>\n",
       "      <td>0</td>\n",
       "      <td>Male</td>\n",
       "      <td>21</td>\n",
       "      <td>1</td>\n",
       "      <td>35.0</td>\n",
       "      <td>0</td>\n",
       "      <td>1-2 Year</td>\n",
       "      <td>Yes</td>\n",
       "      <td>65101.0</td>\n",
       "      <td>124.0</td>\n",
       "      <td>187</td>\n",
       "      <td>0</td>\n",
       "    </tr>\n",
       "    <tr>\n",
       "      <th>1</th>\n",
       "      <td>1</td>\n",
       "      <td>Male</td>\n",
       "      <td>43</td>\n",
       "      <td>1</td>\n",
       "      <td>28.0</td>\n",
       "      <td>0</td>\n",
       "      <td>&gt; 2 Years</td>\n",
       "      <td>Yes</td>\n",
       "      <td>58911.0</td>\n",
       "      <td>26.0</td>\n",
       "      <td>288</td>\n",
       "      <td>1</td>\n",
       "    </tr>\n",
       "    <tr>\n",
       "      <th>2</th>\n",
       "      <td>2</td>\n",
       "      <td>Female</td>\n",
       "      <td>25</td>\n",
       "      <td>1</td>\n",
       "      <td>14.0</td>\n",
       "      <td>1</td>\n",
       "      <td>&lt; 1 Year</td>\n",
       "      <td>No</td>\n",
       "      <td>38043.0</td>\n",
       "      <td>152.0</td>\n",
       "      <td>254</td>\n",
       "      <td>0</td>\n",
       "    </tr>\n",
       "    <tr>\n",
       "      <th>3</th>\n",
       "      <td>3</td>\n",
       "      <td>Female</td>\n",
       "      <td>35</td>\n",
       "      <td>1</td>\n",
       "      <td>1.0</td>\n",
       "      <td>0</td>\n",
       "      <td>1-2 Year</td>\n",
       "      <td>Yes</td>\n",
       "      <td>2630.0</td>\n",
       "      <td>156.0</td>\n",
       "      <td>76</td>\n",
       "      <td>0</td>\n",
       "    </tr>\n",
       "    <tr>\n",
       "      <th>4</th>\n",
       "      <td>4</td>\n",
       "      <td>Female</td>\n",
       "      <td>36</td>\n",
       "      <td>1</td>\n",
       "      <td>15.0</td>\n",
       "      <td>1</td>\n",
       "      <td>1-2 Year</td>\n",
       "      <td>No</td>\n",
       "      <td>31951.0</td>\n",
       "      <td>152.0</td>\n",
       "      <td>294</td>\n",
       "      <td>0</td>\n",
       "    </tr>\n",
       "  </tbody>\n",
       "</table>\n",
       "</div>"
      ],
      "text/plain": [
       "   id  Gender  Age  Driving_License  Region_Code  Previously_Insured  \\\n",
       "0   0    Male   21                1         35.0                   0   \n",
       "1   1    Male   43                1         28.0                   0   \n",
       "2   2  Female   25                1         14.0                   1   \n",
       "3   3  Female   35                1          1.0                   0   \n",
       "4   4  Female   36                1         15.0                   1   \n",
       "\n",
       "  Vehicle_Age Vehicle_Damage  Annual_Premium  Policy_Sales_Channel  Vintage  \\\n",
       "0    1-2 Year            Yes         65101.0                 124.0      187   \n",
       "1   > 2 Years            Yes         58911.0                  26.0      288   \n",
       "2    < 1 Year             No         38043.0                 152.0      254   \n",
       "3    1-2 Year            Yes          2630.0                 156.0       76   \n",
       "4    1-2 Year             No         31951.0                 152.0      294   \n",
       "\n",
       "   Response  \n",
       "0         0  \n",
       "1         1  \n",
       "2         0  \n",
       "3         0  \n",
       "4         0  "
      ]
     },
     "execution_count": 7,
     "metadata": {},
     "output_type": "execute_result"
    }
   ],
   "source": [
    "train_df.head()"
   ]
  },
  {
   "cell_type": "code",
   "execution_count": 8,
   "id": "30f6ac0f",
   "metadata": {
    "execution": {
     "iopub.execute_input": "2024-07-22T14:42:19.777352Z",
     "iopub.status.busy": "2024-07-22T14:42:19.776930Z",
     "iopub.status.idle": "2024-07-22T14:42:21.788448Z",
     "shell.execute_reply": "2024-07-22T14:42:21.787293Z"
    },
    "papermill": {
     "duration": 2.022282,
     "end_time": "2024-07-22T14:42:21.790793",
     "exception": false,
     "start_time": "2024-07-22T14:42:19.768511",
     "status": "completed"
    },
    "tags": []
   },
   "outputs": [
    {
     "data": {
      "text/html": [
       "<div>\n",
       "<style scoped>\n",
       "    .dataframe tbody tr th:only-of-type {\n",
       "        vertical-align: middle;\n",
       "    }\n",
       "\n",
       "    .dataframe tbody tr th {\n",
       "        vertical-align: top;\n",
       "    }\n",
       "\n",
       "    .dataframe thead th {\n",
       "        text-align: right;\n",
       "    }\n",
       "</style>\n",
       "<table border=\"1\" class=\"dataframe\">\n",
       "  <thead>\n",
       "    <tr style=\"text-align: right;\">\n",
       "      <th></th>\n",
       "      <th>id</th>\n",
       "      <th>Gender</th>\n",
       "      <th>Age</th>\n",
       "      <th>Driving_License</th>\n",
       "      <th>Region_Code</th>\n",
       "      <th>Previously_Insured</th>\n",
       "      <th>Vehicle_Age</th>\n",
       "      <th>Vehicle_Damage</th>\n",
       "      <th>Annual_Premium</th>\n",
       "      <th>Policy_Sales_Channel</th>\n",
       "      <th>Vintage</th>\n",
       "    </tr>\n",
       "  </thead>\n",
       "  <tbody>\n",
       "    <tr>\n",
       "      <th>0</th>\n",
       "      <td>11504798</td>\n",
       "      <td>Female</td>\n",
       "      <td>20</td>\n",
       "      <td>1</td>\n",
       "      <td>47.0</td>\n",
       "      <td>0</td>\n",
       "      <td>&lt; 1 Year</td>\n",
       "      <td>No</td>\n",
       "      <td>2630.0</td>\n",
       "      <td>160.0</td>\n",
       "      <td>228</td>\n",
       "    </tr>\n",
       "    <tr>\n",
       "      <th>1</th>\n",
       "      <td>11504799</td>\n",
       "      <td>Male</td>\n",
       "      <td>47</td>\n",
       "      <td>1</td>\n",
       "      <td>28.0</td>\n",
       "      <td>0</td>\n",
       "      <td>1-2 Year</td>\n",
       "      <td>Yes</td>\n",
       "      <td>37483.0</td>\n",
       "      <td>124.0</td>\n",
       "      <td>123</td>\n",
       "    </tr>\n",
       "    <tr>\n",
       "      <th>2</th>\n",
       "      <td>11504800</td>\n",
       "      <td>Male</td>\n",
       "      <td>47</td>\n",
       "      <td>1</td>\n",
       "      <td>43.0</td>\n",
       "      <td>0</td>\n",
       "      <td>1-2 Year</td>\n",
       "      <td>Yes</td>\n",
       "      <td>2630.0</td>\n",
       "      <td>26.0</td>\n",
       "      <td>271</td>\n",
       "    </tr>\n",
       "    <tr>\n",
       "      <th>3</th>\n",
       "      <td>11504801</td>\n",
       "      <td>Female</td>\n",
       "      <td>22</td>\n",
       "      <td>1</td>\n",
       "      <td>47.0</td>\n",
       "      <td>1</td>\n",
       "      <td>&lt; 1 Year</td>\n",
       "      <td>No</td>\n",
       "      <td>24502.0</td>\n",
       "      <td>152.0</td>\n",
       "      <td>115</td>\n",
       "    </tr>\n",
       "    <tr>\n",
       "      <th>4</th>\n",
       "      <td>11504802</td>\n",
       "      <td>Male</td>\n",
       "      <td>51</td>\n",
       "      <td>1</td>\n",
       "      <td>19.0</td>\n",
       "      <td>0</td>\n",
       "      <td>1-2 Year</td>\n",
       "      <td>No</td>\n",
       "      <td>34115.0</td>\n",
       "      <td>124.0</td>\n",
       "      <td>148</td>\n",
       "    </tr>\n",
       "  </tbody>\n",
       "</table>\n",
       "</div>"
      ],
      "text/plain": [
       "         id  Gender  Age  Driving_License  Region_Code  Previously_Insured  \\\n",
       "0  11504798  Female   20                1         47.0                   0   \n",
       "1  11504799    Male   47                1         28.0                   0   \n",
       "2  11504800    Male   47                1         43.0                   0   \n",
       "3  11504801  Female   22                1         47.0                   1   \n",
       "4  11504802    Male   51                1         19.0                   0   \n",
       "\n",
       "  Vehicle_Age Vehicle_Damage  Annual_Premium  Policy_Sales_Channel  Vintage  \n",
       "0    < 1 Year             No          2630.0                 160.0      228  \n",
       "1    1-2 Year            Yes         37483.0                 124.0      123  \n",
       "2    1-2 Year            Yes          2630.0                  26.0      271  \n",
       "3    < 1 Year             No         24502.0                 152.0      115  \n",
       "4    1-2 Year             No         34115.0                 124.0      148  "
      ]
     },
     "execution_count": 8,
     "metadata": {},
     "output_type": "execute_result"
    }
   ],
   "source": [
    "test_df = dd.read_csv(TEST_DATASET_DIR)\n",
    "test_df.head()"
   ]
  },
  {
   "cell_type": "markdown",
   "id": "810d0fa0",
   "metadata": {
    "papermill": {
     "duration": 0.007384,
     "end_time": "2024-07-22T14:42:21.806010",
     "exception": false,
     "start_time": "2024-07-22T14:42:21.798626",
     "status": "completed"
    },
    "tags": []
   },
   "source": [
    "Train Data Null and Dtype checks"
   ]
  },
  {
   "cell_type": "code",
   "execution_count": 9,
   "id": "51ceb92c",
   "metadata": {
    "execution": {
     "iopub.execute_input": "2024-07-22T14:42:21.823543Z",
     "iopub.status.busy": "2024-07-22T14:42:21.822720Z",
     "iopub.status.idle": "2024-07-22T14:42:23.517312Z",
     "shell.execute_reply": "2024-07-22T14:42:23.516018Z"
    },
    "papermill": {
     "duration": 1.706148,
     "end_time": "2024-07-22T14:42:23.519790",
     "exception": false,
     "start_time": "2024-07-22T14:42:21.813642",
     "status": "completed"
    },
    "tags": []
   },
   "outputs": [
    {
     "data": {
      "text/plain": [
       "id                      0\n",
       "Gender                  0\n",
       "Age                     0\n",
       "Driving_License         0\n",
       "Region_Code             0\n",
       "Previously_Insured      0\n",
       "Vehicle_Age             0\n",
       "Vehicle_Damage          0\n",
       "Annual_Premium          0\n",
       "Policy_Sales_Channel    0\n",
       "Vintage                 0\n",
       "Response                0\n",
       "dtype: int64"
      ]
     },
     "execution_count": 9,
     "metadata": {},
     "output_type": "execute_result"
    }
   ],
   "source": [
    "train_df.isna().sum()"
   ]
  },
  {
   "cell_type": "code",
   "execution_count": 10,
   "id": "bdad9404",
   "metadata": {
    "execution": {
     "iopub.execute_input": "2024-07-22T14:42:23.542349Z",
     "iopub.status.busy": "2024-07-22T14:42:23.541910Z",
     "iopub.status.idle": "2024-07-22T14:42:23.549975Z",
     "shell.execute_reply": "2024-07-22T14:42:23.548975Z"
    },
    "papermill": {
     "duration": 0.020252,
     "end_time": "2024-07-22T14:42:23.552082",
     "exception": false,
     "start_time": "2024-07-22T14:42:23.531830",
     "status": "completed"
    },
    "tags": []
   },
   "outputs": [
    {
     "data": {
      "text/plain": [
       "id                        int64\n",
       "Gender                   object\n",
       "Age                       int64\n",
       "Driving_License           int64\n",
       "Region_Code             float64\n",
       "Previously_Insured        int64\n",
       "Vehicle_Age              object\n",
       "Vehicle_Damage           object\n",
       "Annual_Premium          float64\n",
       "Policy_Sales_Channel    float64\n",
       "Vintage                   int64\n",
       "Response                  int64\n",
       "dtype: object"
      ]
     },
     "execution_count": 10,
     "metadata": {},
     "output_type": "execute_result"
    }
   ],
   "source": [
    "train_df.dtypes"
   ]
  },
  {
   "cell_type": "markdown",
   "id": "468b9a36",
   "metadata": {
    "papermill": {
     "duration": 0.007601,
     "end_time": "2024-07-22T14:42:23.567597",
     "exception": false,
     "start_time": "2024-07-22T14:42:23.559996",
     "status": "completed"
    },
    "tags": []
   },
   "source": [
    "Test Data Null and Dtype checks"
   ]
  },
  {
   "cell_type": "code",
   "execution_count": 11,
   "id": "727b69eb",
   "metadata": {
    "execution": {
     "iopub.execute_input": "2024-07-22T14:42:23.585071Z",
     "iopub.status.busy": "2024-07-22T14:42:23.584655Z",
     "iopub.status.idle": "2024-07-22T14:42:30.130500Z",
     "shell.execute_reply": "2024-07-22T14:42:30.129353Z"
    },
    "papermill": {
     "duration": 6.557485,
     "end_time": "2024-07-22T14:42:30.132882",
     "exception": false,
     "start_time": "2024-07-22T14:42:23.575397",
     "status": "completed"
    },
    "tags": []
   },
   "outputs": [
    {
     "data": {
      "text/plain": [
       "id                      0\n",
       "Gender                  0\n",
       "Age                     0\n",
       "Driving_License         0\n",
       "Region_Code             0\n",
       "Previously_Insured      0\n",
       "Vehicle_Age             0\n",
       "Vehicle_Damage          0\n",
       "Annual_Premium          0\n",
       "Policy_Sales_Channel    0\n",
       "Vintage                 0\n",
       "dtype: int64"
      ]
     },
     "execution_count": 11,
     "metadata": {},
     "output_type": "execute_result"
    }
   ],
   "source": [
    "test_df.isna().sum().compute()"
   ]
  },
  {
   "cell_type": "markdown",
   "id": "7aff36fd",
   "metadata": {
    "papermill": {
     "duration": 0.007703,
     "end_time": "2024-07-22T14:42:30.148780",
     "exception": false,
     "start_time": "2024-07-22T14:42:30.141077",
     "status": "completed"
    },
    "tags": []
   },
   "source": [
    "There doesn't seem to be any missing or unusual data so we can proceed with the EDA of the training Dataset."
   ]
  },
  {
   "cell_type": "markdown",
   "id": "e5419cb1",
   "metadata": {
    "papermill": {
     "duration": 0.007735,
     "end_time": "2024-07-22T14:42:30.164475",
     "exception": false,
     "start_time": "2024-07-22T14:42:30.156740",
     "status": "completed"
    },
    "tags": []
   },
   "source": [
    "### 1.2 Train Dataset Feature Engineering\n",
    "\n",
    "The first step is to analyse the current dataset to determine if features can be engineered. For starters, I'm going to investigate the object columns to determine whether they can be encoded."
   ]
  },
  {
   "cell_type": "code",
   "execution_count": 12,
   "id": "b7573068",
   "metadata": {
    "execution": {
     "iopub.execute_input": "2024-07-22T14:42:30.182255Z",
     "iopub.status.busy": "2024-07-22T14:42:30.181846Z",
     "iopub.status.idle": "2024-07-22T14:42:30.198424Z",
     "shell.execute_reply": "2024-07-22T14:42:30.197281Z"
    },
    "papermill": {
     "duration": 0.028372,
     "end_time": "2024-07-22T14:42:30.200862",
     "exception": false,
     "start_time": "2024-07-22T14:42:30.172490",
     "status": "completed"
    },
    "tags": []
   },
   "outputs": [
    {
     "data": {
      "text/html": [
       "<div>\n",
       "<style scoped>\n",
       "    .dataframe tbody tr th:only-of-type {\n",
       "        vertical-align: middle;\n",
       "    }\n",
       "\n",
       "    .dataframe tbody tr th {\n",
       "        vertical-align: top;\n",
       "    }\n",
       "\n",
       "    .dataframe thead th {\n",
       "        text-align: right;\n",
       "    }\n",
       "</style>\n",
       "<table border=\"1\" class=\"dataframe\">\n",
       "  <thead>\n",
       "    <tr style=\"text-align: right;\">\n",
       "      <th></th>\n",
       "      <th>id</th>\n",
       "      <th>Gender</th>\n",
       "      <th>Age</th>\n",
       "      <th>Driving_License</th>\n",
       "      <th>Region_Code</th>\n",
       "      <th>Previously_Insured</th>\n",
       "      <th>Vehicle_Age</th>\n",
       "      <th>Vehicle_Damage</th>\n",
       "      <th>Annual_Premium</th>\n",
       "      <th>Policy_Sales_Channel</th>\n",
       "      <th>Vintage</th>\n",
       "      <th>Response</th>\n",
       "    </tr>\n",
       "  </thead>\n",
       "  <tbody>\n",
       "    <tr>\n",
       "      <th>0</th>\n",
       "      <td>0</td>\n",
       "      <td>Male</td>\n",
       "      <td>21</td>\n",
       "      <td>1</td>\n",
       "      <td>35.0</td>\n",
       "      <td>0</td>\n",
       "      <td>1-2 Year</td>\n",
       "      <td>Yes</td>\n",
       "      <td>65101.0</td>\n",
       "      <td>124.0</td>\n",
       "      <td>187</td>\n",
       "      <td>0</td>\n",
       "    </tr>\n",
       "    <tr>\n",
       "      <th>1</th>\n",
       "      <td>1</td>\n",
       "      <td>Male</td>\n",
       "      <td>43</td>\n",
       "      <td>1</td>\n",
       "      <td>28.0</td>\n",
       "      <td>0</td>\n",
       "      <td>&gt; 2 Years</td>\n",
       "      <td>Yes</td>\n",
       "      <td>58911.0</td>\n",
       "      <td>26.0</td>\n",
       "      <td>288</td>\n",
       "      <td>1</td>\n",
       "    </tr>\n",
       "    <tr>\n",
       "      <th>2</th>\n",
       "      <td>2</td>\n",
       "      <td>Female</td>\n",
       "      <td>25</td>\n",
       "      <td>1</td>\n",
       "      <td>14.0</td>\n",
       "      <td>1</td>\n",
       "      <td>&lt; 1 Year</td>\n",
       "      <td>No</td>\n",
       "      <td>38043.0</td>\n",
       "      <td>152.0</td>\n",
       "      <td>254</td>\n",
       "      <td>0</td>\n",
       "    </tr>\n",
       "    <tr>\n",
       "      <th>3</th>\n",
       "      <td>3</td>\n",
       "      <td>Female</td>\n",
       "      <td>35</td>\n",
       "      <td>1</td>\n",
       "      <td>1.0</td>\n",
       "      <td>0</td>\n",
       "      <td>1-2 Year</td>\n",
       "      <td>Yes</td>\n",
       "      <td>2630.0</td>\n",
       "      <td>156.0</td>\n",
       "      <td>76</td>\n",
       "      <td>0</td>\n",
       "    </tr>\n",
       "    <tr>\n",
       "      <th>4</th>\n",
       "      <td>4</td>\n",
       "      <td>Female</td>\n",
       "      <td>36</td>\n",
       "      <td>1</td>\n",
       "      <td>15.0</td>\n",
       "      <td>1</td>\n",
       "      <td>1-2 Year</td>\n",
       "      <td>No</td>\n",
       "      <td>31951.0</td>\n",
       "      <td>152.0</td>\n",
       "      <td>294</td>\n",
       "      <td>0</td>\n",
       "    </tr>\n",
       "  </tbody>\n",
       "</table>\n",
       "</div>"
      ],
      "text/plain": [
       "   id  Gender  Age  Driving_License  Region_Code  Previously_Insured  \\\n",
       "0   0    Male   21                1         35.0                   0   \n",
       "1   1    Male   43                1         28.0                   0   \n",
       "2   2  Female   25                1         14.0                   1   \n",
       "3   3  Female   35                1          1.0                   0   \n",
       "4   4  Female   36                1         15.0                   1   \n",
       "\n",
       "  Vehicle_Age Vehicle_Damage  Annual_Premium  Policy_Sales_Channel  Vintage  \\\n",
       "0    1-2 Year            Yes         65101.0                 124.0      187   \n",
       "1   > 2 Years            Yes         58911.0                  26.0      288   \n",
       "2    < 1 Year             No         38043.0                 152.0      254   \n",
       "3    1-2 Year            Yes          2630.0                 156.0       76   \n",
       "4    1-2 Year             No         31951.0                 152.0      294   \n",
       "\n",
       "   Response  \n",
       "0         0  \n",
       "1         1  \n",
       "2         0  \n",
       "3         0  \n",
       "4         0  "
      ]
     },
     "execution_count": 12,
     "metadata": {},
     "output_type": "execute_result"
    }
   ],
   "source": [
    "train_df.head()"
   ]
  },
  {
   "cell_type": "code",
   "execution_count": 13,
   "id": "1a16691a",
   "metadata": {
    "execution": {
     "iopub.execute_input": "2024-07-22T14:42:30.220079Z",
     "iopub.status.busy": "2024-07-22T14:42:30.219224Z",
     "iopub.status.idle": "2024-07-22T14:42:31.077885Z",
     "shell.execute_reply": "2024-07-22T14:42:31.076784Z"
    },
    "papermill": {
     "duration": 0.870847,
     "end_time": "2024-07-22T14:42:31.080151",
     "exception": false,
     "start_time": "2024-07-22T14:42:30.209304",
     "status": "completed"
    },
    "tags": []
   },
   "outputs": [
    {
     "data": {
      "text/plain": [
       "Gender\n",
       "Male      6228134\n",
       "Female    5276664\n",
       "Name: count, dtype: int64"
      ]
     },
     "execution_count": 13,
     "metadata": {},
     "output_type": "execute_result"
    }
   ],
   "source": [
    "train_df['Gender'].value_counts()"
   ]
  },
  {
   "cell_type": "markdown",
   "id": "63a94f61",
   "metadata": {
    "papermill": {
     "duration": 0.008093,
     "end_time": "2024-07-22T14:42:31.096592",
     "exception": false,
     "start_time": "2024-07-22T14:42:31.088499",
     "status": "completed"
    },
    "tags": []
   },
   "source": [
    "There are only two values so these can be binary encoded."
   ]
  },
  {
   "cell_type": "code",
   "execution_count": 14,
   "id": "182fd00c",
   "metadata": {
    "execution": {
     "iopub.execute_input": "2024-07-22T14:42:31.115090Z",
     "iopub.status.busy": "2024-07-22T14:42:31.114116Z",
     "iopub.status.idle": "2024-07-22T14:42:31.968334Z",
     "shell.execute_reply": "2024-07-22T14:42:31.967303Z"
    },
    "papermill": {
     "duration": 0.865854,
     "end_time": "2024-07-22T14:42:31.970692",
     "exception": false,
     "start_time": "2024-07-22T14:42:31.104838",
     "status": "completed"
    },
    "tags": []
   },
   "outputs": [
    {
     "data": {
      "text/plain": [
       "Vehicle_Age\n",
       "1-2 Year     5982678\n",
       "< 1 Year     5044145\n",
       "> 2 Years     477975\n",
       "Name: count, dtype: int64"
      ]
     },
     "execution_count": 14,
     "metadata": {},
     "output_type": "execute_result"
    }
   ],
   "source": [
    "train_df['Vehicle_Age'].value_counts()"
   ]
  },
  {
   "cell_type": "markdown",
   "id": "fb543704",
   "metadata": {
    "papermill": {
     "duration": 0.008161,
     "end_time": "2024-07-22T14:42:31.987347",
     "exception": false,
     "start_time": "2024-07-22T14:42:31.979186",
     "status": "completed"
    },
    "tags": []
   },
   "source": [
    "There are only three unique values for Vehicle Age, so these can also be encoded."
   ]
  },
  {
   "cell_type": "code",
   "execution_count": 15,
   "id": "fca4a098",
   "metadata": {
    "execution": {
     "iopub.execute_input": "2024-07-22T14:42:32.005882Z",
     "iopub.status.busy": "2024-07-22T14:42:32.005147Z",
     "iopub.status.idle": "2024-07-22T14:42:32.842791Z",
     "shell.execute_reply": "2024-07-22T14:42:32.841765Z"
    },
    "papermill": {
     "duration": 0.849384,
     "end_time": "2024-07-22T14:42:32.844978",
     "exception": false,
     "start_time": "2024-07-22T14:42:31.995594",
     "status": "completed"
    },
    "tags": []
   },
   "outputs": [
    {
     "data": {
      "text/plain": [
       "Vehicle_Damage\n",
       "Yes    5783229\n",
       "No     5721569\n",
       "Name: count, dtype: int64"
      ]
     },
     "execution_count": 15,
     "metadata": {},
     "output_type": "execute_result"
    }
   ],
   "source": [
    "train_df['Vehicle_Damage'].value_counts()"
   ]
  },
  {
   "cell_type": "markdown",
   "id": "0168bf40",
   "metadata": {
    "papermill": {
     "duration": 0.008313,
     "end_time": "2024-07-22T14:42:32.862019",
     "exception": false,
     "start_time": "2024-07-22T14:42:32.853706",
     "status": "completed"
    },
    "tags": []
   },
   "source": [
    "Finally Vehicle Damage can also be binary encoded."
   ]
  },
  {
   "cell_type": "markdown",
   "id": "d0d5ec38",
   "metadata": {
    "papermill": {
     "duration": 0.008272,
     "end_time": "2024-07-22T14:42:32.878743",
     "exception": false,
     "start_time": "2024-07-22T14:42:32.870471",
     "status": "completed"
    },
    "tags": []
   },
   "source": [
    "So to summarize, all of the object columns can be encoded. Vehicle Damage and Gender will be Binary Encoded, and Vehicle Age will be one hot encoded."
   ]
  },
  {
   "cell_type": "code",
   "execution_count": 16,
   "id": "27093db8",
   "metadata": {
    "execution": {
     "iopub.execute_input": "2024-07-22T14:42:32.897908Z",
     "iopub.status.busy": "2024-07-22T14:42:32.897530Z",
     "iopub.status.idle": "2024-07-22T14:42:32.902185Z",
     "shell.execute_reply": "2024-07-22T14:42:32.901092Z"
    },
    "papermill": {
     "duration": 0.016504,
     "end_time": "2024-07-22T14:42:32.904307",
     "exception": false,
     "start_time": "2024-07-22T14:42:32.887803",
     "status": "completed"
    },
    "tags": []
   },
   "outputs": [],
   "source": [
    "BINARY_COLUMNS = ['Gender', 'Vehicle_Damage']\n",
    "ONE_HOT_COLUMNS = ['Vehicle_Age']"
   ]
  },
  {
   "cell_type": "code",
   "execution_count": 17,
   "id": "821e8ace",
   "metadata": {
    "execution": {
     "iopub.execute_input": "2024-07-22T14:42:32.922965Z",
     "iopub.status.busy": "2024-07-22T14:42:32.922572Z",
     "iopub.status.idle": "2024-07-22T14:42:32.936145Z",
     "shell.execute_reply": "2024-07-22T14:42:32.935259Z"
    },
    "papermill": {
     "duration": 0.025748,
     "end_time": "2024-07-22T14:42:32.938489",
     "exception": false,
     "start_time": "2024-07-22T14:42:32.912741",
     "status": "completed"
    },
    "tags": []
   },
   "outputs": [],
   "source": [
    "from sklearn.preprocessing import OneHotEncoder, LabelBinarizer\n",
    "from sklearn.pipeline import Pipeline\n",
    "from sklearn.compose import ColumnTransformer\n",
    "\n",
    "label_binarizer = LabelBinarizer()"
   ]
  },
  {
   "cell_type": "code",
   "execution_count": 18,
   "id": "121e9fac",
   "metadata": {
    "execution": {
     "iopub.execute_input": "2024-07-22T14:42:32.957085Z",
     "iopub.status.busy": "2024-07-22T14:42:32.956707Z",
     "iopub.status.idle": "2024-07-22T14:44:42.179302Z",
     "shell.execute_reply": "2024-07-22T14:44:42.178019Z"
    },
    "papermill": {
     "duration": 129.235035,
     "end_time": "2024-07-22T14:44:42.182010",
     "exception": false,
     "start_time": "2024-07-22T14:42:32.946975",
     "status": "completed"
    },
    "tags": []
   },
   "outputs": [],
   "source": [
    "train_df['Gender'] = label_binarizer.fit_transform(train_df['Gender'])\n",
    "train_df['Vehicle_Damage'] = label_binarizer.fit_transform(train_df['Vehicle_Damage'])"
   ]
  },
  {
   "cell_type": "code",
   "execution_count": 19,
   "id": "d351d176",
   "metadata": {
    "execution": {
     "iopub.execute_input": "2024-07-22T14:44:42.201631Z",
     "iopub.status.busy": "2024-07-22T14:44:42.201224Z",
     "iopub.status.idle": "2024-07-22T14:44:42.217821Z",
     "shell.execute_reply": "2024-07-22T14:44:42.216691Z"
    },
    "papermill": {
     "duration": 0.028999,
     "end_time": "2024-07-22T14:44:42.220021",
     "exception": false,
     "start_time": "2024-07-22T14:44:42.191022",
     "status": "completed"
    },
    "tags": []
   },
   "outputs": [
    {
     "data": {
      "text/html": [
       "<div>\n",
       "<style scoped>\n",
       "    .dataframe tbody tr th:only-of-type {\n",
       "        vertical-align: middle;\n",
       "    }\n",
       "\n",
       "    .dataframe tbody tr th {\n",
       "        vertical-align: top;\n",
       "    }\n",
       "\n",
       "    .dataframe thead th {\n",
       "        text-align: right;\n",
       "    }\n",
       "</style>\n",
       "<table border=\"1\" class=\"dataframe\">\n",
       "  <thead>\n",
       "    <tr style=\"text-align: right;\">\n",
       "      <th></th>\n",
       "      <th>id</th>\n",
       "      <th>Gender</th>\n",
       "      <th>Age</th>\n",
       "      <th>Driving_License</th>\n",
       "      <th>Region_Code</th>\n",
       "      <th>Previously_Insured</th>\n",
       "      <th>Vehicle_Age</th>\n",
       "      <th>Vehicle_Damage</th>\n",
       "      <th>Annual_Premium</th>\n",
       "      <th>Policy_Sales_Channel</th>\n",
       "      <th>Vintage</th>\n",
       "      <th>Response</th>\n",
       "    </tr>\n",
       "  </thead>\n",
       "  <tbody>\n",
       "    <tr>\n",
       "      <th>0</th>\n",
       "      <td>0</td>\n",
       "      <td>1</td>\n",
       "      <td>21</td>\n",
       "      <td>1</td>\n",
       "      <td>35.0</td>\n",
       "      <td>0</td>\n",
       "      <td>1-2 Year</td>\n",
       "      <td>1</td>\n",
       "      <td>65101.0</td>\n",
       "      <td>124.0</td>\n",
       "      <td>187</td>\n",
       "      <td>0</td>\n",
       "    </tr>\n",
       "    <tr>\n",
       "      <th>1</th>\n",
       "      <td>1</td>\n",
       "      <td>1</td>\n",
       "      <td>43</td>\n",
       "      <td>1</td>\n",
       "      <td>28.0</td>\n",
       "      <td>0</td>\n",
       "      <td>&gt; 2 Years</td>\n",
       "      <td>1</td>\n",
       "      <td>58911.0</td>\n",
       "      <td>26.0</td>\n",
       "      <td>288</td>\n",
       "      <td>1</td>\n",
       "    </tr>\n",
       "    <tr>\n",
       "      <th>2</th>\n",
       "      <td>2</td>\n",
       "      <td>0</td>\n",
       "      <td>25</td>\n",
       "      <td>1</td>\n",
       "      <td>14.0</td>\n",
       "      <td>1</td>\n",
       "      <td>&lt; 1 Year</td>\n",
       "      <td>0</td>\n",
       "      <td>38043.0</td>\n",
       "      <td>152.0</td>\n",
       "      <td>254</td>\n",
       "      <td>0</td>\n",
       "    </tr>\n",
       "    <tr>\n",
       "      <th>3</th>\n",
       "      <td>3</td>\n",
       "      <td>0</td>\n",
       "      <td>35</td>\n",
       "      <td>1</td>\n",
       "      <td>1.0</td>\n",
       "      <td>0</td>\n",
       "      <td>1-2 Year</td>\n",
       "      <td>1</td>\n",
       "      <td>2630.0</td>\n",
       "      <td>156.0</td>\n",
       "      <td>76</td>\n",
       "      <td>0</td>\n",
       "    </tr>\n",
       "    <tr>\n",
       "      <th>4</th>\n",
       "      <td>4</td>\n",
       "      <td>0</td>\n",
       "      <td>36</td>\n",
       "      <td>1</td>\n",
       "      <td>15.0</td>\n",
       "      <td>1</td>\n",
       "      <td>1-2 Year</td>\n",
       "      <td>0</td>\n",
       "      <td>31951.0</td>\n",
       "      <td>152.0</td>\n",
       "      <td>294</td>\n",
       "      <td>0</td>\n",
       "    </tr>\n",
       "  </tbody>\n",
       "</table>\n",
       "</div>"
      ],
      "text/plain": [
       "   id  Gender  Age  Driving_License  Region_Code  Previously_Insured  \\\n",
       "0   0       1   21                1         35.0                   0   \n",
       "1   1       1   43                1         28.0                   0   \n",
       "2   2       0   25                1         14.0                   1   \n",
       "3   3       0   35                1          1.0                   0   \n",
       "4   4       0   36                1         15.0                   1   \n",
       "\n",
       "  Vehicle_Age  Vehicle_Damage  Annual_Premium  Policy_Sales_Channel  Vintage  \\\n",
       "0    1-2 Year               1         65101.0                 124.0      187   \n",
       "1   > 2 Years               1         58911.0                  26.0      288   \n",
       "2    < 1 Year               0         38043.0                 152.0      254   \n",
       "3    1-2 Year               1          2630.0                 156.0       76   \n",
       "4    1-2 Year               0         31951.0                 152.0      294   \n",
       "\n",
       "   Response  \n",
       "0         0  \n",
       "1         1  \n",
       "2         0  \n",
       "3         0  \n",
       "4         0  "
      ]
     },
     "execution_count": 19,
     "metadata": {},
     "output_type": "execute_result"
    }
   ],
   "source": [
    "train_df.head()"
   ]
  },
  {
   "cell_type": "code",
   "execution_count": 20,
   "id": "37d6da94",
   "metadata": {
    "execution": {
     "iopub.execute_input": "2024-07-22T14:44:42.239985Z",
     "iopub.status.busy": "2024-07-22T14:44:42.239508Z",
     "iopub.status.idle": "2024-07-22T14:44:43.911107Z",
     "shell.execute_reply": "2024-07-22T14:44:43.909893Z"
    },
    "papermill": {
     "duration": 1.684904,
     "end_time": "2024-07-22T14:44:43.913746",
     "exception": false,
     "start_time": "2024-07-22T14:44:42.228842",
     "status": "completed"
    },
    "tags": []
   },
   "outputs": [],
   "source": [
    "vehicle_age_one_hot = pd.get_dummies(train_df['Vehicle_Age'])\n",
    "train_df.drop('Vehicle_Age', axis=1, inplace=True)"
   ]
  },
  {
   "cell_type": "code",
   "execution_count": 21,
   "id": "d18dfe17",
   "metadata": {
    "execution": {
     "iopub.execute_input": "2024-07-22T14:44:43.933862Z",
     "iopub.status.busy": "2024-07-22T14:44:43.932831Z",
     "iopub.status.idle": "2024-07-22T14:44:45.392943Z",
     "shell.execute_reply": "2024-07-22T14:44:45.391331Z"
    },
    "papermill": {
     "duration": 1.472673,
     "end_time": "2024-07-22T14:44:45.395308",
     "exception": false,
     "start_time": "2024-07-22T14:44:43.922635",
     "status": "completed"
    },
    "tags": []
   },
   "outputs": [
    {
     "data": {
      "text/html": [
       "<div>\n",
       "<style scoped>\n",
       "    .dataframe tbody tr th:only-of-type {\n",
       "        vertical-align: middle;\n",
       "    }\n",
       "\n",
       "    .dataframe tbody tr th {\n",
       "        vertical-align: top;\n",
       "    }\n",
       "\n",
       "    .dataframe thead th {\n",
       "        text-align: right;\n",
       "    }\n",
       "</style>\n",
       "<table border=\"1\" class=\"dataframe\">\n",
       "  <thead>\n",
       "    <tr style=\"text-align: right;\">\n",
       "      <th></th>\n",
       "      <th>0</th>\n",
       "      <th>1</th>\n",
       "      <th>2</th>\n",
       "      <th>3</th>\n",
       "      <th>4</th>\n",
       "      <th>5</th>\n",
       "      <th>6</th>\n",
       "      <th>7</th>\n",
       "      <th>8</th>\n",
       "      <th>9</th>\n",
       "      <th>10</th>\n",
       "      <th>11</th>\n",
       "      <th>12</th>\n",
       "      <th>13</th>\n",
       "    </tr>\n",
       "  </thead>\n",
       "  <tbody>\n",
       "    <tr>\n",
       "      <th>0</th>\n",
       "      <td>0</td>\n",
       "      <td>1</td>\n",
       "      <td>21</td>\n",
       "      <td>1</td>\n",
       "      <td>35.0</td>\n",
       "      <td>0</td>\n",
       "      <td>1</td>\n",
       "      <td>65101.0</td>\n",
       "      <td>124.0</td>\n",
       "      <td>187</td>\n",
       "      <td>0</td>\n",
       "      <td>True</td>\n",
       "      <td>False</td>\n",
       "      <td>False</td>\n",
       "    </tr>\n",
       "    <tr>\n",
       "      <th>1</th>\n",
       "      <td>1</td>\n",
       "      <td>1</td>\n",
       "      <td>43</td>\n",
       "      <td>1</td>\n",
       "      <td>28.0</td>\n",
       "      <td>0</td>\n",
       "      <td>1</td>\n",
       "      <td>58911.0</td>\n",
       "      <td>26.0</td>\n",
       "      <td>288</td>\n",
       "      <td>1</td>\n",
       "      <td>False</td>\n",
       "      <td>False</td>\n",
       "      <td>True</td>\n",
       "    </tr>\n",
       "    <tr>\n",
       "      <th>2</th>\n",
       "      <td>2</td>\n",
       "      <td>0</td>\n",
       "      <td>25</td>\n",
       "      <td>1</td>\n",
       "      <td>14.0</td>\n",
       "      <td>1</td>\n",
       "      <td>0</td>\n",
       "      <td>38043.0</td>\n",
       "      <td>152.0</td>\n",
       "      <td>254</td>\n",
       "      <td>0</td>\n",
       "      <td>False</td>\n",
       "      <td>True</td>\n",
       "      <td>False</td>\n",
       "    </tr>\n",
       "    <tr>\n",
       "      <th>3</th>\n",
       "      <td>3</td>\n",
       "      <td>0</td>\n",
       "      <td>35</td>\n",
       "      <td>1</td>\n",
       "      <td>1.0</td>\n",
       "      <td>0</td>\n",
       "      <td>1</td>\n",
       "      <td>2630.0</td>\n",
       "      <td>156.0</td>\n",
       "      <td>76</td>\n",
       "      <td>0</td>\n",
       "      <td>True</td>\n",
       "      <td>False</td>\n",
       "      <td>False</td>\n",
       "    </tr>\n",
       "    <tr>\n",
       "      <th>4</th>\n",
       "      <td>4</td>\n",
       "      <td>0</td>\n",
       "      <td>36</td>\n",
       "      <td>1</td>\n",
       "      <td>15.0</td>\n",
       "      <td>1</td>\n",
       "      <td>0</td>\n",
       "      <td>31951.0</td>\n",
       "      <td>152.0</td>\n",
       "      <td>294</td>\n",
       "      <td>0</td>\n",
       "      <td>True</td>\n",
       "      <td>False</td>\n",
       "      <td>False</td>\n",
       "    </tr>\n",
       "    <tr>\n",
       "      <th>...</th>\n",
       "      <td>...</td>\n",
       "      <td>...</td>\n",
       "      <td>...</td>\n",
       "      <td>...</td>\n",
       "      <td>...</td>\n",
       "      <td>...</td>\n",
       "      <td>...</td>\n",
       "      <td>...</td>\n",
       "      <td>...</td>\n",
       "      <td>...</td>\n",
       "      <td>...</td>\n",
       "      <td>...</td>\n",
       "      <td>...</td>\n",
       "      <td>...</td>\n",
       "    </tr>\n",
       "    <tr>\n",
       "      <th>1131515</th>\n",
       "      <td>11504793</td>\n",
       "      <td>1</td>\n",
       "      <td>48</td>\n",
       "      <td>1</td>\n",
       "      <td>6.0</td>\n",
       "      <td>0</td>\n",
       "      <td>1</td>\n",
       "      <td>27412.0</td>\n",
       "      <td>26.0</td>\n",
       "      <td>218</td>\n",
       "      <td>0</td>\n",
       "      <td>True</td>\n",
       "      <td>False</td>\n",
       "      <td>False</td>\n",
       "    </tr>\n",
       "    <tr>\n",
       "      <th>1131516</th>\n",
       "      <td>11504794</td>\n",
       "      <td>0</td>\n",
       "      <td>26</td>\n",
       "      <td>1</td>\n",
       "      <td>36.0</td>\n",
       "      <td>0</td>\n",
       "      <td>1</td>\n",
       "      <td>29509.0</td>\n",
       "      <td>152.0</td>\n",
       "      <td>115</td>\n",
       "      <td>1</td>\n",
       "      <td>False</td>\n",
       "      <td>True</td>\n",
       "      <td>False</td>\n",
       "    </tr>\n",
       "    <tr>\n",
       "      <th>1131517</th>\n",
       "      <td>11504795</td>\n",
       "      <td>0</td>\n",
       "      <td>29</td>\n",
       "      <td>1</td>\n",
       "      <td>32.0</td>\n",
       "      <td>1</td>\n",
       "      <td>0</td>\n",
       "      <td>2630.0</td>\n",
       "      <td>152.0</td>\n",
       "      <td>189</td>\n",
       "      <td>0</td>\n",
       "      <td>False</td>\n",
       "      <td>True</td>\n",
       "      <td>False</td>\n",
       "    </tr>\n",
       "    <tr>\n",
       "      <th>1131518</th>\n",
       "      <td>11504796</td>\n",
       "      <td>0</td>\n",
       "      <td>51</td>\n",
       "      <td>1</td>\n",
       "      <td>28.0</td>\n",
       "      <td>0</td>\n",
       "      <td>1</td>\n",
       "      <td>48443.0</td>\n",
       "      <td>26.0</td>\n",
       "      <td>274</td>\n",
       "      <td>1</td>\n",
       "      <td>True</td>\n",
       "      <td>False</td>\n",
       "      <td>False</td>\n",
       "    </tr>\n",
       "    <tr>\n",
       "      <th>1131519</th>\n",
       "      <td>11504797</td>\n",
       "      <td>1</td>\n",
       "      <td>25</td>\n",
       "      <td>1</td>\n",
       "      <td>28.0</td>\n",
       "      <td>1</td>\n",
       "      <td>0</td>\n",
       "      <td>32855.0</td>\n",
       "      <td>152.0</td>\n",
       "      <td>189</td>\n",
       "      <td>0</td>\n",
       "      <td>False</td>\n",
       "      <td>True</td>\n",
       "      <td>False</td>\n",
       "    </tr>\n",
       "  </tbody>\n",
       "</table>\n",
       "<p>11504798 rows × 14 columns</p>\n",
       "</div>"
      ],
      "text/plain": [
       "               0   1   2   3     4   5   6        7      8    9   10     11  \\\n",
       "0               0   1  21   1  35.0   0   1  65101.0  124.0  187   0   True   \n",
       "1               1   1  43   1  28.0   0   1  58911.0   26.0  288   1  False   \n",
       "2               2   0  25   1  14.0   1   0  38043.0  152.0  254   0  False   \n",
       "3               3   0  35   1   1.0   0   1   2630.0  156.0   76   0   True   \n",
       "4               4   0  36   1  15.0   1   0  31951.0  152.0  294   0   True   \n",
       "...           ...  ..  ..  ..   ...  ..  ..      ...    ...  ...  ..    ...   \n",
       "1131515  11504793   1  48   1   6.0   0   1  27412.0   26.0  218   0   True   \n",
       "1131516  11504794   0  26   1  36.0   0   1  29509.0  152.0  115   1  False   \n",
       "1131517  11504795   0  29   1  32.0   1   0   2630.0  152.0  189   0  False   \n",
       "1131518  11504796   0  51   1  28.0   0   1  48443.0   26.0  274   1   True   \n",
       "1131519  11504797   1  25   1  28.0   1   0  32855.0  152.0  189   0  False   \n",
       "\n",
       "            12     13  \n",
       "0        False  False  \n",
       "1        False   True  \n",
       "2         True  False  \n",
       "3        False  False  \n",
       "4        False  False  \n",
       "...        ...    ...  \n",
       "1131515  False  False  \n",
       "1131516   True  False  \n",
       "1131517   True  False  \n",
       "1131518  False  False  \n",
       "1131519   True  False  \n",
       "\n",
       "[11504798 rows x 14 columns]"
      ]
     },
     "execution_count": 21,
     "metadata": {},
     "output_type": "execute_result"
    }
   ],
   "source": [
    "pd.concat([train_df, vehicle_age_one_hot], ignore_index=True, axis=1)"
   ]
  },
  {
   "cell_type": "code",
   "execution_count": 22,
   "id": "e214a5a4",
   "metadata": {
    "execution": {
     "iopub.execute_input": "2024-07-22T14:44:45.415884Z",
     "iopub.status.busy": "2024-07-22T14:44:45.415452Z",
     "iopub.status.idle": "2024-07-22T14:44:45.424633Z",
     "shell.execute_reply": "2024-07-22T14:44:45.423320Z"
    },
    "papermill": {
     "duration": 0.021872,
     "end_time": "2024-07-22T14:44:45.426795",
     "exception": false,
     "start_time": "2024-07-22T14:44:45.404923",
     "status": "completed"
    },
    "tags": []
   },
   "outputs": [
    {
     "data": {
      "text/plain": [
       "id                        int64\n",
       "Gender                    int64\n",
       "Age                       int64\n",
       "Driving_License           int64\n",
       "Region_Code             float64\n",
       "Previously_Insured        int64\n",
       "Vehicle_Damage            int64\n",
       "Annual_Premium          float64\n",
       "Policy_Sales_Channel    float64\n",
       "Vintage                   int64\n",
       "Response                  int64\n",
       "dtype: object"
      ]
     },
     "execution_count": 22,
     "metadata": {},
     "output_type": "execute_result"
    }
   ],
   "source": [
    "train_df.dtypes"
   ]
  },
  {
   "cell_type": "code",
   "execution_count": null,
   "id": "661ca30e",
   "metadata": {
    "papermill": {
     "duration": 0.009663,
     "end_time": "2024-07-22T14:44:45.447264",
     "exception": false,
     "start_time": "2024-07-22T14:44:45.437601",
     "status": "completed"
    },
    "tags": []
   },
   "outputs": [],
   "source": []
  }
 ],
 "metadata": {
  "kaggle": {
   "accelerator": "none",
   "dataSources": [
    {
     "databundleVersionId": 8930475,
     "sourceId": 73291,
     "sourceType": "competition"
    }
   ],
   "dockerImageVersionId": 30746,
   "isGpuEnabled": false,
   "isInternetEnabled": true,
   "language": "python",
   "sourceType": "notebook"
  },
  "kernelspec": {
   "display_name": "Python 3",
   "language": "python",
   "name": "python3"
  },
  "language_info": {
   "codemirror_mode": {
    "name": "ipython",
    "version": 3
   },
   "file_extension": ".py",
   "mimetype": "text/x-python",
   "name": "python",
   "nbconvert_exporter": "python",
   "pygments_lexer": "ipython3",
   "version": "3.10.13"
  },
  "papermill": {
   "default_parameters": {},
   "duration": 162.384561,
   "end_time": "2024-07-22T14:44:46.279735",
   "environment_variables": {},
   "exception": null,
   "input_path": "__notebook__.ipynb",
   "output_path": "__notebook__.ipynb",
   "parameters": {},
   "start_time": "2024-07-22T14:42:03.895174",
   "version": "2.5.0"
  }
 },
 "nbformat": 4,
 "nbformat_minor": 5
}
