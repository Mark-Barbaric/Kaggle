{
 "cells": [
  {
   "cell_type": "markdown",
   "metadata": {},
   "source": [
    "# Binary Classification of Insurance Selling - Model Selection\n",
    "\n",
    "The aim of this workbook is to build on the previous workbook in order to improve the roc_auc score achieved.\n",
    "\n",
    "url: https://www.kaggle.com/competitions/playground-series-s4e7/overview\n",
    "\n",
    "I intend to train multiple different models using the same preprocessing and upsampling techniques outlined in the first workbook."
   ]
  },
  {
   "cell_type": "markdown",
   "metadata": {},
   "source": []
  }
 ],
 "metadata": {
  "language_info": {
   "name": "python"
  }
 },
 "nbformat": 4,
 "nbformat_minor": 2
}
